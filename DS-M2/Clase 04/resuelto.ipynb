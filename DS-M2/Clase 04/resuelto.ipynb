{
 "cells": [
  {
   "cell_type": "code",
   "execution_count": 3,
   "metadata": {},
   "outputs": [],
   "source": [
    "import numpy as np # importando numpy\n",
    "from scipy import stats # importando scipy.stats\n",
    "import pandas as pd\n",
    "import matplotlib.pyplot as plt # importando matplotlib\n",
    "import seaborn as sns # importando seaborn\n"
   ]
  },
  {
   "cell_type": "code",
   "execution_count": 6,
   "metadata": {},
   "outputs": [],
   "source": [
    "muestra = np.array( [[1.85, 1.80, 1.8 , 1.8],\n",
    "       [1.73,  1.7, 1.75, 1.76],\n",
    "       [ 1.65, 1.69,  1.67 ,  1.6],\n",
    "       [1.54,  1.57, 1.58, 1.59],\n",
    "       [ 1.4 , 1.42,  1.45, 1.48]])"
   ]
  },
  {
   "cell_type": "code",
   "execution_count": 17,
   "metadata": {},
   "outputs": [
    {
     "name": "stdout",
     "output_type": "stream",
     "text": [
      "Media\n",
      "1.6415\n",
      "1.6415\n"
     ]
    }
   ],
   "source": [
    "print('Media')\n",
    "print(muestra.mean())\n",
    "print(np.mean(muestra))"
   ]
  },
  {
   "cell_type": "code",
   "execution_count": 7,
   "metadata": {},
   "outputs": [
    {
     "name": "stdout",
     "output_type": "stream",
     "text": [
      "Mediana\n",
      "1.66\n",
      "[[1.8  1.8  1.8  1.85]\n",
      " [1.7  1.73 1.75 1.76]\n",
      " [1.6  1.65 1.67 1.69]\n",
      " [1.54 1.57 1.58 1.59]\n",
      " [1.4  1.42 1.45 1.48]]\n"
     ]
    }
   ],
   "source": [
    "print('Mediana')\n",
    "print(np.median(muestra))\n",
    "ordenado = np.sort(muestra)\n",
    "print(ordenado)"
   ]
  },
  {
   "cell_type": "code",
   "execution_count": 15,
   "metadata": {},
   "outputs": [
    {
     "name": "stdout",
     "output_type": "stream",
     "text": [
      "Moda\n",
      "ModeResult(mode=array([1.8]), count=array([3]))\n",
      "[1.8]\n"
     ]
    },
    {
     "data": {
      "text/plain": [
       "1.8"
      ]
     },
     "execution_count": 15,
     "metadata": {},
     "output_type": "execute_result"
    }
   ],
   "source": [
    "print('Moda')\n",
    "print(stats.mode(muestra[0]))\n",
    "muestra_flat = muestra.flatten()\n",
    "print(stats.mode(muestra_flat)[0])\n",
    "#print(np.)\n",
    "def obtenerModa(arreglo):\n",
    "    numeros = [valor for fila in arreglo for valor in fila]\n",
    "    unicos = []\n",
    "    for num in numeros:\n",
    "        if num not in unicos: unicos.append(num)\n",
    "    moda = 0\n",
    "    for numero1 in unicos:\n",
    "        conteo = numeros.count(numero1)\n",
    "        if conteo > moda: moda = numero1\n",
    "    return moda\n",
    "\n",
    "obtenerModa(muestra)"
   ]
  },
  {
   "cell_type": "code",
   "execution_count": 27,
   "metadata": {},
   "outputs": [
    {
     "name": "stdout",
     "output_type": "stream",
     "text": [
      "Varianza\n",
      "0.017642750000000006\n"
     ]
    }
   ],
   "source": [
    "print('Varianza')\n",
    "print(np.var(muestra))"
   ]
  },
  {
   "cell_type": "code",
   "execution_count": 19,
   "metadata": {},
   "outputs": [
    {
     "name": "stdout",
     "output_type": "stream",
     "text": [
      "Muestra 1\n",
      "[1.85 1.8  1.8  1.8  1.73 1.7  1.75 1.76 1.65 1.69 1.67 1.6  1.54 1.57\n",
      " 1.58 1.59 1.4  1.42 1.45 1.48]\n",
      "Muestra 2\n",
      "[1.85, 1.8, 1.8, 1.8, 1.73, 1.7, 1.75, 1.76, 1.65, 1.69, 1.67, 1.6, 1.54, 1.57, 1.58, 1.59, 1.4, 1.42, 1.45, 1.48]\n",
      "Frecuencias, Extremos\n",
      "Muestra 2\n",
      "[4 2 4 5 5] [1.4  1.49 1.58 1.67 1.76 1.85]\n",
      "Muestra 1\n",
      "[4 2 4 5 5] [1.4  1.49 1.58 1.67 1.76 1.85]\n"
     ]
    },
    {
     "data": {
      "image/png": "[encoded data removed]",
      "text/plain": [
       "<Figure size 432x288 with 1 Axes>"
      ]
     },
     "metadata": {
      "needs_background": "light"
     },
     "output_type": "display_data"
    }
   ],
   "source": [
    "muestra2 = [1.85, 1.80, 1.8 , 1.8, 1.73,  1.7, 1.75, 1.76, 1.65, 1.69,  1.67 ,  1.6, 1.54,  1.57, 1.58, 1.59, 1.4 , 1.42,  1.45, 1.48]\n",
    "muestra1 = muestra.flatten()\n",
    "print('Muestra 1')\n",
    "print(muestra1)\n",
    "print('Muestra 2')\n",
    "print(muestra2)\n",
    "\n",
    "print('Frecuencias, Extremos')\n",
    "frecuencias, extremos = np.histogram(muestra2, bins=5)\n",
    "print('Muestra 2')\n",
    "print(frecuencias, extremos)\n",
    "\n",
    "print('Muestra 1')\n",
    "frecuencias1, extremos1 = np.histogram(muestra2, bins=5)\n",
    "print(frecuencias1, extremos1)\n",
    "\n",
    "\n",
    "\n",
    "plt.hist(x=muestra1, bins=5, color='#F2AB6D', rwidth=0.85)\n",
    "plt.title('Histograma de altura')\n",
    "plt.xlabel('Altura')\n",
    "plt.ylabel('Frecuencia')\n",
    "plt.show() "
   ]
  },
  {
   "cell_type": "code",
   "execution_count": 17,
   "metadata": {},
   "outputs": [
    {
     "name": "stdout",
     "output_type": "stream",
     "text": [
      "[4 2 4 5 5] [1.4  1.49 1.58 1.67 1.76 1.85]\n"
     ]
    }
   ],
   "source": [
    "frecuencias, extremos = np.histogram(muestra, bins=5)\n",
    "print(frecuencias, extremos)"
   ]
  },
  {
   "cell_type": "code",
   "execution_count": 53,
   "metadata": {},
   "outputs": [
    {
     "name": "stdout",
     "output_type": "stream",
     "text": [
      "    Ingreso en miles  Años de estudio\n",
      "1               10.5             17.0\n",
      "2                6.8             18.0\n",
      "3               20.7             21.0\n",
      "4               18.2             16.0\n",
      "5                8.6             16.0\n",
      "6               25.8             21.0\n",
      "7               22.2             16.0\n",
      "8                5.9             14.0\n",
      "9                7.6             18.0\n",
      "10              11.8             18.0\n",
      "       Ingreso en miles  Años de estudio\n",
      "count         10.000000        10.000000\n",
      "mean          13.810000        17.500000\n",
      "std            7.251889         2.223611\n",
      "min            5.900000        14.000000\n",
      "25%            7.850000        16.000000\n",
      "50%           11.150000        17.500000\n",
      "75%           20.075000        18.000000\n",
      "max           25.800000        21.000000\n"
     ]
    },
    {
     "data": {
      "image/png": "[encoded data removed]",
      "text/plain": [
       "<Figure size 432x288 with 1 Axes>"
      ]
     },
     "metadata": {
      "needs_background": "light"
     },
     "output_type": "display_data"
    },
    {
     "data": {
      "image/png": "[encoded data removed]",
      "text/plain": [
       "<Figure size 432x288 with 1 Axes>"
      ]
     },
     "metadata": {
      "needs_background": "light"
     },
     "output_type": "display_data"
    },
    {
     "name": "stdout",
     "output_type": "stream",
     "text": [
      "    Ingreso en miles  Años de estudio\n",
      "1               10.5             17.0\n",
      "2                6.8             18.0\n",
      "3               20.7             21.0\n",
      "4               18.2             16.0\n",
      "5                8.6             16.0\n",
      "6               25.8             21.0\n",
      "7               22.2             16.0\n",
      "8                5.9             14.0\n",
      "9                7.6             18.0\n",
      "10              11.8             18.0\n",
      "11              50.0             35.0\n",
      "       Ingreso en miles  Años de estudio\n",
      "count         11.000000        11.000000\n",
      "mean          17.100000        19.090909\n",
      "std           12.899457         5.682509\n",
      "min            5.900000        14.000000\n",
      "25%            8.100000        16.000000\n",
      "50%           11.800000        18.000000\n",
      "75%           21.450000        19.500000\n",
      "max           50.000000        35.000000\n",
      "       Ingreso en miles  Años de estudio\n",
      "count         12.000000        12.000000\n",
      "mean          25.675000        20.000000\n",
      "std           32.150219         6.266796\n",
      "min            5.900000        14.000000\n",
      "25%            8.350000        16.000000\n",
      "50%           15.000000        18.000000\n",
      "75%           23.100000        21.000000\n",
      "max          120.000000        35.000000\n",
      "Ingreso en miles    25.675\n",
      "dtype: float64\n",
      "13.75\n",
      "Ingreso en miles    11.925\n",
      "dtype: float64\n"
     ]
    }
   ],
   "source": [
    "muestra = np.array( [[1.85, 1.80, 1.8 , 1.8],\n",
    "       [1.73,  1.7, 1.75, 1.76],\n",
    "       [ 1.65, 1.69,  1.67 ,  1.6],\n",
    "       [1.54,  1.57, 1.58, 1.59],\n",
    "       [ 1.4 , 1.42,  1.45, 1.48]]) \n",
    "\n",
    "dataframe = pd.DataFrame(muestra, index=range(1,6), \n",
    "                        columns=['col1','col2','col3','col4'])\n",
    "dataframe.describe()\n",
    "\n",
    "grupos = np.array(  [[10.5, 17],\n",
    "                    [6.8,18], \n",
    "                    [20.7,21], \n",
    "                    [18.2,16], \n",
    "                    [8.6,16], \n",
    "                    [25.8,21], \n",
    "                    [22.2,16],\n",
    "                    [5.9,14], \n",
    "                    [7.6,18], \n",
    "                    [11.8,18]])\n",
    "\n",
    "\n",
    "grupos_df = pd.DataFrame(grupos, index=range(1,11),columns=['Ingreso en miles','Años de estudio'])\n",
    "print(grupos_df)\n",
    "print(grupos_df.describe())\n",
    "\n",
    "plt.hist(x=grupos_df[['Ingreso en miles']], bins=6, color='#F2AB6D', rwidth=0.85)\n",
    "plt.title('Histograma de Ingresos')\n",
    "plt.xlabel('Ingresos')\n",
    "plt.ylabel('Frecuencia')\n",
    "plt.show() \n",
    "\n",
    "\n",
    "plt.hist(x=grupos_df[['Años de estudio']], bins=6, color='#F2AB6D', rwidth=0.85)\n",
    "plt.title('Histograma de Años de estudio')\n",
    "plt.xlabel('Años de estudio')\n",
    "plt.ylabel('Frecuencia')\n",
    "plt.show() \n",
    "\n",
    "grupos_df.loc[11]=[ 50, 35 ]\n",
    "print(grupos_df)\n",
    "\n",
    "print(grupos_df.describe())\n",
    "\n",
    "grupos_df.loc[12]=[ 120, 30 ]\n",
    "\n",
    "\n",
    "print(grupos_df.describe())\n",
    "\n",
    "print(grupos_df[['Ingreso en miles']].mean())\n",
    "\n",
    "print(np.mean(grupos[0]))\n",
    "\n",
    "diferencia = grupos_df[['Ingreso en miles']].mean() - np.mean(grupos[0])\n",
    "print(diferencia)\n"
   ]
  },
  {
   "cell_type": "markdown",
   "metadata": {},
   "source": [
    "Realizado el práctico"
   ]
  },
  {
   "cell_type": "code",
   "execution_count": 8,
   "metadata": {},
   "outputs": [],
   "source": [
    "muestra_ult = np.array( [[1.85, 1.8, 1.8 , 1.8],\n",
    "                    [1.73,  1.7, 1.75, 1.76],\n",
    "                    [ 1.65, 1.69,  1.67 ,  1.6],\n",
    "                    [1.54,  1.57, 1.58, 1.59],\n",
    "                    [ 1.4 , 1.42,  1.45, 1.48]])"
   ]
  },
  {
   "cell_type": "code",
   "execution_count": 12,
   "metadata": {},
   "outputs": [
    {
     "name": "stdout",
     "output_type": "stream",
     "text": [
      "Media\n",
      "1.6415\n",
      "Mediana\n",
      "1.66\n",
      "Moda\n",
      "ModeResult(mode=array([1.8]), count=array([3]))\n"
     ]
    }
   ],
   "source": [
    "print('Media')\n",
    "print(muestra_ult.mean())\n",
    "print('Mediana')\n",
    "print(np.median(muestra_ult))\n",
    "print('Moda')\n",
    "print(stats.mode(muestra_ult[0]))"
   ]
  },
  {
   "cell_type": "code",
   "execution_count": 20,
   "metadata": {},
   "outputs": [
    {
     "data": {
      "text/html": [
       "<div>\n",
       "<style scoped>\n",
       "    .dataframe tbody tr th:only-of-type {\n",
       "        vertical-align: middle;\n",
       "    }\n",
       "\n",
       "    .dataframe tbody tr th {\n",
       "        vertical-align: top;\n",
       "    }\n",
       "\n",
       "    .dataframe thead th {\n",
       "        text-align: right;\n",
       "    }\n",
       "</style>\n",
       "<table border=\"1\" class=\"dataframe\">\n",
       "  <thead>\n",
       "    <tr style=\"text-align: right;\">\n",
       "      <th></th>\n",
       "      <th>col1</th>\n",
       "      <th>col2</th>\n",
       "      <th>col3</th>\n",
       "      <th>col4</th>\n",
       "    </tr>\n",
       "  </thead>\n",
       "  <tbody>\n",
       "    <tr>\n",
       "      <th>count</th>\n",
       "      <td>5.000000</td>\n",
       "      <td>5.000000</td>\n",
       "      <td>5.000000</td>\n",
       "      <td>5.000000</td>\n",
       "    </tr>\n",
       "    <tr>\n",
       "      <th>mean</th>\n",
       "      <td>1.634000</td>\n",
       "      <td>1.636000</td>\n",
       "      <td>1.650000</td>\n",
       "      <td>1.646000</td>\n",
       "    </tr>\n",
       "    <tr>\n",
       "      <th>std</th>\n",
       "      <td>0.173003</td>\n",
       "      <td>0.145705</td>\n",
       "      <td>0.139463</td>\n",
       "      <td>0.131833</td>\n",
       "    </tr>\n",
       "    <tr>\n",
       "      <th>min</th>\n",
       "      <td>1.400000</td>\n",
       "      <td>1.420000</td>\n",
       "      <td>1.450000</td>\n",
       "      <td>1.480000</td>\n",
       "    </tr>\n",
       "    <tr>\n",
       "      <th>25%</th>\n",
       "      <td>1.540000</td>\n",
       "      <td>1.570000</td>\n",
       "      <td>1.580000</td>\n",
       "      <td>1.590000</td>\n",
       "    </tr>\n",
       "    <tr>\n",
       "      <th>50%</th>\n",
       "      <td>1.650000</td>\n",
       "      <td>1.690000</td>\n",
       "      <td>1.670000</td>\n",
       "      <td>1.600000</td>\n",
       "    </tr>\n",
       "    <tr>\n",
       "      <th>75%</th>\n",
       "      <td>1.730000</td>\n",
       "      <td>1.700000</td>\n",
       "      <td>1.750000</td>\n",
       "      <td>1.760000</td>\n",
       "    </tr>\n",
       "    <tr>\n",
       "      <th>max</th>\n",
       "      <td>1.850000</td>\n",
       "      <td>1.800000</td>\n",
       "      <td>1.800000</td>\n",
       "      <td>1.800000</td>\n",
       "    </tr>\n",
       "  </tbody>\n",
       "</table>\n",
       "</div>"
      ],
      "text/plain": [
       "           col1      col2      col3      col4\n",
       "count  5.000000  5.000000  5.000000  5.000000\n",
       "mean   1.634000  1.636000  1.650000  1.646000\n",
       "std    0.173003  0.145705  0.139463  0.131833\n",
       "min    1.400000  1.420000  1.450000  1.480000\n",
       "25%    1.540000  1.570000  1.580000  1.590000\n",
       "50%    1.650000  1.690000  1.670000  1.600000\n",
       "75%    1.730000  1.700000  1.750000  1.760000\n",
       "max    1.850000  1.800000  1.800000  1.800000"
      ]
     },
     "execution_count": 20,
     "metadata": {},
     "output_type": "execute_result"
    }
   ],
   "source": [
    "muestra = np.array( [[1.85, 1.80, 1.8 , 1.8],\n",
    "       [1.73,  1.7, 1.75, 1.76],\n",
    "       [ 1.65, 1.69,  1.67 ,  1.6],\n",
    "       [1.54,  1.57, 1.58, 1.59],\n",
    "       [ 1.4 , 1.42,  1.45, 1.48]]) \n",
    "\n",
    "dataframe = pd.DataFrame(muestra, index=range(1,6), \n",
    "                        columns=['col1','col2','col3','col4'])\n",
    "dataframe.describe()"
   ]
  },
  {
   "cell_type": "code",
   "execution_count": null,
   "metadata": {},
   "outputs": [],
   "source": [
    "grupos_df.loc[11] = [50,35]\n",
    "grupos_df.loc[12] = [120, 30]"
   ]
  }
 ],
 "metadata": {
  "interpreter": {
   "hash": "ee3e1f49501013ad9e3df1027761c5c707770233718c20a7effc3d79038252e3"
  },
  "kernelspec": {
   "display_name": "Python 3.10.2 64-bit",
   "language": "python",
   "name": "python3"
  },
  "language_info": {
   "codemirror_mode": {
    "name": "ipython",
    "version": 3
   },
   "file_extension": ".py",
   "mimetype": "text/x-python",
   "name": "python",
   "nbconvert_exporter": "python",
   "pygments_lexer": "ipython3",
   "version": "3.10.2"
  },
  "orig_nbformat": 4
 },
 "nbformat": 4,
 "nbformat_minor": 2
}
