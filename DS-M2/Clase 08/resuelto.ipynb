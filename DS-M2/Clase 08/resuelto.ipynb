{
 "cells": [
  {
   "cell_type": "markdown",
   "metadata": {},
   "source": [
    "HomeWork \n",
    "1) a) Afirmación\n",
    "H0 = mu <= 600\n",
    "Ha = mu > 600\n",
    "b) que los clientes gastan menos 600\n",
    "c) que los clientes gastan mas de 600"
   ]
  },
  {
   "cell_type": "markdown",
   "metadata": {},
   "source": [
    "2) a) Investigación\n",
    "H0: mu <= 14\n",
    "Ha: mu > 14\n",
    "b) No hay evidencia de que el método mejore la ventas.\n",
    "c) Hay evidencias de que el plan efectivamente aumenta las ventas.\n"
   ]
  },
  {
   "cell_type": "markdown",
   "metadata": {},
   "source": [
    "3) a) Investigación\n",
    "H0: u <= 56.2 hs\n",
    "Ha: u > 56.2\n",
    "b) Rechazar H0, siendo verdadera (Error Tipo I)\n",
    "c) Aceptar H0, siendo falsa(Error Tipo II)\n"
   ]
  },
  {
   "cell_type": "markdown",
   "metadata": {},
   "source": [
    "4) a) Afirmación\n",
    "H0: mu <= 1\n",
    "Ha: mu > 1\n",
    "b) Rechazar H0, siendo verdadera. El Jugo tenía <=1 (Error Tipo I)\n",
    "c) Aceptar H0, siendo falsa. El jugo tiene > 1 gr de grasa(Error Tipo II)\n"
   ]
  }
 ],
 "metadata": {
  "interpreter": {
   "hash": "ee3e1f49501013ad9e3df1027761c5c707770233718c20a7effc3d79038252e3"
  },
  "kernelspec": {
   "display_name": "Python 3.10.2 64-bit",
   "language": "python",
   "name": "python3"
  },
  "language_info": {
   "name": "python",
   "version": "3.10.2"
  },
  "orig_nbformat": 4
 },
 "nbformat": 4,
 "nbformat_minor": 2
}
