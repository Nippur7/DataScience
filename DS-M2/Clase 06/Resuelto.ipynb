{
 "cells": [
  {
   "cell_type": "markdown",
   "metadata": {},
   "source": [
    "Resuelto en Clases"
   ]
  },
  {
   "cell_type": "code",
   "execution_count": 3,
   "metadata": {},
   "outputs": [
    {
     "name": "stdout",
     "output_type": "stream",
     "text": [
      "P(A | B) = 0.6666666666666667\n",
      "P(B | A) = 0.8\n"
     ]
    }
   ],
   "source": [
    "#punto 1\n",
    "# P(A) = 0.50, P(B) = 0.60 y P(A ∩ B) = 0.40.\n",
    "print('P(A | B) =',0.4/0.6)\n",
    "print('P(B | A) =',0.40/0.5)\n",
    "# P(A ∩ B) = P(A) * P(B) != 0.4"
   ]
  },
  {
   "cell_type": "code",
   "execution_count": null,
   "metadata": {},
   "outputs": [],
   "source": [
    "#punto 2 - P(A) = 0.30,  P(B) = 0.40\n",
    "#P(A ∩ B) = 0\n",
    "#revisión tema. es confuso.\n",
    "#P(A ∩ B) = P(A) = 0.30\n"
   ]
  },
  {
   "cell_type": "code",
   "execution_count": 6,
   "metadata": {},
   "outputs": [
    {
     "name": "stdout",
     "output_type": "stream",
     "text": [
      "0.159375\n",
      "dos ventas consecutivas de autos \"nacionales\" 0.390625\n"
     ]
    }
   ],
   "source": [
    "#punto 3\n",
    "#a) La primera de un comprador de “menos de 40 años” y la segunda de uno de \"entre 40 y 50 años\".\n",
    "#P(<40)*P(entre 40 y 50)\n",
    "print(30/80*34/80)\n",
    "\n",
    "#b)las dos sean de autos \"nacionales\"\n",
    "print('dos ventas consecutivas de autos \"nacionales\"',(50/80)**2)"
   ]
  },
  {
   "cell_type": "code",
   "execution_count": 9,
   "metadata": {},
   "outputs": [
    {
     "name": "stdout",
     "output_type": "stream",
     "text": [
      "0.16139240506329114\n",
      "dos ventas consecutivas de autos \"nacionales\" 0.3876582278481012\n"
     ]
    }
   ],
   "source": [
    "#punto 4 sin reposicion\n",
    "#a) \n",
    "print(30/80*34/79)\n",
    "print('dos ventas consecutivas de autos \"nacionales\"',(50/80)*(49/79))"
   ]
  },
  {
   "cell_type": "code",
   "execution_count": 13,
   "metadata": {},
   "outputs": [
    {
     "name": "stdout",
     "output_type": "stream",
     "text": [
      "0.16139240506329114\n",
      "0.16139240506329114\n"
     ]
    }
   ],
   "source": [
    "#punto 5\n",
    "#a)De un comprador de “menos de 40 años” y de uno de \"entre 40 y 50 años\".\n",
    "#P(<40) y P(entre 40 y 50)\n",
    "print(30/80*34/79)\n",
    "#P(entre 40 y 50) y P(<40)\n",
    "print(34/80*30/79)\n"
   ]
  },
  {
   "cell_type": "code",
   "execution_count": null,
   "metadata": {},
   "outputs": [],
   "source": [
    "#punto 6\n",
    "#a) Con estos datos elabore una tabla de probabilidad conjunta y úsela para responder las preguntas restantes.\n"
   ]
  }
 ],
 "metadata": {
  "interpreter": {
   "hash": "ee3e1f49501013ad9e3df1027761c5c707770233718c20a7effc3d79038252e3"
  },
  "kernelspec": {
   "display_name": "Python 3.10.2 64-bit",
   "language": "python",
   "name": "python3"
  },
  "language_info": {
   "codemirror_mode": {
    "name": "ipython",
    "version": 3
   },
   "file_extension": ".py",
   "mimetype": "text/x-python",
   "name": "python",
   "nbconvert_exporter": "python",
   "pygments_lexer": "ipython3",
   "version": "3.10.2"
  },
  "orig_nbformat": 4
 },
 "nbformat": 4,
 "nbformat_minor": 2
}
