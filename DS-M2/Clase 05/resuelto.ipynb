{
 "cells": [
  {
   "cell_type": "code",
   "execution_count": 3,
   "metadata": {},
   "outputs": [
    {
     "name": "stdout",
     "output_type": "stream",
     "text": [
      "Probabilidad de que compartan una misma fecha de cumpleaños es 0.97\n"
     ]
    }
   ],
   "source": [
    "prob = 1.0\n",
    "asistentes = 50\n",
    "\n",
    "for i in range(asistentes):\n",
    "    prob = prob * (365-i)/365\n",
    "\n",
    "print(\"Probabilidad de que compartan una misma fecha de cumpleaños es {0:.2f}\"\n",
    "      .format(1 - prob))"
   ]
  },
  {
   "cell_type": "code",
   "execution_count": 9,
   "metadata": {},
   "outputs": [
    {
     "name": "stdout",
     "output_type": "stream",
     "text": [
      "Lanzando la moneda 6 veces las cantidad de resultados es  356811923176489970264571492362373784095686656\n"
     ]
    }
   ],
   "source": [
    "# 1- Lanza una moneda al aire 10 veces, ¿cuantos resultados posibles forman parte del espacio muestral?\n",
    "def lanzaMoneda(lanzamientos):\n",
    "    probabilidad = 1/2\n",
    "    prob_lanzam = probabilidad **lanzamientos\n",
    "    return prob_lanzam*100\n",
    "\n",
    "def resultadosMoneda(lanzamientos):\n",
    "    cantEstados = 2\n",
    "    cantResultados = cantEstados ** lanzamientos\n",
    "    return cantResultados\n",
    "\n",
    "\n",
    "lanzaMoneda(1086)\n",
    "print('Lanzando la moneda 6 veces las cantidad de resultados es ',resultadosMoneda(148))"
   ]
  },
  {
   "cell_type": "code",
   "execution_count": 1,
   "metadata": {},
   "outputs": [
    {
     "name": "stdout",
     "output_type": "stream",
     "text": [
      "120\n"
     ]
    }
   ],
   "source": [
    "# 2- En un aeropuerto se tiene a 10 pasajeros esperando en la sala de preembarque, la polícia debe controlar a 3 de ellos. ¿Cuantas combinaciones posibles se pueden obtener?.\n",
    "from scipy.special import factorial\n",
    "import numpy as np\n",
    "import pandas as pd\n",
    "def combinatorio(poblacion, muestra):    \n",
    "    n = factorial(poblacion)\n",
    "    r = factorial(muestra)\n",
    "    return int(n/(factorial(poblacion - muestra)* r))\n",
    "\n",
    "print(combinatorio(10,3))"
   ]
  },
  {
   "cell_type": "code",
   "execution_count": 20,
   "metadata": {},
   "outputs": [
    {
     "name": "stdout",
     "output_type": "stream",
     "text": [
      "1086\n"
     ]
    },
    {
     "data": {
      "text/plain": [
       "858"
      ]
     },
     "execution_count": 20,
     "metadata": {},
     "output_type": "execute_result"
    }
   ],
   "source": [
    "# 3- La Agencia Nacional de Seguridad Vial realizó una investigación para saber si los conductores de están usando sus cinturones de seguridad. Los datos muestrales fueron los siguientes:\n",
    "#Conductores que emplean el cinturón\n",
    "\n",
    "muestra = np.array( [['Region', 'Si','No'],\n",
    "        ['Norte',148,52],\n",
    "        ['Noreste', 162,54],\n",
    "        ['Sur',296,74],        \n",
    "        ['Centro',252,48]])\n",
    "muestra2 = np.matrix([['Region', 'Si','No'],\n",
    "        ['Norte',148,52],\n",
    "        ['Noreste', 162,54],\n",
    "        ['Sur',296,74],        \n",
    "        ['Centro',252,48]])\n",
    "muestra3 = pd.array([['Region', 'Si','No'],\n",
    "        ['Norte',148,52],\n",
    "        ['Noreste', 162,54],\n",
    "        ['Sur',296,74],        \n",
    "        ['Centro',252,48]])\n",
    "\n",
    "def totalMatriz(cabecera,muestra):\n",
    "    suma = 0\n",
    "    if cabecera == True:\n",
    "        for c in range(1,len(muestra)):\n",
    "            for f in range(1,len(muestra[0])):\n",
    "                suma += int(muestra[c][f])\n",
    "    else:\n",
    "        for c in range(0,len(muestra)):\n",
    "            for f in range(0,len(muestra[0])):\n",
    "                suma += int(muestra[c][f])\n",
    "    return suma\n",
    "\n",
    "print(totalMatriz(True,muestra))\n",
    "\n",
    "def totalxColumna(encabezado, columna, matriz):\n",
    "    suma = 0\n",
    "    if encabezado == True:\n",
    "        for f in range(1,len(matriz)):\n",
    "            suma += int(muestra[f][columna])\n",
    "    else:\n",
    "        for f in range(0,len(matriz[columna])):\n",
    "            suma += int(muestra[columna][f])\n",
    "    return suma\n",
    "            \n",
    "totalxColumna(True,1,muestra)\n",
    "\n"
   ]
  },
  {
   "cell_type": "code",
   "execution_count": 21,
   "metadata": {},
   "outputs": [
    {
     "data": {
      "text/plain": [
       "array([['Region', 'Si', 'No', 'Si', 'No'],\n",
       "       ['Norte', '148', '52', '0.14', '0.05'],\n",
       "       ['Noreste', '162', '54', '0.15', '0.05'],\n",
       "       ['Sur', '296', '74', '0.27', '0.07'],\n",
       "       ['Centro', '252', '48', '0.23', '0.04']], dtype='<U11')"
      ]
     },
     "execution_count": 21,
     "metadata": {},
     "output_type": "execute_result"
    }
   ],
   "source": [
    "def agregarProbabilidad(cabecera,matriz):\n",
    "    matrizProb = np.copy(matriz)\n",
    "    mTotal = totalMatriz(cabecera,matriz)\n",
    "    \n",
    "    if cabecera == True:\n",
    "        for c in range(1,len(muestra)):\n",
    "            for f in range(1,len(muestra[0])):\n",
    "                matrizProb[c][f] = round(float(muestra[c][f])/mTotal,2)\n",
    "    else:\n",
    "        for c in range(0,len(muestra)):\n",
    "            for f in range(0,len(muestra[0])):\n",
    "                suma += int(muestra[c][f])\n",
    "    matrizProb = np.delete(matrizProb, 0, axis=1)\n",
    "    matriz = np.concatenate((matriz,matrizProb), axis=1, out=None)\n",
    "    return matriz\n",
    "\n",
    "maitrix = agregarProbabilidad(True,muestra)\n",
    "maitrix"
   ]
  },
  {
   "cell_type": "markdown",
   "metadata": {},
   "source": [
    "Resuelto en clase"
   ]
  },
  {
   "cell_type": "code",
   "execution_count": 18,
   "metadata": {},
   "outputs": [
    {
     "name": "stdout",
     "output_type": "stream",
     "text": [
      "Los resultados posibles son: 1024\n"
     ]
    }
   ],
   "source": [
    "#punto 1\n",
    "cant_veces = int(input(' Ingrese la cantidad de veces a tirar la moneda: '))\n",
    "resultado = 2 ** cant_veces\n",
    "print('Los resultados posibles son:', resultado)"
   ]
  },
  {
   "cell_type": "code",
   "execution_count": 19,
   "metadata": {},
   "outputs": [
    {
     "name": "stdout",
     "output_type": "stream",
     "text": [
      "La combinacion posible es: 120.0\n"
     ]
    }
   ],
   "source": [
    "# punto 2\n",
    "from math import factorial\n",
    "control_aeropuerto = factorial(10)/(factorial(3)*factorial(10-3))\n",
    "print('La combinacion posible es:', control_aeropuerto)"
   ]
  },
  {
   "cell_type": "code",
   "execution_count": null,
   "metadata": {},
   "outputs": [],
   "source": [
    "#punto 3\n",
    "#a) frecuentista\n",
    "#b)\n",
    "cantidad_total_cinturon = 858\n",
    "\n",
    "#e)\n",
    "muestra_total = 1086\n",
    "probabilidades = []\n"
   ]
  },
  {
   "cell_type": "code",
   "execution_count": null,
   "metadata": {},
   "outputs": [],
   "source": [
    "# punto 4\n",
    "def prob_Cartas(categoria):\n",
    "    cantCartas = 52\n",
    "    cantCartasColor = cantCartas/2\n",
    "    cantCartasPalo = cantCartas/4\n",
    "    if categoria == 'rojo' or categoria == 'negro': return cantCartasColor/cantCartas\n",
    "    if categoria in ('pica','trebol','corazón','diamante'): return cantCartasPalo/cantCartas\n",
    "    \n",
    "\n"
   ]
  },
  {
   "cell_type": "code",
   "execution_count": 23,
   "metadata": {},
   "outputs": [
    {
     "name": "stdout",
     "output_type": "stream",
     "text": [
      "0.15384615384615385\n"
     ]
    }
   ],
   "source": [
    "# punto 5\n",
    "cantCartas = 52\n",
    "cantCartasNumero = 4\n",
    "probCarta = cantCartasNumero/cantCartas\n",
    "print(probCarta*2)"
   ]
  },
  {
   "cell_type": "code",
   "execution_count": null,
   "metadata": {},
   "outputs": [],
   "source": [
    "#punto 6\n",
    "1/32\n"
   ]
  },
  {
   "cell_type": "code",
   "execution_count": 24,
   "metadata": {},
   "outputs": [
    {
     "name": "stdout",
     "output_type": "stream",
     "text": [
      "0.4 0.26 0.34\n"
     ]
    }
   ],
   "source": [
    "#punto 7\n",
    "R1 = 20/50\n",
    "R2 = 13/50\n",
    "R3 = 17/50\n",
    "print(R1,R2,R3)"
   ]
  }
 ],
 "metadata": {
  "interpreter": {
   "hash": "ee3e1f49501013ad9e3df1027761c5c707770233718c20a7effc3d79038252e3"
  },
  "kernelspec": {
   "display_name": "Python 3.10.2 64-bit",
   "language": "python",
   "name": "python3"
  },
  "language_info": {
   "codemirror_mode": {
    "name": "ipython",
    "version": 3
   },
   "file_extension": ".py",
   "mimetype": "text/x-python",
   "name": "python",
   "nbconvert_exporter": "python",
   "pygments_lexer": "ipython3",
   "version": "3.10.2"
  },
  "orig_nbformat": 4
 },
 "nbformat": 4,
 "nbformat_minor": 2
}
