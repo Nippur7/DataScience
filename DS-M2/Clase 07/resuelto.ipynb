{
 "cells": [
  {
   "cell_type": "code",
   "execution_count": 77,
   "metadata": {},
   "outputs": [
    {
     "data": {
      "image/png": "[encoded data removed]",
      "text/plain": [
       "<Figure size 432x288 with 1 Axes>"
      ]
     },
     "metadata": {
      "needs_background": "light"
     },
     "output_type": "display_data"
    }
   ],
   "source": [
    "\n",
    "# importando modulos necesarios\n",
    "%matplotlib inline\n",
    "\n",
    "import matplotlib.pyplot as plt\n",
    "import numpy as np \n",
    "from scipy import stats \n",
    "import seaborn as sns \n",
    "\n",
    "np.random.seed(2016) # replicar random\n",
    "\n",
    "# parametros esteticos de seaborn\n",
    "sns.set_palette(\"deep\", desat=.6)\n",
    "sns.set_context(rc={\"figure.figsize\": (8, 4)})\n",
    "\n",
    "# Graficando histograma\n",
    "mu, sigma = 0, 0.2 # media y desvio estandar\n",
    "datos = np.random.normal(mu, sigma, 1000) #creando muestra de datos\n",
    "\n",
    "# histograma de distribución normal.\n",
    "cuenta, cajas, ignorar = plt.hist(datos, 20)\n",
    "plt.ylabel('frequencia')\n",
    "plt.xlabel('valores')\n",
    "plt.title('Histograma')\n",
    "plt.show()\n"
   ]
  },
  {
   "cell_type": "code",
   "execution_count": null,
   "metadata": {},
   "outputs": [],
   "source": [
    "punto01 = [['Edad\\Origen', 'Nacional (N)','Importado (I)', 'Total'],\n",
    "           ['Menos de 40 (<40)',24,6,30],\n",
    "           ['Entre 40 y 50',19,15,34],\n",
    "           ['Más de 50 años (>50)',7,9,16],\n",
    "           ['Total',50,30,80]]\n",
    "punto001 = {'Edad\\Origen':['Menos de 40 (<40)','Entre 40 y 50','Más de 50 años (>50)'],\n",
    "            'Nacional (N)':[24,19,7],\n",
    "            'Importado (I)':[6,15,9]\n",
    "            }\n",
    "\n",
    "df1 = pd.DataFrame(punto001)\n",
    "totalNac = df1.loc[:,['Nacional (N)']].values.sum()\n",
    "totalMenos40 = df1.iloc[0:2,1].values.sum()\n",
    "#df1.loc['Nacional (N)'].sum()\n",
    "totalMenos40_1 = df1.values.sum(axis=1)\n",
    "print(total1)\n",
    "print(totalMenos40_1)"
   ]
  },
  {
   "cell_type": "markdown",
   "metadata": {},
   "source": [
    "Ejercitado en casa"
   ]
  },
  {
   "cell_type": "code",
   "execution_count": 76,
   "metadata": {},
   "outputs": [
    {
     "name": "stdout",
     "output_type": "stream",
     "text": [
      "Resultado de la tirada es Cruz Cruz\n"
     ]
    }
   ],
   "source": [
    "#1-Considera el experimento que consiste en un empleado que arma un producto.\n",
    "#a) discreta\n",
    "\n",
    "#2-Considera el experimento que consiste en lanzar una moneda dos veces.\n",
    "#a) 4\n",
    "#b)\n",
    "resultado = np.random.randint(0,2)\n",
    "if resultado == 0: \n",
    "    res = 'Cara'\n",
    "else:\n",
    "    res = 'Cruz'\n",
    "\n",
    "resultado1 = np.random.randint(0,2)\n",
    "if resultado1 == 0: \n",
    "    res1 = 'Cara'\n",
    "else:\n",
    "    res1 = 'Cruz'\n",
    "\n",
    "print('Resultado de la tirada es',res,res1)\n"
   ]
  },
  {
   "cell_type": "code",
   "execution_count": 94,
   "metadata": {},
   "outputs": [
    {
     "name": "stdout",
     "output_type": "stream",
     "text": [
      "La probabilidad de que 2 de los próx 3 clientes realicen una compra es de: 0.189\n"
     ]
    }
   ],
   "source": [
    "#3-Considera las decisiones de compra de los próximos tres clientes que lleguen a la tienda de ropa Martin Clothing Store.\n",
    "# a) si\n",
    "\n",
    "p =  0.3 # parametro de forma \n",
    "k = 2\n",
    "n = 3\n",
    "from math import factorial\n",
    "\n",
    "def funcion_binomial(k,n,p):\n",
    "\n",
    "    num_exitos = factorial(n) #Factorial de la cantidad de casos de éxito buscados.\n",
    "    num_eventos = factorial (k) * factorial(n-k) #Factorial del espacio muestral.\n",
    "    exitos_fracaso=pow(p,k) * pow(1-p,(n-k)) # Probabilidad de exitos y fracasos.\n",
    "\n",
    "    binomial = (num_exitos / num_eventos) * exitos_fracaso #Aplicación de la función binomial.\n",
    "\n",
    "    return binomial\n",
    "\n",
    "print('La probabilidad de que 2 de los próx 3 clientes realicen una compra es de:',funcion_binomial(k,n,p))\n",
    "#\n"
   ]
  },
  {
   "cell_type": "code",
   "execution_count": 95,
   "metadata": {},
   "outputs": [
    {
     "name": "stdout",
     "output_type": "stream",
     "text": [
      "La probabilidad de que 4  de los próx 10 clientes realicen una compra es de: 0.20012094899999994\n"
     ]
    }
   ],
   "source": [
    "#c) \n",
    "k=4\n",
    "n=10\n",
    "print('La probabilidad de que', k,' de los próx', n, 'clientes realicen una compra es de:',funcion_binomial(k,n,p))"
   ]
  },
  {
   "cell_type": "code",
   "execution_count": 99,
   "metadata": {},
   "outputs": [
    {
     "name": "stdout",
     "output_type": "stream",
     "text": [
      "la probabilidad de recibir cinco llamadas en un lapso de 5 minutos.  es  0.15629345185053173\n"
     ]
    }
   ],
   "source": [
    "# punto 4 Poisson\n",
    "from math import e,factorial\n",
    "def probabilidad_poisson(lamba_np,x):\n",
    "     probabilidad = (pow(e,-lamba_np) * pow(lamba_np,x))/factorial(x)\n",
    "     return probabilidad\n",
    "\n",
    "#a) Calcule la probabilidad de recibir cinco llamadas en un lapso de 5 minutos.\n",
    "mu = 48/60*5 \n",
    "x = 5\n",
    "respuesta = 'la probabilidad de recibir cinco llamadas en un lapso de 5 minutos.'\n",
    "print(respuesta,' es ',probabilidad_poisson(mu,x))"
   ]
  },
  {
   "cell_type": "code",
   "execution_count": 100,
   "metadata": {},
   "outputs": [
    {
     "name": "stdout",
     "output_type": "stream",
     "text": [
      " la probabilidad de recibir exactamente 10 llamadas en un lapso de 15 minutos.  es  0.1048372558836594\n"
     ]
    }
   ],
   "source": [
    "# b) \n",
    "mu = 48/60*15 \n",
    "x = 10\n",
    "respuesta = ' la probabilidad de recibir exactamente 10 llamadas en un lapso de 15 minutos.'\n",
    "print(respuesta,' es ',probabilidad_poisson(mu,x))"
   ]
  },
  {
   "cell_type": "code",
   "execution_count": 119,
   "metadata": {},
   "outputs": [
    {
     "name": "stdout",
     "output_type": "stream",
     "text": [
      " la probabilidad de recibir exactamente 1 llamadas en un lapso de 5 minutos.  es  0.21772308789459\n"
     ]
    }
   ],
   "source": [
    "#c)\n",
    "mu = 48/60*3 \n",
    "x = 1\n",
    "respuesta = ' la probabilidad de recibir exactamente 1 llamadas en un lapso de 5 minutos.'\n",
    "print(respuesta,' es ',probabilidad_poisson(mu,x))"
   ]
  },
  {
   "cell_type": "code",
   "execution_count": 128,
   "metadata": {},
   "outputs": [
    {
     "name": "stdout",
     "output_type": "stream",
     "text": [
      "<function probabilidad_hipergeometrica at 0x00000200C11A5F30>\n"
     ]
    }
   ],
   "source": [
    "from math import factorial\n",
    "\n",
    "N,X,n,x= 80,30,9,2\n",
    "def probabilidad_hipergeometrica(N,X,n,x):\n",
    "  Xx = factorial(X)/(factorial(x)*factorial(X-x))\n",
    "  NX_nx= factorial(N-X)/(factorial(n-x)*factorial((N-X)-(n-x)))\n",
    "  Nn = factorial(N)/(factorial(n)*factorial(N-n))\n",
    "  hipergeometrica = (Xx * NX_nx)/Nn\n",
    "\n",
    "  return hipergeometrica\n",
    "\n",
    "print(probabilidad_hipergeometrica)\n"
   ]
  },
  {
   "cell_type": "markdown",
   "metadata": {},
   "source": [
    "Resuelto en Clases"
   ]
  },
  {
   "cell_type": "code",
   "execution_count": 121,
   "metadata": {},
   "outputs": [],
   "source": [
    "#punto 1\n",
    "# x= tiempo requerido para armar el producto\n",
    "#cualquier valor x > 0\n",
    "#continuo\n",
    "\n",
    "#punto 2\n",
    "h = 'cara'\n",
    "t= 'cruz'\n",
    "resultados = {\n",
    "    1: [h,h],\n",
    "    2:[h,t],\n",
    "    3:[t,h],\n",
    "    4:[t,t]\n",
    "}\n",
    "\n",
    "#x= cantidad de caras de los dos lanzamientos\n",
    "\n",
    "resultados = {\n",
    "    1: [[h,h],2],\n",
    "    2:[[h,t,1]],\n",
    "    3:[[t,h],1],\n",
    "    4:[[t,t], 0]\n",
    "}\n"
   ]
  },
  {
   "cell_type": "code",
   "execution_count": null,
   "metadata": {},
   "outputs": [],
   "source": [
    "# punto 3\n",
    "print(funcion_binomial())"
   ]
  },
  {
   "cell_type": "code",
   "execution_count": 126,
   "metadata": {},
   "outputs": [
    {
     "name": "stdout",
     "output_type": "stream",
     "text": [
      "0.15629345185053173\n",
      "0.1048372558836594\n",
      "0.018315638888734186\n",
      "0.09071795328941253\n"
     ]
    }
   ],
   "source": [
    "# punto 4\n",
    "print(probabilidad_poisson(4,5)) #48 llamadas en 60 minutos\n",
    "print(probabilidad_poisson(12,10))\n",
    "print(probabilidad_poisson(4,0))\n",
    "#c 4 llamadas en espera\n",
    "print(probabilidad_poisson(2.4,0))\n"
   ]
  },
  {
   "cell_type": "code",
   "execution_count": 131,
   "metadata": {},
   "outputs": [
    {
     "data": {
      "text/plain": [
       "0.8166666666666667"
      ]
     },
     "execution_count": 131,
     "metadata": {},
     "output_type": "execute_result"
    }
   ],
   "source": [
    "#5\n",
    "#a)\n",
    "probabilidad_hipergeometrica(10,7,3,2)\n",
    "\n",
    "probabilidad_hipergeometrica(10,7,3,2) + probabilidad_hipergeometrica(10,7,3,3)\n",
    "\n",
    "1- probabilidad_hipergeometrica(10,7,3,0) - probabilidad_hipergeometrica(10,7,3,1)\n"
   ]
  },
  {
   "cell_type": "code",
   "execution_count": 132,
   "metadata": {},
   "outputs": [
    {
     "data": {
      "text/plain": [
       "0.20012094900000005"
      ]
     },
     "execution_count": 132,
     "metadata": {},
     "output_type": "execute_result"
    }
   ],
   "source": [
    "#punto 6\n",
    "funcion_binomial(6,10,0.7)"
   ]
  },
  {
   "cell_type": "code",
   "execution_count": 134,
   "metadata": {},
   "outputs": [
    {
     "data": {
      "text/plain": [
       "0.9470278620000001"
      ]
     },
     "execution_count": 134,
     "metadata": {},
     "output_type": "execute_result"
    }
   ],
   "source": [
    "#punto 7\n",
    "funcion_binomial(7,9,0.9)+funcion_binomial(8,9,0.9) + funcion_binomial(9,9,0.9)"
   ]
  },
  {
   "cell_type": "code",
   "execution_count": 135,
   "metadata": {},
   "outputs": [
    {
     "data": {
      "text/plain": [
       "0.09007922571921602"
      ]
     },
     "execution_count": 135,
     "metadata": {},
     "output_type": "execute_result"
    }
   ],
   "source": [
    "# punto 9\n",
    "probabilidad_poisson(10,7)"
   ]
  },
  {
   "cell_type": "code",
   "execution_count": 138,
   "metadata": {},
   "outputs": [
    {
     "data": {
      "text/plain": [
       "0.10444486295705402"
      ]
     },
     "execution_count": 138,
     "metadata": {},
     "output_type": "execute_result"
    }
   ],
   "source": [
    "#punto 10\n",
    "probabilidad_poisson(5,7)"
   ]
  },
  {
   "cell_type": "code",
   "execution_count": 1,
   "metadata": {},
   "outputs": [
    {
     "name": "stdout",
     "output_type": "stream",
     "text": [
      "0.48\n"
     ]
    }
   ],
   "source": [
    "#punto 11\n",
    "x = 90\n",
    "mu = 78\n",
    "sigma = 25\n",
    "z = (x-mu)/ sigma\n",
    "print(z)"
   ]
  },
  {
   "cell_type": "markdown",
   "metadata": {},
   "source": [
    "p >= 90 = 0.361"
   ]
  }
 ],
 "metadata": {
  "interpreter": {
   "hash": "ee3e1f49501013ad9e3df1027761c5c707770233718c20a7effc3d79038252e3"
  },
  "kernelspec": {
   "display_name": "Python 3.10.2 64-bit",
   "language": "python",
   "name": "python3"
  },
  "language_info": {
   "codemirror_mode": {
    "name": "ipython",
    "version": 3
   },
   "file_extension": ".py",
   "mimetype": "text/x-python",
   "name": "python",
   "nbconvert_exporter": "python",
   "pygments_lexer": "ipython3",
   "version": "3.10.2"
  },
  "orig_nbformat": 4
 },
 "nbformat": 4,
 "nbformat_minor": 2
}
