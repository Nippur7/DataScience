{
 "cells": [
  {
   "cell_type": "code",
   "execution_count": 20,
   "metadata": {},
   "outputs": [
    {
     "name": "stdout",
     "output_type": "stream",
     "text": [
      "0    1    2     \n",
      "['HEBER', 'JONI', 'SANTANA']\n",
      "0    1     \n",
      "['ANA', 'SAPRIZA']\n",
      "0    1    2     \n",
      "['FERNANDO', 'LUIS', 'SARALEGUI']\n",
      "0    1     \n",
      "['MANUELA', 'SARASOLA']\n"
     ]
    },
    {
     "ename": "IndexError",
     "evalue": "list index out of range",
     "output_type": "error",
     "traceback": [
      "\u001b[1;31m---------------------------------------------------------------------------\u001b[0m",
      "\u001b[1;31mIndexError\u001b[0m                                Traceback (most recent call last)",
      "\u001b[1;32mc:\\Users\\tonym\\OneDrive\\Documentos\\Henry\\Data Science\\DS-M3\\Clase 02\\separar.ipynb Cell 1'\u001b[0m in \u001b[0;36m<module>\u001b[1;34m\u001b[0m\n\u001b[0;32m     <a href='vscode-notebook-cell:/c%3A/Users/tonym/OneDrive/Documentos/Henry/Data%20Science/DS-M3/Clase%2002/separar.ipynb#ch0000000?line=23'>24</a>\u001b[0m     \u001b[39mprint\u001b[39m(j)\n\u001b[0;32m     <a href='vscode-notebook-cell:/c%3A/Users/tonym/OneDrive/Documentos/Henry/Data%20Science/DS-M3/Clase%2002/separar.ipynb#ch0000000?line=24'>25</a>\u001b[0m     res \u001b[39m=\u001b[39m \u001b[39mint\u001b[39m(\u001b[39minput\u001b[39m(\u001b[39m'\u001b[39m\u001b[39mContando de Izq a der y comenzando en 0 cual es la posicion del apellido?\u001b[39m\u001b[39m'\u001b[39m))\n\u001b[1;32m---> <a href='vscode-notebook-cell:/c%3A/Users/tonym/OneDrive/Documentos/Henry/Data%20Science/DS-M3/Clase%2002/separar.ipynb#ch0000000?line=25'>26</a>\u001b[0m     apellidos\u001b[39m.\u001b[39mappend([i,j[res]])\n\u001b[0;32m     <a href='vscode-notebook-cell:/c%3A/Users/tonym/OneDrive/Documentos/Henry/Data%20Science/DS-M3/Clase%2002/separar.ipynb#ch0000000?line=26'>27</a>\u001b[0m     j\u001b[39m.\u001b[39mpop(res)\n\u001b[0;32m     <a href='vscode-notebook-cell:/c%3A/Users/tonym/OneDrive/Documentos/Henry/Data%20Science/DS-M3/Clase%2002/separar.ipynb#ch0000000?line=27'>28</a>\u001b[0m \u001b[39mprint\u001b[39m(j)\n",
      "\u001b[1;31mIndexError\u001b[0m: list index out of range"
     ]
    }
   ],
   "source": [
    "import pandas as pd\n",
    "import sys\n",
    "df = pd.read_csv('C:/Users/tonym/OneDrive/Documentos/Henry/Data Science/DS-M3/Clase 01/Homework/Clientes.csv', sep=';')\n",
    "#df\n",
    "#NyA = df['Nombre_y_Apellido'].str.split(' ',-1,expand=True)\n",
    "#NyA.info()\n",
    "NyA = df['Nombre_y_Apellido'].str.split()\n",
    "#NyA[3405][2]\n",
    "\n",
    "type(NyA)\n",
    "\n",
    "#df.info()\n",
    "#NyA.iloc[:,[5]]\n",
    "#ap55 = NyA.loc[:,5] == None\n",
    "#ap55\n",
    "#dfap5 = NyA.loc[ap55]\n",
    "#dfap5.info()\n",
    "apellidos = []\n",
    "for i,j in enumerate(NyA):    \n",
    "    #print(i,j[len(j)-1]) es la solucion\n",
    "    for x in range(0,len(j)):\n",
    "        sys.stdout.write(str(x)+'    ')\n",
    "    print(' ')\n",
    "    print(j)\n",
    "    res = int(input('Contando de Izq a der y comenzando en 0 cual es la posicion del apellido?'))\n",
    "    apellidos.append([i,j[res]])\n",
    "    j.pop(res)\n",
    "print(j)\n",
    "print(apellidos)\n",
    "\n",
    "    #for k in reversed(j):\n",
    "        #type(k)\n",
    "    #    print(k)\n"
   ]
  }
 ],
 "metadata": {
  "interpreter": {
   "hash": "ee3e1f49501013ad9e3df1027761c5c707770233718c20a7effc3d79038252e3"
  },
  "kernelspec": {
   "display_name": "Python 3.10.2 64-bit",
   "language": "python",
   "name": "python3"
  },
  "language_info": {
   "codemirror_mode": {
    "name": "ipython",
    "version": 3
   },
   "file_extension": ".py",
   "mimetype": "text/x-python",
   "name": "python",
   "nbconvert_exporter": "python",
   "pygments_lexer": "ipython3",
   "version": "3.10.2"
  },
  "orig_nbformat": 4
 },
 "nbformat": 4,
 "nbformat_minor": 2
}
