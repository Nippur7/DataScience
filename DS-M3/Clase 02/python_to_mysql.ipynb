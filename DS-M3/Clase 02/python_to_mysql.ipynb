{
 "cells": [
  {
   "cell_type": "markdown",
   "metadata": {},
   "source": [
    "Para poder usar el siguiente código se debe crear una usuario oculto:<br>\n",
    "* Abres My SQL command Line Client<br>\n",
    "* Ingresas <b style=\"color:#ff7d00\">CREATE USER 'nuevo_usuario'@'localhost' IDENTIFIED BY 'contraseña';</b> donde <b style=\"color:#ff7d00;\">'nuevo usuario'</b> es el nombre de usario que deseas utilizar y <b style=\"color:#ff7d00;\">'contrseña'</b> es la contraseña que usas para las conecciones con las bases de datos.\n",
    "* Otorgas los permisos al nuevo usuario con: <b style=\"color:#ff7d00;\">GRANT ALL PRIVILEGES ON * . * TO 'nuevo_usuario'@'localhost';</b> Recuerde reemplazar el nombre del usuario.\n",
    "* Terminas con la linea <b style=\"color:#ff7d00;\">FLUSH PRIVILEGES;</b>\n"
   ]
  },
  {
   "cell_type": "code",
   "execution_count": 1,
   "metadata": {},
   "outputs": [],
   "source": [
    "from pandas.io import sql\n",
    "import pandas as pd\n",
    "import sqlalchemy as db\n",
    "from datetime import datetime, date\n",
    "import numpy as np\n",
    "from scipy import stats\n",
    "import pymysql"
   ]
  },
  {
   "cell_type": "markdown",
   "metadata": {},
   "source": [
    "Puesdes cargar un csv"
   ]
  },
  {
   "cell_type": "code",
   "execution_count": 30,
   "metadata": {},
   "outputs": [],
   "source": [
    "data=pd.read_csv('Homework\\CanalDeVenta.csv')"
   ]
  },
  {
   "cell_type": "markdown",
   "metadata": {},
   "source": [
    "O puedes cargar un archivo de excel"
   ]
  },
  {
   "cell_type": "code",
   "execution_count": 31,
   "metadata": {},
   "outputs": [],
   "source": [
    "data=pd.read_excel('Homework\\CanalDeVenta.xlsx')"
   ]
  },
  {
   "cell_type": "code",
   "execution_count": 28,
   "metadata": {},
   "outputs": [],
   "source": [
    "database_username='nuevo_usuario' # Nomre del cliente oculto (para WorkBench) que has creado\n",
    "database_password='contraseña'\n",
    "database_ip='localhost'\n",
    "database_name='m3_tarea1'\n",
    "database_conection=db.create_engine(f'mysql+pymysql://{database_username}:{database_password}@{database_ip}/{database_name}')\n",
    "coneccion=database_conection.connect()\n",
    "metadata=db.MetaData()\n"
   ]
  },
  {
   "cell_type": "code",
   "execution_count": 25,
   "metadata": {},
   "outputs": [
    {
     "data": {
      "text/plain": [
       "3"
      ]
     },
     "execution_count": 25,
     "metadata": {},
     "output_type": "execute_result"
    }
   ],
   "source": [
    "data.to_sql('canaldeventa',coneccion)"
   ]
  },
  {
   "cell_type": "code",
   "execution_count": 14,
   "metadata": {},
   "outputs": [
    {
     "data": {
      "text/plain": [
       "0"
      ]
     },
     "execution_count": 14,
     "metadata": {},
     "output_type": "execute_result"
    }
   ],
   "source": [
    "import os\n",
    "os.system('pip install cryptography')"
   ]
  }
 ],
 "metadata": {
  "interpreter": {
   "hash": "45e2e186b83fae5600f279aff39b9b31db88e58868fc04a60be037eb2c4bfa89"
  },
  "kernelspec": {
   "display_name": "Python 3.10.4 64-bit",
   "language": "python",
   "name": "python3"
  },
  "language_info": {
   "codemirror_mode": {
    "name": "ipython",
    "version": 3
   },
   "file_extension": ".py",
   "mimetype": "text/x-python",
   "name": "python",
   "nbconvert_exporter": "python",
   "pygments_lexer": "ipython3",
   "version": "3.10.4"
  },
  "orig_nbformat": 4
 },
 "nbformat": 4,
 "nbformat_minor": 2
}
