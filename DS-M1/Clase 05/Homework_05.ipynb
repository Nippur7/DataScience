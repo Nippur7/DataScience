{
 "cells": [
  {
   "cell_type": "markdown",
   "metadata": {},
   "source": [
    "# Práctica Clase 5"
   ]
  },
  {
   "cell_type": "markdown",
   "metadata": {},
   "source": [
    "1) Implementar un juego, que consista en apilar números enteros del 1 al 20, de forma aleatoria, para lo cual debe usarse una estructura de Pila. \n",
    "Luego, el usuario debe elegir un número de veces en que se va a quitar elementos de la pila, los cuales, sumados entre sí, no deben superar el valor de 50.\n",
    "El usuario pierde si la suma supera ese valor. Si no lo supera, gana, pero su calificación será 10 menos el número elementos que falten quitar para todavía no superar 50.\n",
    "El programa debe informar si perdió, y si ganó, con qué calificación lo hizo.\n",
    "\n",
    "Consideraciones:<br>\n",
    "a. Se puede usar la función input() para obtener una entrada de teclado.<br>\n",
    "b. Se puede usar la el modulo random para obtener valores aleatorios."
   ]
  },
  {
   "cell_type": "code",
   "execution_count": 31,
   "metadata": {},
   "outputs": [],
   "source": [
    "import random\n",
    "\n",
    "class JuegoPila:\n",
    "    def __init__(self):\n",
    "        self.__lista = []\n",
    "\n",
    "    def crearPila(self):\n",
    "        self.__lista = random.sample(range(1,21),20)\n",
    "        return(self.__lista)\n",
    "    \n",
    "    def jugar(self):\n",
    "        self.crearPila()\n",
    "        nro = input(\"Ingresar la cantidad de números a quitar de la pila: \")\n",
    "        while True:            \n",
    "            if not nro.isdecimal():\n",
    "                nro = input(\"Ingresar la cantidad de números a quitar de la pila, nuevamente sólo números: \")\n",
    "            else:\n",
    "                nro = int(nro)\n",
    "                if nro <= len(self.__lista): break\n",
    "                else: \n",
    "                    print(\"El número seleccionado debe ser menor a \",len(self.__lista))\n",
    "                    nro = 'a'\n",
    "        print('Pila original')\n",
    "        self.__mostrarPila()\n",
    "\n",
    "        calificacion = 10\n",
    "        suma = 0\n",
    "        for i in range(nro):\n",
    "            suma += self.__pop()\n",
    "        print('Pila Obtenida: ')\n",
    "        self.__mostrarPila()\n",
    "        print(\"Con esta cantadad de elementos sumaste:\", suma)\n",
    "\n",
    "        if suma > 50: print(\"Perdiste..!!!, te pasaste de 50\")\n",
    "        else: \n",
    "            while suma <= 50:\n",
    "                suma += self.__pop()\n",
    "                if suma <= 50:calificacion -= 1\n",
    "            print(\"Muy bien, ganaste..!!. Tu calificación es: \", calificacion)\n",
    "\n",
    "\n",
    "\n",
    "\n",
    "    def __mostrarPila(self):\n",
    "        print(self.__lista)\n",
    "\n",
    "    def __pop(self):\n",
    "        return self.__lista.pop()       \n",
    "                \n",
    "\n"
   ]
  },
  {
   "cell_type": "code",
   "execution_count": 33,
   "metadata": {},
   "outputs": [
    {
     "name": "stdout",
     "output_type": "stream",
     "text": [
      "Pila original\n",
      "[8, 17, 18, 12, 6, 4, 20, 5, 3, 10, 2, 14, 7, 16, 9, 19, 15, 13, 1, 11]\n",
      "Pila Obtenida: \n",
      "[8, 17, 18, 12, 6, 4, 20, 5, 3, 10, 2, 14, 7, 16, 9, 19]\n",
      "Con esta cantadad de elementos sumaste: 40\n",
      "Muy bien, ganaste..!!. Tu calificación es:  10\n"
     ]
    }
   ],
   "source": [
    "j = JuegoPila()\n",
    "j.jugar()"
   ]
  },
  {
   "cell_type": "code",
   "execution_count": 2,
   "metadata": {},
   "outputs": [
    {
     "name": "stdout",
     "output_type": "stream",
     "text": [
      "[1, 13, 9, 18, 5, 15, 11, 20, 16, 7, 17, 19, 2, 14, 12, 4, 6, 8, 10, 3]\n",
      "3\n",
      "10\n",
      "8\n",
      "6\n",
      "4\n",
      "12\n",
      "El objetivo fué completado!!\n",
      "El valor acumulado obtenido es:  43\n",
      "El puntaje obtenido es: 10\n",
      "[1, 13, 9, 18, 5, 15, 11, 20, 16, 7, 17, 19, 2]\n"
     ]
    }
   ],
   "source": [
    "import random\n",
    "class EstructuraPila(object):\n",
    "    def __init__(self):\n",
    "        self.__list =[]\n",
    "    \n",
    "    def __meter__(self,item):\n",
    "        self.__list.append(item)\n",
    "        return self\n",
    "    \n",
    "    def __sacar__(self):\n",
    "        #print(self.__list[-1])\n",
    "        \n",
    "        return self.__list.pop()\n",
    "    \n",
    "    def __mostrar__(self):\n",
    "        print(self.__list)\n",
    "\n",
    "    def __cargar__(self):\n",
    "        long = 0\n",
    "        while long < 20:\n",
    "            card = int(round(random.random()*20,0))\n",
    "            if card < 1 or card in self.__list:\n",
    "                continue\n",
    "            else:\n",
    "                self.__list.append(card)\n",
    "                long += 1\n",
    "        return (self.__list)\n",
    "    \n",
    "    def __puntaje__(self,suma):\n",
    "        puntaje = 10\n",
    "        while suma <= 50:\n",
    "            suma += self.__sacar__()\n",
    "            if suma <= 50:                \n",
    "                puntaje -= 1\n",
    "        return (puntaje)\n",
    "\n",
    "    \n",
    "    def Jugar(self):        \n",
    "        #self.__mostrar__()\n",
    "        \n",
    "        respuesta = 'S'\n",
    "        sum = 0\n",
    "        #print(self.__list[-1])        \n",
    "        while (respuesta == 's' or respuesta == 'S') and sum <= 50:\n",
    "            print(self.__list[-1]) \n",
    "            sum += self.__sacar__()                        \n",
    "            #self.__mostrar__()\n",
    "            #print(sum)\n",
    "            respuesta = input('Levantar una carta?')\n",
    "        if (sum > 50):\n",
    "            print('Objetivo no alcanzado, se superó el límite de 50 en ',sum - 50)\n",
    "        else:\n",
    "            print('El objetivo fué completado!!')\n",
    "            print('El valor acumulado obtenido es: ',sum)\n",
    "            print('El puntaje obtenido es:',self.__puntaje__(sum))\n",
    "PILA = EstructuraPila()\n",
    "PILA.__cargar__()\n",
    "PILA.__mostrar__()\n",
    "PILA.Jugar()\n",
    "PILA.__mostrar__()\n",
    "\n",
    "#pila_cartas = EstructuraPila()\n"
   ]
  },
  {
   "cell_type": "code",
   "execution_count": 1,
   "metadata": {},
   "outputs": [
    {
     "ename": "NameError",
     "evalue": "name 'EstructuraPila' is not defined",
     "output_type": "error",
     "traceback": [
      "\u001b[1;31m---------------------------------------------------------------------------\u001b[0m",
      "\u001b[1;31mNameError\u001b[0m                                 Traceback (most recent call last)",
      "\u001b[1;32mc:\\Users\\tonym\\OneDrive\\Documentos\\Henry\\Data Science\\Clase 05\\Homework_05.ipynb Cell 4'\u001b[0m in \u001b[0;36m<module>\u001b[1;34m\u001b[0m\n\u001b[0;32m      <a href='vscode-notebook-cell:/c%3A/Users/tonym/OneDrive/Documentos/Henry/Data%20Science/Clase%2005/Homework_05.ipynb#ch0000003?line=0'>1</a>\u001b[0m \u001b[39mimport\u001b[39;00m \u001b[39mpandas\u001b[39;00m \u001b[39mas\u001b[39;00m \u001b[39mpd\u001b[39;00m\n\u001b[1;32m----> <a href='vscode-notebook-cell:/c%3A/Users/tonym/OneDrive/Documentos/Henry/Data%20Science/Clase%2005/Homework_05.ipynb#ch0000003?line=1'>2</a>\u001b[0m PILA \u001b[39m=\u001b[39m EstructuraPila()\n\u001b[0;32m      <a href='vscode-notebook-cell:/c%3A/Users/tonym/OneDrive/Documentos/Henry/Data%20Science/Clase%2005/Homework_05.ipynb#ch0000003?line=2'>3</a>\u001b[0m \u001b[39m#PILA.__meter__(4)\u001b[39;00m\n\u001b[0;32m      <a href='vscode-notebook-cell:/c%3A/Users/tonym/OneDrive/Documentos/Henry/Data%20Science/Clase%2005/Homework_05.ipynb#ch0000003?line=3'>4</a>\u001b[0m PILA\u001b[39m.\u001b[39m__cargar__()\n",
      "\u001b[1;31mNameError\u001b[0m: name 'EstructuraPila' is not defined"
     ]
    }
   ],
   "source": [
    "import pandas as pd\n",
    "PILA = EstructuraPila()\n",
    "#PILA.__meter__(4)\n",
    "PILA.__cargar__()\n",
    "PILA.__mostrar__()\n",
    "#PILA.__meter__(6)\n",
    "#PILA.__sacar__()\n",
    "#PILA.__mostrar__()\n",
    "PILA.Jugar()\n",
    "PILA.__mostrar__()\n",
    "\n"
   ]
  }
 ],
 "metadata": {
  "interpreter": {
   "hash": "ee3e1f49501013ad9e3df1027761c5c707770233718c20a7effc3d79038252e3"
  },
  "kernelspec": {
   "display_name": "Python 3.10.2 64-bit",
   "language": "python",
   "name": "python3"
  },
  "language_info": {
   "codemirror_mode": {
    "name": "ipython",
    "version": 3
   },
   "file_extension": ".py",
   "mimetype": "text/x-python",
   "name": "python",
   "nbconvert_exporter": "python",
   "pygments_lexer": "ipython3",
   "version": "3.10.2"
  }
 },
 "nbformat": 4,
 "nbformat_minor": 4
}
