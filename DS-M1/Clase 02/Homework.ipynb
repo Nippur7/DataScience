{
 "cells": [
  {
   "cell_type": "markdown",
   "metadata": {},
   "source": [
    "# Práctica Clase 2"
   ]
  },
  {
   "cell_type": "markdown",
   "metadata": {},
   "source": [
    "1) Abrir el archivo \"Emisiones_CO2.csv\" y cargar sus datos en un diccionario."
   ]
  },
  {
   "cell_type": "code",
   "execution_count": 6,
   "metadata": {},
   "outputs": [
    {
     "data": {
      "text/plain": [
       "'Código de país|Nombre del país|Región|Año|CO2 (kt)|CO2 per cápita (toneladas métricas)\\n'"
      ]
     },
     "execution_count": 6,
     "metadata": {},
     "output_type": "execute_result"
    }
   ],
   "source": [
    "import os\n",
    "archivo = open('Emisiones_CO2.csv', 'r')\n",
    "next(archivo)"
   ]
  },
  {
   "cell_type": "code",
   "execution_count": 7,
   "metadata": {},
   "outputs": [],
   "source": [
    "dicc_emisiones = {  'cod_pais' : [],\n",
    "                    'nom_pais' : [],\n",
    "                    'region' : [],\n",
    "                    'anio' : [],\n",
    "                    'co2' : [],\n",
    "                    'co2_percapita' : []}"
   ]
  },
  {
   "cell_type": "markdown",
   "metadata": {},
   "source": [
    "2) a) ¿Cuántas variables hay? <br>\n",
    "b) ¿Qué tipos de datos usar para cada una? <br>\n",
    "c) ¿Qué tipo de variables son? <br>\n",
    "d) ¿Hay valores faltantes? <br>\n",
    "e) ¿Cuál es el total de emisiones de CO2 para 'América Latina y Caribe' en el año 2010?"
   ]
  },
  {
   "cell_type": "code",
   "execution_count": null,
   "metadata": {},
   "outputs": [],
   "source": []
  },
  {
   "cell_type": "code",
   "execution_count": 8,
   "metadata": {},
   "outputs": [],
   "source": [
    "c = []\n",
    "for i in archivo:\n",
    "    #print(i)\n",
    "    i= i.rstrip('\\n')\n",
    "    c = i.split('|')\n",
    "    #v = 0\n",
    "    for k,v in enumerate(dicc_emisiones):        \n",
    "        dicc_emisiones[v].append(c[k])\n",
    "        #v += 1\n",
    "    '''dicc_emisiones.append({\n",
    "        'cod_pais' : cod_pais,\n",
    "        'nom_pais' : nom_pais,\n",
    "        'region' : region,\n",
    "        'anio' : anio,\n",
    "        'co2' : co2,\n",
    "        'co2_percapita' : co2_pc\n",
    "    })'''\n",
    "#for k,l in dicc_emisiones.items():\n",
    "#    print(k,l)"
   ]
  },
  {
   "cell_type": "markdown",
   "metadata": {},
   "source": [
    "cat año como int"
   ]
  },
  {
   "cell_type": "code",
   "execution_count": 10,
   "metadata": {},
   "outputs": [],
   "source": [
    "for i in range(len(dicc_emisiones['anio'])):\n",
    "    dicc_emisiones['anio'][i] = int(dicc_emisiones['anio'][i])\n",
    "    \n"
   ]
  },
  {
   "cell_type": "markdown",
   "metadata": {},
   "source": [
    "Conversion de String en Int"
   ]
  },
  {
   "cell_type": "code",
   "execution_count": 13,
   "metadata": {},
   "outputs": [],
   "source": [
    "for indice, elemento in enumerate(dicc_emisiones['co2']):\n",
    "    elemento = elemento.replace('.','')\n",
    "    elemento = elemento.replace(',','.')\n",
    "    if elemento:\n",
    "        elemento = float(elemento)\n",
    "    else:\n",
    "        elemento = None\n",
    "    dicc_emisiones['co2'][indice] = elemento"
   ]
  },
  {
   "cell_type": "code",
   "execution_count": 16,
   "metadata": {},
   "outputs": [],
   "source": [
    "for indice, elemento in enumerate(dicc_emisiones['co2_percapita']):\n",
    "    elemento = elemento.replace('.','')\n",
    "    elemento = elemento.replace(',','.')\n",
    "    if elemento:\n",
    "        elemento = float(elemento)\n",
    "    else:\n",
    "        elemento = None\n",
    "    dicc_emisiones['co2_percapita'][indice] = elemento"
   ]
  },
  {
   "cell_type": "code",
   "execution_count": 18,
   "metadata": {},
   "outputs": [
    {
     "data": {
      "text/plain": [
       "19.621533984"
      ]
     },
     "execution_count": 18,
     "metadata": {},
     "output_type": "execute_result"
    }
   ],
   "source": [
    "dicc_emisiones['co2_percapita'][38]"
   ]
  },
  {
   "cell_type": "code",
   "execution_count": 20,
   "metadata": {},
   "outputs": [
    {
     "name": "stdout",
     "output_type": "stream",
     "text": [
      "El total de emisiones en América Latina y Caribe es:  1691634.8009999995\n",
      "El total de emisiones para la región de América Latina y Caribe, para el año: 2010 fué de 1691634.801 kt\n"
     ]
    }
   ],
   "source": [
    "filtro_region = 'América Latina y Caribe'\n",
    "filtro_anio = 2010\n",
    "total_emisiones = 0\n",
    "for indice, elemento in enumerate(dicc_emisiones['region']):\n",
    "    if dicc_emisiones['region'][indice] == filtro_region and dicc_emisiones['anio'][indice] == filtro_anio and dicc_emisiones['co2'][indice] != None:\n",
    "        total_emisiones += dicc_emisiones['co2'][indice]\n",
    "print(\"El total de emisiones en América Latina y Caribe es: \", total_emisiones)\n",
    "print(f\"El total de emisiones para la región de {filtro_region}, para el año: {filtro_anio} fué de {round(total_emisiones,3)} kt\")\n",
    "\n",
    "\n",
    "\n"
   ]
  },
  {
   "cell_type": "code",
   "execution_count": 4,
   "metadata": {},
   "outputs": [
    {
     "name": "stdout",
     "output_type": "stream",
     "text": [
      "1691634.8009999995\n"
     ]
    }
   ],
   "source": [
    "#filtro = dict((y, z) for (y, z) in dicc_emisiones.items() if 'América Latina y Caribe' in z)\n",
    "#filtro = {y:z for (y,z) in dicc_emisiones.items() if 'América Latina y Caribe' in y}\n",
    "#print (filtro)\n",
    "#filtro = {}\n",
    "#for k,l in dicc_emisiones.items():\n",
    "#    if 'América Latina y Caribe' == l:\n",
    "#        filtro[k].append(l)\n",
    "#    else:\n",
    "#        continue\n",
    "#print(filtro)\n",
    "#print(dicc_emisiones)\n",
    "anio = []\n",
    "emisiones = []\n",
    "for i,valor in enumerate(dicc_emisiones['region']):\n",
    "    if valor == 'América Latina y Caribe':\n",
    "        anio.append(dicc_emisiones['anio'][i])\n",
    "        emisiones.append(dicc_emisiones['co2'][i])\n",
    "emisiones_2010 =[]\n",
    "for i, anio_2010 in enumerate(anio):\n",
    "    if anio_2010 == '2010':\n",
    "        if emisiones[i] == '':\n",
    "            emisiones[i] = None\n",
    "        else:\n",
    "            n = emisiones[i].replace('.', '').replace(',','.')\n",
    "            emisiones_2010.append(eval(n))\n",
    "suma_emisiones = 0\n",
    "for valor in emisiones_2010:\n",
    "    suma_emisiones += valor\n",
    "print(suma_emisiones)"
   ]
  },
  {
   "cell_type": "code",
   "execution_count": 5,
   "metadata": {},
   "outputs": [
    {
     "name": "stdout",
     "output_type": "stream",
     "text": [
      "1691634.801\n"
     ]
    }
   ],
   "source": [
    "archivo1 = open('Emisiones_CO2.csv', 'r')\n",
    "lista_emisiones = []\n",
    "for linea in archivo1.readlines()[1:]:\n",
    "    registro = linea.split(\"|\")\n",
    "    for campo in registro:\n",
    "        if campo == \"2010\":\n",
    "            if registro[2] == 'América Latina y Caribe':\n",
    "                if registro[4] == \"\":\n",
    "                    lista_emisiones.append(0)\n",
    "                else:\n",
    "                    lista_emisiones.append(float(str(registro[4]).replace(\".\",\"\").replace(\",\",\".\")))\n",
    "print(round(sum(lista_emisiones),3))\n"
   ]
  },
  {
   "cell_type": "code",
   "execution_count": 21,
   "metadata": {},
   "outputs": [
    {
     "name": "stdout",
     "output_type": "stream",
     "text": [
      "Collecting numpy\n",
      "  Downloading numpy-1.22.3-cp310-cp310-win_amd64.whl (14.7 MB)\n",
      "Installing collected packages: numpy\n",
      "Successfully installed numpy-1.22.3\n",
      "Note: you may need to restart the kernel to use updated packages.\n"
     ]
    },
    {
     "name": "stderr",
     "output_type": "stream",
     "text": [
      "  WARNING: The script f2py.exe is installed in 'c:\\Users\\tonym\\AppData\\Local\\Programs\\Python\\Python310\\Scripts' which is not on PATH.\n",
      "  Consider adding this directory to PATH or, if you prefer to suppress this warning, use --no-warn-script-location.\n",
      "WARNING: You are using pip version 21.2.4; however, version 22.0.4 is available.\n",
      "You should consider upgrading via the 'c:\\Users\\tonym\\AppData\\Local\\Programs\\Python\\Python310\\python.exe -m pip install --upgrade pip' command.\n"
     ]
    }
   ],
   "source": [
    "pip install numpy"
   ]
  },
  {
   "cell_type": "code",
   "execution_count": null,
   "metadata": {},
   "outputs": [],
   "source": [
    "import numpy"
   ]
  }
 ],
 "metadata": {
  "interpreter": {
   "hash": "ee3e1f49501013ad9e3df1027761c5c707770233718c20a7effc3d79038252e3"
  },
  "kernelspec": {
   "display_name": "Python 3.10.2 64-bit",
   "language": "python",
   "name": "python3"
  },
  "language_info": {
   "codemirror_mode": {
    "name": "ipython",
    "version": 3
   },
   "file_extension": ".py",
   "mimetype": "text/x-python",
   "name": "python",
   "nbconvert_exporter": "python",
   "pygments_lexer": "ipython3",
   "version": "3.10.2"
  },
  "orig_nbformat": 4
 },
 "nbformat": 4,
 "nbformat_minor": 2
}
