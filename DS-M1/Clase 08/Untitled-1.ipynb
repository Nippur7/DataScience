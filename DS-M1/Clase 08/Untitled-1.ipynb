{
 "cells": [
  {
   "cell_type": "code",
   "execution_count": 21,
   "metadata": {},
   "outputs": [
    {
     "data": {
      "text/plain": [
       "[4,\n",
       " 86,\n",
       " 9,\n",
       " 95,\n",
       " 100,\n",
       " 85,\n",
       " 33,\n",
       " 51,\n",
       " 31,\n",
       " 54,\n",
       " 97,\n",
       " 84,\n",
       " 77,\n",
       " 88,\n",
       " 16,\n",
       " 79,\n",
       " 2,\n",
       " 93,\n",
       " 29,\n",
       " 64,\n",
       " 27,\n",
       " 18,\n",
       " 14,\n",
       " 8,\n",
       " 62,\n",
       " 40,\n",
       " 70,\n",
       " 60,\n",
       " 59,\n",
       " 30,\n",
       " 75,\n",
       " 10,\n",
       " 72,\n",
       " 82,\n",
       " 41,\n",
       " 65,\n",
       " 66,\n",
       " 13,\n",
       " 11,\n",
       " 38,\n",
       " 58,\n",
       " 96,\n",
       " 17,\n",
       " 92,\n",
       " 45,\n",
       " 91,\n",
       " 23,\n",
       " 15,\n",
       " 48,\n",
       " 36,\n",
       " 61,\n",
       " 39,\n",
       " 71,\n",
       " 46,\n",
       " 3,\n",
       " 67,\n",
       " 73,\n",
       " 74,\n",
       " 99,\n",
       " 78,\n",
       " 44,\n",
       " 21,\n",
       " 81,\n",
       " 43,\n",
       " 94,\n",
       " 63,\n",
       " 28,\n",
       " 56,\n",
       " 83,\n",
       " 68,\n",
       " 52,\n",
       " 55,\n",
       " 47,\n",
       " 98,\n",
       " 69,\n",
       " 80,\n",
       " 22,\n",
       " 32,\n",
       " 76,\n",
       " 25,\n",
       " 26,\n",
       " 37,\n",
       " 24,\n",
       " 57,\n",
       " 90,\n",
       " 20,\n",
       " 6,\n",
       " 1,\n",
       " 34,\n",
       " 50,\n",
       " 89,\n",
       " 12,\n",
       " 35,\n",
       " 5,\n",
       " 53,\n",
       " 49,\n",
       " 7,\n",
       " 42,\n",
       " 87,\n",
       " 19]"
      ]
     },
     "execution_count": 21,
     "metadata": {},
     "output_type": "execute_result"
    }
   ],
   "source": [
    "from random import sample\n",
    "numeros = sample(range(1,101),100)\n",
    "numeros"
   ]
  },
  {
   "cell_type": "code",
   "execution_count": null,
   "metadata": {},
   "outputs": [],
   "source": []
  },
  {
   "cell_type": "code",
   "execution_count": 22,
   "metadata": {},
   "outputs": [
    {
     "name": "stdout",
     "output_type": "stream",
     "text": [
      "100\n"
     ]
    }
   ],
   "source": [
    "max = numeros[0]\n",
    "for num in numeros:\n",
    "    if num > max: max = num\n",
    "print(max)"
   ]
  },
  {
   "cell_type": "code",
   "execution_count": 23,
   "metadata": {},
   "outputs": [
    {
     "name": "stdout",
     "output_type": "stream",
     "text": [
      "1\n"
     ]
    }
   ],
   "source": [
    "min = numeros[0]\n",
    "for num in numeros:\n",
    "    if num < min: min = num\n",
    "print(min)"
   ]
  },
  {
   "cell_type": "code",
   "execution_count": 24,
   "metadata": {},
   "outputs": [
    {
     "name": "stdout",
     "output_type": "stream",
     "text": [
      "100\n",
      "1\n"
     ]
    }
   ],
   "source": [
    "max = numeros[0]\n",
    "min = numeros[0]\n",
    "for num in numeros:\n",
    "    if num > max: max = num\n",
    "    if num < min: min = num\n",
    "print(max)\n",
    "print(min)"
   ]
  }
 ],
 "metadata": {
  "interpreter": {
   "hash": "ee3e1f49501013ad9e3df1027761c5c707770233718c20a7effc3d79038252e3"
  },
  "kernelspec": {
   "display_name": "Python 3.10.2 64-bit",
   "language": "python",
   "name": "python3"
  },
  "language_info": {
   "codemirror_mode": {
    "name": "ipython",
    "version": 3
   },
   "file_extension": ".py",
   "mimetype": "text/x-python",
   "name": "python",
   "nbconvert_exporter": "python",
   "pygments_lexer": "ipython3",
   "version": "3.10.2"
  },
  "orig_nbformat": 4
 },
 "nbformat": 4,
 "nbformat_minor": 2
}
