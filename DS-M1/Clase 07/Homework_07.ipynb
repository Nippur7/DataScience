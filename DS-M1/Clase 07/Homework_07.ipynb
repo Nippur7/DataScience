{
 "cells": [
  {
   "cell_type": "markdown",
   "metadata": {},
   "source": [
    "# Práctica Clase 7"
   ]
  },
  {
   "cell_type": "markdown",
   "metadata": {},
   "source": [
    "1) Diseñar una clase que permita trabajar con un árbol binario y que contenga los métodos:<br>\n",
    "    * insertaVal: para insertar un dato<br>\n",
    "    * buscaVal: que devuelva True o False si existe o no un dato<br>\n",
    "    * verVal: que imprima por pantalla los valores del árbol<br>\n",
    "\n",
    "Nota: Se puede utilizar la recursividad\n"
   ]
  },
  {
   "cell_type": "code",
   "execution_count": 1,
   "metadata": {},
   "outputs": [],
   "source": [
    "class Nodo():\n",
    "    def __init__(self, dato):\n",
    "        self.dato = dato\n",
    "        self.izq = None\n",
    "        self.der = None\n",
    "\n",
    "  \n"
   ]
  },
  {
   "cell_type": "code",
   "execution_count": 72,
   "metadata": {},
   "outputs": [],
   "source": [
    "class Arbol():\n",
    "    def __init__(self):\n",
    "        self.raiz = None        \n",
    "\n",
    "    def insertaVal(self, dato):\n",
    "        n = Nodo(dato)\n",
    "        if (self.raiz == None):\n",
    "            self.raiz = n\n",
    "        else:\n",
    "            puntero = self.raiz\n",
    "            if (puntero.izq == None):\n",
    "                puntero.izq = n\n",
    "            if (puntero.der == None):\n",
    "                puntero.der = n\n",
    "\n",
    "    def verVal(self):\n",
    "        puntero = self.raiz\n",
    "        if puntero.izq:\n",
    "            puntero.verVal()\n",
    "            print(puntero.dato)\n",
    "        puntero\n",
    "\n",
    "        if puntero.der:\n",
    "            puntero\n",
    "            print(puntero.dato)"
   ]
  },
  {
   "cell_type": "code",
   "execution_count": 17,
   "metadata": {},
   "outputs": [],
   "source": [
    "class Arbol1():\n",
    "    def __init__(self):\n",
    "        self.raiz = Nodo(None)      \n",
    "\n",
    "    def insertVal(self, dato):\n",
    "        if self.raiz.dato != None:\n",
    "            if dato < self.dato:\n",
    "                if self.izq == None:\n",
    "                    self.izq = Nodo(dato)\n",
    "                else:\n",
    "                    self.izq.insertVal(dato)\n",
    "            elif dato > self.dato:\n",
    "                if self.der == None:\n",
    "                    self.der = Nodo(dato)\n",
    "                else:\n",
    "                    self.der.insertVal(dato)\n",
    "            else:\n",
    "                print(\"Valor existente\")\n",
    "        else: self.raiz = Nodo(dato)\n",
    "\n",
    "    def buscarVal(self,lkpval):\n",
    "        if lkpval < self.dato:\n",
    "            if self.izq == None:\n",
    "                return False\n",
    "            return self.izq.buscarVal(lkpval)\n",
    "        elif lkpval > self.dato:\n",
    "            if self.der == None:\n",
    "                return False\n",
    "            return self.der.buscarVal(lkpval)\n",
    "        else:\n",
    "            return True\n",
    "\n",
    "    def verVals(self):\n",
    "        if self.der: self.der.verVals()\n",
    "        print(self.dato)\n",
    "        if self.izq: self.izq.verVals()"
   ]
  },
  {
   "cell_type": "code",
   "execution_count": null,
   "metadata": {},
   "outputs": [],
   "source": []
  },
  {
   "cell_type": "code",
   "execution_count": 18,
   "metadata": {},
   "outputs": [],
   "source": [
    "a = Arbol1()"
   ]
  },
  {
   "cell_type": "code",
   "execution_count": 19,
   "metadata": {},
   "outputs": [
    {
     "ename": "TypeError",
     "evalue": "'<' not supported between instances of 'int' and 'NoneType'",
     "output_type": "error",
     "traceback": [
      "\u001b[1;31m---------------------------------------------------------------------------\u001b[0m",
      "\u001b[1;31mTypeError\u001b[0m                                 Traceback (most recent call last)",
      "\u001b[1;32mc:\\Users\\tonym\\OneDrive\\Documentos\\Henry\\Data Science\\Clase 07\\Homework_07.ipynb Cell 8'\u001b[0m in \u001b[0;36m<module>\u001b[1;34m\u001b[0m\n\u001b[1;32m----> <a href='vscode-notebook-cell:/c%3A/Users/tonym/OneDrive/Documentos/Henry/Data%20Science/Clase%2007/Homework_07.ipynb#ch0000005?line=0'>1</a>\u001b[0m a\u001b[39m.\u001b[39;49mraiz\u001b[39m.\u001b[39;49minsertVal(\u001b[39m80\u001b[39;49m)\n",
      "\u001b[1;32mc:\\Users\\tonym\\OneDrive\\Documentos\\Henry\\Data Science\\Clase 07\\Homework_07.ipynb Cell 3'\u001b[0m in \u001b[0;36mNodo.insertVal\u001b[1;34m(self, dato)\u001b[0m\n\u001b[0;32m      <a href='vscode-notebook-cell:/c%3A/Users/tonym/OneDrive/Documentos/Henry/Data%20Science/Clase%2007/Homework_07.ipynb#ch0000002?line=6'>7</a>\u001b[0m \u001b[39mdef\u001b[39;00m \u001b[39minsertVal\u001b[39m(\u001b[39mself\u001b[39m, dato):\n\u001b[1;32m----> <a href='vscode-notebook-cell:/c%3A/Users/tonym/OneDrive/Documentos/Henry/Data%20Science/Clase%2007/Homework_07.ipynb#ch0000002?line=7'>8</a>\u001b[0m     \u001b[39mif\u001b[39;00m dato \u001b[39m<\u001b[39;49m \u001b[39mself\u001b[39;49m\u001b[39m.\u001b[39;49mdato:\n\u001b[0;32m      <a href='vscode-notebook-cell:/c%3A/Users/tonym/OneDrive/Documentos/Henry/Data%20Science/Clase%2007/Homework_07.ipynb#ch0000002?line=8'>9</a>\u001b[0m         \u001b[39mif\u001b[39;00m \u001b[39mself\u001b[39m\u001b[39m.\u001b[39mizq \u001b[39m==\u001b[39m \u001b[39mNone\u001b[39;00m:\n\u001b[0;32m     <a href='vscode-notebook-cell:/c%3A/Users/tonym/OneDrive/Documentos/Henry/Data%20Science/Clase%2007/Homework_07.ipynb#ch0000002?line=9'>10</a>\u001b[0m             \u001b[39mself\u001b[39m\u001b[39m.\u001b[39mizq \u001b[39m=\u001b[39m Nodo(dato)\n",
      "\u001b[1;31mTypeError\u001b[0m: '<' not supported between instances of 'int' and 'NoneType'"
     ]
    }
   ],
   "source": [
    "a.raiz.insertVal(80)"
   ]
  },
  {
   "cell_type": "code",
   "execution_count": 78,
   "metadata": {},
   "outputs": [
    {
     "ename": "AttributeError",
     "evalue": "'Nodo' object has no attribute 'verVal'",
     "output_type": "error",
     "traceback": [
      "\u001b[1;31m---------------------------------------------------------------------------\u001b[0m",
      "\u001b[1;31mAttributeError\u001b[0m                            Traceback (most recent call last)",
      "\u001b[1;32mc:\\Users\\tonym\\OneDrive\\Documentos\\Henry\\Data Science\\Clase 07\\Homework_07.ipynb Cell 7'\u001b[0m in \u001b[0;36m<module>\u001b[1;34m\u001b[0m\n\u001b[1;32m----> <a href='vscode-notebook-cell:/c%3A/Users/tonym/OneDrive/Documentos/Henry/Data%20Science/Clase%2007/Homework_07.ipynb#ch0000006?line=0'>1</a>\u001b[0m a\u001b[39m.\u001b[39;49mverVal()\n",
      "\u001b[1;32mc:\\Users\\tonym\\OneDrive\\Documentos\\Henry\\Data Science\\Clase 07\\Homework_07.ipynb Cell 4'\u001b[0m in \u001b[0;36mArbol.verVal\u001b[1;34m(self)\u001b[0m\n\u001b[0;32m     <a href='vscode-notebook-cell:/c%3A/Users/tonym/OneDrive/Documentos/Henry/Data%20Science/Clase%2007/Homework_07.ipynb#ch0000003?line=16'>17</a>\u001b[0m puntero \u001b[39m=\u001b[39m \u001b[39mself\u001b[39m\u001b[39m.\u001b[39mraiz\n\u001b[0;32m     <a href='vscode-notebook-cell:/c%3A/Users/tonym/OneDrive/Documentos/Henry/Data%20Science/Clase%2007/Homework_07.ipynb#ch0000003?line=17'>18</a>\u001b[0m \u001b[39mif\u001b[39;00m puntero\u001b[39m.\u001b[39mizq:\n\u001b[1;32m---> <a href='vscode-notebook-cell:/c%3A/Users/tonym/OneDrive/Documentos/Henry/Data%20Science/Clase%2007/Homework_07.ipynb#ch0000003?line=18'>19</a>\u001b[0m     puntero\u001b[39m.\u001b[39;49mverVal()\n\u001b[0;32m     <a href='vscode-notebook-cell:/c%3A/Users/tonym/OneDrive/Documentos/Henry/Data%20Science/Clase%2007/Homework_07.ipynb#ch0000003?line=19'>20</a>\u001b[0m     \u001b[39mprint\u001b[39m(puntero\u001b[39m.\u001b[39mdato)\n\u001b[0;32m     <a href='vscode-notebook-cell:/c%3A/Users/tonym/OneDrive/Documentos/Henry/Data%20Science/Clase%2007/Homework_07.ipynb#ch0000003?line=20'>21</a>\u001b[0m puntero\n",
      "\u001b[1;31mAttributeError\u001b[0m: 'Nodo' object has no attribute 'verVal'"
     ]
    }
   ],
   "source": [
    "a.verVal()"
   ]
  }
 ],
 "metadata": {
  "interpreter": {
   "hash": "ee3e1f49501013ad9e3df1027761c5c707770233718c20a7effc3d79038252e3"
  },
  "kernelspec": {
   "display_name": "Python 3.10.2 64-bit",
   "language": "python",
   "name": "python3"
  },
  "language_info": {
   "codemirror_mode": {
    "name": "ipython",
    "version": 3
   },
   "file_extension": ".py",
   "mimetype": "text/x-python",
   "name": "python",
   "nbconvert_exporter": "python",
   "pygments_lexer": "ipython3",
   "version": "3.10.2"
  }
 },
 "nbformat": 4,
 "nbformat_minor": 4
}
