{
 "cells": [
  {
   "cell_type": "markdown",
   "metadata": {},
   "source": [
    "# Práctica Clase 7"
   ]
  },
  {
   "cell_type": "markdown",
   "metadata": {},
   "source": [
    "1) Diseñar una clase que permita trabajar con un árbol binario y que contenga los métodos:<br>\n",
    "    * insertaVal: para insertar un dato<br>\n",
    "    * buscaVal: que devuelva True o False si existe o no un dato<br>\n",
    "    * verVal: que imprima por pantalla los valores del árbol<br>\n",
    "\n",
    "Nota: Se puede utilizar la recursividad\n"
   ]
  },
  {
   "cell_type": "code",
   "execution_count": 6,
   "metadata": {},
   "outputs": [],
   "source": [
    "class Nodo():\n",
    "    def __init__(self, dato):\n",
    "        self.dato = dato\n",
    "        self.izq = None\n",
    "        self.der = None"
   ]
  },
  {
   "cell_type": "code",
   "execution_count": 7,
   "metadata": {},
   "outputs": [],
   "source": [
    "class Arbol():\n",
    "    def __init__(self, dato):\n",
    "        self.raiz = Nodo(dato)\n",
    "\n",
    "    def __agregar_recursivo(self, nodo, dato):\n",
    "        if dato < nodo.dato:\n",
    "            if nodo.izq is None:\n",
    "                nodo.izq = Nodo(dato)\n",
    "            else:\n",
    "                self.__agregar_recursivo(nodo.izq, dato)\n",
    "        else:\n",
    "            if nodo.der is None:\n",
    "                nodo.der = Nodo(dato)\n",
    "            else:\n",
    "                self.__agregar_recursivo(nodo.der, dato)\n",
    "\n",
    "    def __buscar(self, nodo, dato):\n",
    "        if nodo is None:\n",
    "            return None\n",
    "        if nodo.dato == dato:\n",
    "            return True\n",
    "        \n",
    "        if dato < nodo.dato:\n",
    "            if nodo.izq is None:\n",
    "                return False\n",
    "            return self.__buscar(nodo.izq, dato)\n",
    "        else:\n",
    "            if nodo.der is None:\n",
    "                return False\n",
    "            return self.__buscar(nodo.der, dato)\n",
    "\n",
    "\n",
    "    def __inorden_recursivo(self, nodo):\n",
    "        if nodo is not None:\n",
    "            self.__inorden_recursivo(nodo.izq)\n",
    "            print(nodo.dato, end='-> ')\n",
    "            self.__inorden_recursivo(nodo.der)\n",
    "\n",
    "\n",
    "    def __preorden_recursivo(self, nodo):\n",
    "        if nodo is not None:\n",
    "            print(nodo.dato, end='-> ')\n",
    "            self.__preorden_recursivo(nodo.izq)\n",
    "            self.__preorden_recursivo(nodo.der)\n",
    "\n",
    "    def __postorden_recursivo(self, nodo):\n",
    "        if nodo is not None:\n",
    "            self.__postorden_recursivo(nodo.izq)\n",
    "            self.__postorden_recursivo(nodo.der)\n",
    "            print(nodo.dato, end='-> ')\n",
    "\n",
    "    def insertaVal(self, dato):\n",
    "        self.__agregar_recursivo(self.raiz, dato)\n",
    "\n",
    "    def buscaVal(self, dato):\n",
    "        return self.__buscar(self.raiz, dato)\n",
    "\n",
    "    def verVal_in(self):\n",
    "        return self.__inorden_recursivo(self.raiz)\n",
    "\n",
    "    def verVal_pre(self):\n",
    "        return self.__preorden_recursivo(self.raiz)\n",
    "    \n",
    "    def verVal_pos(self):\n",
    "        return self.__postorden_recursivo(self.raiz)\n",
    "    "
   ]
  },
  {
   "cell_type": "code",
   "execution_count": 8,
   "metadata": {},
   "outputs": [],
   "source": [
    "a = Arbol(100)"
   ]
  },
  {
   "cell_type": "code",
   "execution_count": 9,
   "metadata": {},
   "outputs": [],
   "source": [
    "a.insertaVal(20)\n",
    "a.insertaVal(50)\n",
    "a.insertaVal(5)\n",
    "a.insertaVal(30)\n",
    "a.insertaVal(35)\n",
    "a.insertaVal(40)\n",
    "a.insertaVal(200)"
   ]
  },
  {
   "cell_type": "code",
   "execution_count": 10,
   "metadata": {},
   "outputs": [
    {
     "data": {
      "text/plain": [
       "False"
      ]
     },
     "execution_count": 10,
     "metadata": {},
     "output_type": "execute_result"
    }
   ],
   "source": [
    "a.buscaVal(2)"
   ]
  },
  {
   "cell_type": "code",
   "execution_count": 11,
   "metadata": {},
   "outputs": [
    {
     "data": {
      "text/plain": [
       "True"
      ]
     },
     "execution_count": 11,
     "metadata": {},
     "output_type": "execute_result"
    }
   ],
   "source": [
    "a.buscaVal(40)"
   ]
  },
  {
   "cell_type": "code",
   "execution_count": 12,
   "metadata": {},
   "outputs": [
    {
     "name": "stdout",
     "output_type": "stream",
     "text": [
      "5-> 20-> 30-> 35-> 40-> 50-> 100-> 200-> "
     ]
    }
   ],
   "source": [
    "#Izq-raiz-der\n",
    "a.verVal_in()"
   ]
  },
  {
   "cell_type": "code",
   "execution_count": 13,
   "metadata": {},
   "outputs": [
    {
     "name": "stdout",
     "output_type": "stream",
     "text": [
      "100-> 20-> 5-> 50-> 30-> 35-> 40-> 200-> "
     ]
    }
   ],
   "source": [
    "#raiz-izq-der\n",
    "a.verVal_pre()"
   ]
  },
  {
   "cell_type": "code",
   "execution_count": 29,
   "metadata": {},
   "outputs": [
    {
     "name": "stdout",
     "output_type": "stream",
     "text": [
      "Alejandro-> Aloy-> Jack-> Cuphead-> Leon-> Maggie-> María José-> Luis-> "
     ]
    }
   ],
   "source": [
    "#Izq-der-raiz\n",
    "a.verVal_pos()"
   ]
  }
 ],
 "metadata": {
  "interpreter": {
   "hash": "ee3e1f49501013ad9e3df1027761c5c707770233718c20a7effc3d79038252e3"
  },
  "kernelspec": {
   "display_name": "Python 3.10.2 64-bit",
   "language": "python",
   "name": "python3"
  },
  "language_info": {
   "codemirror_mode": {
    "name": "ipython",
    "version": 3
   },
   "file_extension": ".py",
   "mimetype": "text/x-python",
   "name": "python",
   "nbconvert_exporter": "python",
   "pygments_lexer": "ipython3",
   "version": "3.10.2"
  }
 },
 "nbformat": 4,
 "nbformat_minor": 4
}
