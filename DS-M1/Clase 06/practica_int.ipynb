{
 "cells": [
  {
   "cell_type": "code",
   "execution_count": 2,
   "metadata": {},
   "outputs": [],
   "source": [
    "class Nodo:\n",
    "    def __init__(self, val):\n",
    "        self.data = val\n",
    "        self.next = None\n",
    "    \n",
    "    def getData(self):\n",
    "        return self.data\n",
    "\n",
    "    def setData(self, val):\n",
    "        self.data = val\n",
    "    \n",
    "    def setNext(self, prox):\n",
    "        self.next = prox\n",
    "\n",
    "    def getNext(self):\n",
    "        return self.next\n",
    "        "
   ]
  },
  {
   "cell_type": "code",
   "execution_count": 3,
   "metadata": {},
   "outputs": [],
   "source": [
    "n1 = Nodo(8)\n",
    "n2 = Nodo(4)\n",
    "n3 = Nodo(1)\n",
    "\n"
   ]
  },
  {
   "cell_type": "code",
   "execution_count": 7,
   "metadata": {},
   "outputs": [
    {
     "data": {
      "text/plain": [
       "4"
      ]
     },
     "execution_count": 7,
     "metadata": {},
     "output_type": "execute_result"
    }
   ],
   "source": [
    "#n1.getData()\n",
    "n2.getData()\n",
    "#n2.getData()\n"
   ]
  },
  {
   "cell_type": "code",
   "execution_count": 9,
   "metadata": {},
   "outputs": [],
   "source": [
    "n2.setNext(n1)\n"
   ]
  },
  {
   "cell_type": "code",
   "execution_count": 11,
   "metadata": {},
   "outputs": [
    {
     "name": "stdout",
     "output_type": "stream",
     "text": [
      "2706310411408\n",
      "2706310411408\n"
     ]
    }
   ],
   "source": [
    "print(id(n2.getNext()))\n",
    "print(id(n1))"
   ]
  }
 ],
 "metadata": {
  "interpreter": {
   "hash": "ee3e1f49501013ad9e3df1027761c5c707770233718c20a7effc3d79038252e3"
  },
  "kernelspec": {
   "display_name": "Python 3.10.2 64-bit",
   "language": "python",
   "name": "python3"
  },
  "language_info": {
   "codemirror_mode": {
    "name": "ipython",
    "version": 3
   },
   "file_extension": ".py",
   "mimetype": "text/x-python",
   "name": "python",
   "nbconvert_exporter": "python",
   "pygments_lexer": "ipython3",
   "version": "3.10.2"
  },
  "orig_nbformat": 4
 },
 "nbformat": 4,
 "nbformat_minor": 2
}
