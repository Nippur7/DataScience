{
 "cells": [
  {
   "cell_type": "code",
   "execution_count": 12,
   "metadata": {},
   "outputs": [],
   "source": [
    "def NumeroBinario(numero):\n",
    "   if isinstance(numero, int) or numero < 0: return None\n",
    "   elif numero == 0: return 0\n",
    "   binario = \"\"\n",
    "   resto_div = 0\n",
    "   while numero >0:\n",
    "       resto_div = numero % 2\n",
    "       numero //= 2\n",
    "       binario += str(resto_div)\n",
    "   binario = binario[::-1] \n",
    "   return int(binario)\n",
    "   \n",
    "\n",
    "\n"
   ]
  },
  {
   "cell_type": "code",
   "execution_count": 17,
   "metadata": {},
   "outputs": [
    {
     "name": "stdout",
     "output_type": "stream",
     "text": [
      "None\n"
     ]
    }
   ],
   "source": [
    "print(NumeroBinario(8))\n"
   ]
  },
  {
   "cell_type": "code",
   "execution_count": 18,
   "metadata": {},
   "outputs": [
    {
     "name": "stdout",
     "output_type": "stream",
     "text": [
      "0.0101\n"
     ]
    }
   ],
   "source": [
    "def numeroBinarioFraccion(numero_decimal):\n",
    "    if type(numero_decimal) != float: None\n",
    "    elif numero_decimal > 1 or numero_decimal < 0: return None\n",
    "    elif numero_decimal == 0: return 0\n",
    "    limite_decimales = 24\n",
    "    parte_entera = 0\n",
    "    lista_binaria = []\n",
    "    i = 0\n",
    "    while numero_decimal > 0 and i < limite_decimales:\n",
    "        lista_binaria.append(int(numero_decimal*2))\n",
    "        numero_decimal = numero_decimal * 2 - (int(numero_decimal*2))\n",
    "        i += 1\n",
    "    NumeroBinario = '0.'\n",
    "    for n in lista_binaria:\n",
    "        NumeroBinario += str(n)\n",
    "\n",
    "    return(NumeroBinario)\n",
    "print(numeroBinarioFraccion(0.3125))"
   ]
  },
  {
   "cell_type": "code",
   "execution_count": 23,
   "metadata": {},
   "outputs": [
    {
     "name": "stdout",
     "output_type": "stream",
     "text": [
      "fraccion 1/ 2  =  0.5  y en binario:  0.1\n",
      "fraccion 1/ 3  =  0.3333333333333333  y en binario:  0.010101010101010101010101\n",
      "fraccion 1/ 4  =  0.25  y en binario:  0.01\n",
      "fraccion 1/ 5  =  0.2  y en binario:  0.001100110011001100110011\n",
      "fraccion 1/ 6  =  0.16666666666666666  y en binario:  0.001010101010101010101010\n",
      "fraccion 1/ 7  =  0.14285714285714285  y en binario:  0.001001001001001001001001\n",
      "fraccion 1/ 8  =  0.125  y en binario:  0.001\n",
      "fraccion 1/ 9  =  0.1111111111111111  y en binario:  0.000111000111000111000111\n"
     ]
    }
   ],
   "source": [
    "for l in range(2,10):\n",
    "    print('fraccion 1/',l, ' = ', str(1/l),' y en binario: ', numeroBinarioFraccion(1/l))\n"
   ]
  },
  {
   "cell_type": "code",
   "execution_count": null,
   "metadata": {},
   "outputs": [],
   "source": []
  }
 ],
 "metadata": {
  "interpreter": {
   "hash": "fa2b65ad58f11a50eade108510c1d259e836442726fd970a3f235a64ab9a4b52"
  },
  "kernelspec": {
   "display_name": "Python 3.10.2 64-bit",
   "language": "python",
   "name": "python3"
  },
  "language_info": {
   "codemirror_mode": {
    "name": "ipython",
    "version": 3
   },
   "file_extension": ".py",
   "mimetype": "text/x-python",
   "name": "python",
   "nbconvert_exporter": "python",
   "pygments_lexer": "ipython3",
   "version": "3.10.2"
  },
  "orig_nbformat": 4
 },
 "nbformat": 4,
 "nbformat_minor": 2
}
