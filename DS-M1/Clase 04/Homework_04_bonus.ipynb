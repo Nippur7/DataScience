{
 "cells": [
  {
   "cell_type": "markdown",
   "metadata": {},
   "source": [
    "A partir del CSV hospitales2.csv, generar un archivo CSV de salida, que contenga los siguientes campos en este orden:\n",
    "latitude\n",
    "longitude\n",
    "namel\n",
    "label\n",
    "Con los correspondientes datos extraídos del CSV original, el campo name tiene que corresponder con la dirección del hospital, y el campo label con el nombre del hospital."
   ]
  },
  {
   "cell_type": "markdown",
   "metadata": {},
   "source": [
    "Módulo nativo con csv"
   ]
  },
  {
   "cell_type": "code",
   "execution_count": 23,
   "metadata": {},
   "outputs": [],
   "source": [
    "import csv\n",
    "archivo = open('hospitales2.csv', encoding='utf-8')\n",
    "tabla = csv.reader(archivo)\n",
    "with open('salida_hosp2.csv','w', encoding='utf-8', newline= '') as salida:\n",
    "    salida_escritor = csv.writer(salida)\n",
    "    next(tabla)\n",
    "    salida_escritor.writerow(['latitude','longitude','name','label'])\n",
    "    for linea in tabla:\n",
    "        coord = linea[0][7:-1].split()\n",
    "        salida_escritor.writerow([coord[1],coord[0],linea[8],linea[3]])\n",
    "archivo.close()"
   ]
  },
  {
   "cell_type": "markdown",
   "metadata": {},
   "source": [
    "Comprensión de listas"
   ]
  },
  {
   "cell_type": "code",
   "execution_count": 24,
   "metadata": {},
   "outputs": [
    {
     "name": "stdout",
     "output_type": "stream",
     "text": [
      "[4, 16, 49, 81]\n"
     ]
    }
   ],
   "source": [
    "numeros = [2,4,7,9]\n",
    "cuadrados = []\n",
    "for numer in numeros:\n",
    "    cuadrados.append(numer**2)\n",
    "print(cuadrados)"
   ]
  },
  {
   "cell_type": "code",
   "execution_count": 29,
   "metadata": {},
   "outputs": [
    {
     "name": "stdout",
     "output_type": "stream",
     "text": [
      "[4, 16, 49, 81]\n"
     ]
    }
   ],
   "source": [
    "cuadrados = list(map(lambda x: x**2,numeros))\n",
    "print(cuadrados)"
   ]
  },
  {
   "cell_type": "code",
   "execution_count": 28,
   "metadata": {},
   "outputs": [
    {
     "name": "stdout",
     "output_type": "stream",
     "text": [
      "[4, 16, 49, 81]\n"
     ]
    }
   ],
   "source": [
    "cuadrados = [num ** 2 for num in numeros]\n",
    "print(cuadrados)"
   ]
  },
  {
   "cell_type": "markdown",
   "metadata": {},
   "source": [
    "Módulo con pandas"
   ]
  },
  {
   "cell_type": "code",
   "execution_count": 38,
   "metadata": {},
   "outputs": [],
   "source": [
    "import pandas as pd"
   ]
  },
  {
   "cell_type": "code",
   "execution_count": 43,
   "metadata": {},
   "outputs": [],
   "source": [
    "hospitales = pd.read_csv('hospitales2.csv')\n",
    "#hospitales.head()"
   ]
  },
  {
   "cell_type": "code",
   "execution_count": 40,
   "metadata": {},
   "outputs": [],
   "source": [
    "#df_lat_long = hospitales['WKT'].str.split(' ', expand=True)\n",
    "#df_lat_long\n",
    "coordenadas = [coord1.split() for coord1 in hospitales['WKT']]\n",
    "long = [float(elemento[1].strip('(')) for elemento in coordenadas]\n",
    "lat = [float(elemento[2].strip(')')) for elemento in coordenadas]\n",
    "#long\n",
    "#lat"
   ]
  },
  {
   "cell_type": "code",
   "execution_count": 42,
   "metadata": {},
   "outputs": [],
   "source": [
    "datos = dict(latitude = lat, longitude =long, name=hospitales['DOM_NORMA'], label=hospitales['NOM_MAP'])\n",
    "pd.DataFrame(datos).to_csv('salida_hosp2_panda', index=False)"
   ]
  }
 ],
 "metadata": {
  "interpreter": {
   "hash": "ee3e1f49501013ad9e3df1027761c5c707770233718c20a7effc3d79038252e3"
  },
  "kernelspec": {
   "display_name": "Python 3.10.2 64-bit",
   "language": "python",
   "name": "python3"
  },
  "language_info": {
   "codemirror_mode": {
    "name": "ipython",
    "version": 3
   },
   "file_extension": ".py",
   "mimetype": "text/x-python",
   "name": "python",
   "nbconvert_exporter": "python",
   "pygments_lexer": "ipython3",
   "version": "3.10.2"
  }
 },
 "nbformat": 4,
 "nbformat_minor": 4
}
