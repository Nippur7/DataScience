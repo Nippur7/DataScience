{
 "cells": [
  {
   "cell_type": "markdown",
   "metadata": {},
   "source": [
    "## Tuning Model Parameters\n",
    "\n",
    "In this exercise, you will optimise the parameters for a classification model.\n",
    "\n",
    "### Prepare the Data\n",
    "\n",
    "First, import the libraries you will need and prepare the training and test data:"
   ]
  },
  {
   "cell_type": "code",
   "execution_count": 1,
   "metadata": {},
   "outputs": [],
   "source": [
    "from pyspark.sql import SparkSession\n",
    "\n",
    "spark = SparkSession.\\\n",
    "        builder.\\\n",
    "        appName(\"pyspark-notebook\").\\\n",
    "        master(\"spark://spark-master:7077\").\\\n",
    "        config(\"spark.executor.memory\", \"4098m\").\\\n",
    "        getOrCreate()"
   ]
  },
  {
   "cell_type": "code",
   "execution_count": 2,
   "metadata": {
    "collapsed": false,
    "jupyter": {
     "outputs_hidden": false
    }
   },
   "outputs": [],
   "source": [
    "# Import Spark SQL and Spark ML libraries\n",
    "from pyspark.sql.types import *\n",
    "from pyspark.sql.functions import *\n",
    "\n",
    "from pyspark.ml import Pipeline\n",
    "from pyspark.ml.classification import LogisticRegression\n",
    "from pyspark.ml.feature import VectorAssembler, StringIndexer, MinMaxScaler\n",
    "from pyspark.ml.tuning import ParamGridBuilder, TrainValidationSplit\n",
    "from pyspark.ml.evaluation import BinaryClassificationEvaluator\n",
    "\n",
    "# Load the source data\n",
    "flightSchema = StructType([\n",
    "  StructField(\"DayofMonth\", IntegerType(), False),\n",
    "  StructField(\"DayOfWeek\", IntegerType(), False),\n",
    "  StructField(\"Carrier\", StringType(), False),\n",
    "  StructField(\"OriginAirportID\", StringType(), False),\n",
    "  StructField(\"DestAirportID\", StringType(), False),\n",
    "  StructField(\"DepDelay\", IntegerType(), False),\n",
    "  StructField(\"ArrDelay\", IntegerType(), False),\n",
    "  StructField(\"Late\", IntegerType(), False),\n",
    "])"
   ]
  },
  {
   "cell_type": "code",
   "execution_count": 3,
   "metadata": {
    "collapsed": false,
    "jupyter": {
     "outputs_hidden": false
    }
   },
   "outputs": [],
   "source": [
    "data = spark.read.csv('../data/flights.csv', schema=flightSchema, header=True)\n",
    "data = data.select(\"DayofMonth\", \"DayOfWeek\", \"Carrier\", \"OriginAirportID\", \"DestAirportID\", \"DepDelay\", col(\"Late\").alias(\"label\"))\n",
    "\n",
    "# Split the data\n",
    "splits = data.randomSplit([0.7, 0.3])\n",
    "train = splits[0]\n",
    "test = splits[1]"
   ]
  },
  {
   "cell_type": "markdown",
   "metadata": {},
   "source": [
    "### Define the Pipeline\n",
    "Now define a pipeline that creates a feature vector and trains a classification model"
   ]
  },
  {
   "cell_type": "code",
   "execution_count": 4,
   "metadata": {
    "collapsed": false,
    "jupyter": {
     "outputs_hidden": false
    }
   },
   "outputs": [],
   "source": [
    "# Define the pipeline\n",
    "monthdayIndexer = StringIndexer(inputCol=\"DayofMonth\", outputCol=\"DayofMonthIdx\")\n",
    "weekdayIndexer = StringIndexer(inputCol=\"DayOfWeek\", outputCol=\"DayOfWeekIdx\")\n",
    "carrierIndexer = StringIndexer(inputCol=\"Carrier\", outputCol=\"CarrierIdx\")\n",
    "originIndexer = StringIndexer(inputCol=\"OriginAirportID\", outputCol=\"OriginAirportIdx\")\n",
    "destIndexer = StringIndexer(inputCol=\"DestAirportID\", outputCol=\"DestAirportIdx\")\n",
    "numVect = VectorAssembler(inputCols = [\"DepDelay\"], outputCol=\"numFeatures\")\n",
    "minMax = MinMaxScaler(inputCol = numVect.getOutputCol(), outputCol=\"normNums\")\n",
    "featVect = VectorAssembler(inputCols=[\"DayofMonthIdx\", \"DayOfWeekIdx\", \"CarrierIdx\", \"OriginAirportIdx\", \"DestAirportIdx\", \"normNums\"], outputCol=\"features\")\n",
    "lr = LogisticRegression(labelCol=\"label\", featuresCol=\"features\")\n",
    "pipeline = Pipeline(stages=[monthdayIndexer, weekdayIndexer, carrierIndexer, originIndexer, destIndexer, numVect, minMax, featVect, lr])"
   ]
  },
  {
   "cell_type": "markdown",
   "metadata": {},
   "source": [
    "### Tune Parameters\n",
    "You can tune parameters to find the best model for your data. A simple way to do this is to use  **TrainValidationSplit** to evaluate each combination of parameters defined in a **ParameterGrid** against a subset of the training data in order to find the best performing parameters."
   ]
  },
  {
   "cell_type": "code",
   "execution_count": 5,
   "metadata": {
    "collapsed": false,
    "jupyter": {
     "outputs_hidden": false
    }
   },
   "outputs": [],
   "source": [
    "paramGrid = ParamGridBuilder().addGrid(lr.regParam, [0.1, 0.01, 0.001]).addGrid(lr.maxIter, [10, 5, 2]).build()\n",
    "tvs = TrainValidationSplit(estimator=pipeline, evaluator=BinaryClassificationEvaluator(), estimatorParamMaps=paramGrid, trainRatio=0.8)\n",
    "\n",
    "model = tvs.fit(train)"
   ]
  },
  {
   "cell_type": "markdown",
   "metadata": {},
   "source": [
    "### Test the Model\n",
    "Now you're ready to apply the model to the test data."
   ]
  },
  {
   "cell_type": "code",
   "execution_count": 6,
   "metadata": {
    "collapsed": false,
    "jupyter": {
     "outputs_hidden": false
    }
   },
   "outputs": [
    {
     "name": "stdout",
     "output_type": "stream",
     "text": [
      "+--------------------+----------+--------------------+-----+\n",
      "|            features|prediction|         probability|label|\n",
      "+--------------------+----------+--------------------+-----+\n",
      "|[25.0,2.0,10.0,57...|       1.0|[0.41948570395457...|    1|\n",
      "|[25.0,2.0,10.0,11...|       0.0|[0.92543672481980...|    0|\n",
      "|[25.0,2.0,10.0,11...|       1.0|[0.18739681563565...|    1|\n",
      "|[25.0,2.0,10.0,18...|       1.0|[0.00151930167638...|    1|\n",
      "|[25.0,2.0,10.0,18...|       0.0|[0.89235702240844...|    0|\n",
      "|[25.0,2.0,10.0,8....|       1.0|[1.51662602578178...|    1|\n",
      "|[25.0,2.0,10.0,48...|       0.0|[0.87728414561262...|    0|\n",
      "|[25.0,2.0,10.0,37...|       0.0|[0.56474263118840...|    1|\n",
      "|[25.0,2.0,10.0,37...|       1.0|[9.61106838213785...|    1|\n",
      "|[25.0,2.0,10.0,37...|       0.0|[0.90740459057788...|    0|\n",
      "|[25.0,2.0,10.0,37...|       1.0|[0.00983703232840...|    1|\n",
      "|[25.0,2.0,10.0,37...|       0.0|[0.84896813768499...|    0|\n",
      "|[25.0,2.0,10.0,37...|       1.0|[4.79947137749929...|    1|\n",
      "|[25.0,2.0,10.0,23...|       1.0|[0.02955153800483...|    1|\n",
      "|[25.0,2.0,10.0,13...|       1.0|[3.17808889655452...|    1|\n",
      "|[25.0,2.0,10.0,13...|       0.0|[0.79013219434263...|    0|\n",
      "|[25.0,2.0,10.0,49...|       0.0|[0.92965033312503...|    0|\n",
      "|[25.0,2.0,10.0,12...|       0.0|[0.82847525626796...|    1|\n",
      "|[25.0,2.0,10.0,14...|       1.0|[0.06260092052136...|    1|\n",
      "|[25.0,2.0,10.0,16...|       0.0|[0.89342591108492...|    0|\n",
      "|[25.0,2.0,10.0,16...|       1.0|[0.00717389891615...|    1|\n",
      "|[25.0,2.0,10.0,17...|       0.0|[0.94258608182387...|    0|\n",
      "|[25.0,2.0,10.0,17...|       1.0|[0.00248256025061...|    1|\n",
      "|[25.0,2.0,10.0,36...|       1.0|[0.00296829594964...|    1|\n",
      "|[25.0,2.0,10.0,0....|       1.0|[7.79340218192395...|    1|\n",
      "|[25.0,2.0,10.0,64...|       0.0|[0.96168110739538...|    0|\n",
      "|[25.0,2.0,10.0,64...|       1.0|[0.00351595281671...|    1|\n",
      "|[25.0,2.0,10.0,20...|       0.0|[0.89571459597152...|    0|\n",
      "|[25.0,2.0,10.0,20...|       1.0|[0.00437606002648...|    1|\n",
      "|[25.0,2.0,10.0,45...|       1.0|[0.24892722815871...|    1|\n",
      "|[25.0,2.0,10.0,67...|       0.0|[0.84627350132248...|    0|\n",
      "|[25.0,2.0,10.0,67...|       1.0|[0.17091230221912...|    1|\n",
      "|[25.0,2.0,10.0,25...|       1.0|[0.07665012174987...|    1|\n",
      "|[25.0,2.0,2.0,47....|       0.0|[0.93670711321263...|    0|\n",
      "|[25.0,2.0,2.0,34....|       0.0|[0.93186700981136...|    0|\n",
      "|[25.0,2.0,2.0,34....|       0.0|[0.91469884461859...|    0|\n",
      "|[25.0,2.0,2.0,27....|       0.0|[0.88613729965160...|    1|\n",
      "|[25.0,2.0,2.0,11....|       0.0|[0.95526295496036...|    0|\n",
      "|[25.0,2.0,2.0,11....|       1.0|[0.47452275173683...|    1|\n",
      "|[25.0,2.0,2.0,11....|       1.0|[0.05214383286427...|    1|\n",
      "|[25.0,2.0,2.0,18....|       1.0|[0.18300057026665...|    1|\n",
      "|[25.0,2.0,2.0,35....|       0.0|[0.90523658284506...|    0|\n",
      "|[25.0,2.0,2.0,23....|       0.0|[0.87442780894067...|    0|\n",
      "|[25.0,2.0,2.0,23....|       0.0|[0.85762685056082...|    0|\n",
      "|[25.0,2.0,2.0,3.0...|       1.0|[0.02835937985745...|    1|\n",
      "|[25.0,2.0,2.0,3.0...|       1.0|[8.58931411711343...|    1|\n",
      "|[25.0,2.0,2.0,3.0...|       0.0|[0.82026330127254...|    0|\n",
      "|[25.0,2.0,2.0,3.0...|       1.0|[6.37354638136617...|    1|\n",
      "|[25.0,2.0,2.0,3.0...|       0.0|[0.89007884370005...|    0|\n",
      "|[25.0,2.0,2.0,3.0...|       1.0|[0.04871203088705...|    1|\n",
      "|[25.0,2.0,2.0,3.0...|       1.0|[0.03859724646791...|    1|\n",
      "|[25.0,2.0,2.0,3.0...|       1.0|[0.12686402811445...|    1|\n",
      "|[25.0,2.0,2.0,3.0...|       1.0|[0.01986249866300...|    1|\n",
      "|[25.0,2.0,2.0,3.0...|       0.0|[0.92673509439393...|    0|\n",
      "|[25.0,2.0,2.0,3.0...|       0.0|[0.86729488025782...|    0|\n",
      "|[25.0,2.0,2.0,3.0...|       1.0|[4.32351278998115...|    1|\n",
      "|[25.0,2.0,2.0,3.0...|       0.0|[0.90194924309116...|    0|\n",
      "|[25.0,2.0,2.0,3.0...|       0.0|[0.90194924309116...|    0|\n",
      "|[25.0,2.0,2.0,3.0...|       1.0|[0.00833139110048...|    1|\n",
      "|[25.0,2.0,2.0,3.0...|       0.0|[0.73378126900241...|    0|\n",
      "|[25.0,2.0,2.0,3.0...|       1.0|[0.09859792646980...|    1|\n",
      "|[25.0,2.0,2.0,3.0...|       1.0|[1.33395618627168...|    1|\n",
      "|[25.0,2.0,2.0,3.0...|       1.0|[0.00658099797647...|    1|\n",
      "|[25.0,2.0,2.0,3.0...|       0.0|[0.90984216743841...|    0|\n",
      "|[25.0,2.0,2.0,3.0...|       0.0|[0.74934102259064...|    0|\n",
      "|[25.0,2.0,2.0,3.0...|       1.0|[2.26068732339318...|    1|\n",
      "|[25.0,2.0,2.0,3.0...|       0.0|[0.91846259503747...|    0|\n",
      "|[25.0,2.0,2.0,3.0...|       0.0|[0.90887525499186...|    0|\n",
      "|[25.0,2.0,2.0,3.0...|       1.0|[0.04790307866591...|    1|\n",
      "|[25.0,2.0,2.0,3.0...|       0.0|[0.89454361249030...|    0|\n",
      "|[25.0,2.0,2.0,3.0...|       1.0|[0.18067081183013...|    0|\n",
      "|[25.0,2.0,2.0,3.0...|       1.0|[9.12343751144542...|    1|\n",
      "|[25.0,2.0,2.0,3.0...|       1.0|[0.04584751008507...|    1|\n",
      "|[25.0,2.0,2.0,3.0...|       1.0|[0.28826865028403...|    1|\n",
      "|[25.0,2.0,2.0,3.0...|       1.0|[0.00194714887692...|    1|\n",
      "|[25.0,2.0,2.0,3.0...|       1.0|[0.38341884290362...|    0|\n",
      "|[25.0,2.0,2.0,3.0...|       1.0|[0.38341884290362...|    0|\n",
      "|[25.0,2.0,2.0,3.0...|       1.0|[0.06507308981436...|    1|\n",
      "|[25.0,2.0,2.0,3.0...|       1.0|[3.26563223361470...|    1|\n",
      "|[25.0,2.0,2.0,3.0...|       0.0|[0.81677828235818...|    0|\n",
      "|[25.0,2.0,2.0,3.0...|       0.0|[0.95101562412259...|    0|\n",
      "|[25.0,2.0,2.0,10....|       0.0|[0.95599411074455...|    0|\n",
      "|[25.0,2.0,2.0,26....|       1.0|[0.01252438012599...|    1|\n",
      "|[25.0,2.0,2.0,52....|       1.0|[0.00294098306409...|    1|\n",
      "|[25.0,2.0,2.0,24....|       1.0|[0.29426602743041...|    1|\n",
      "|[25.0,2.0,2.0,51....|       0.0|[0.93813069680223...|    0|\n",
      "|[25.0,2.0,2.0,51....|       0.0|[0.89192541120249...|    0|\n",
      "|[25.0,2.0,2.0,12....|       1.0|[0.03093674603745...|    1|\n",
      "|[25.0,2.0,2.0,12....|       0.0|[0.92037983960674...|    1|\n",
      "|[25.0,2.0,2.0,12....|       0.0|[0.95005468070306...|    0|\n",
      "|[25.0,2.0,2.0,12....|       1.0|[0.11960396163412...|    1|\n",
      "|[25.0,2.0,2.0,7.0...|       1.0|[0.32932079513918...|    0|\n",
      "|[25.0,2.0,2.0,7.0...|       0.0|[0.87265896396807...|    0|\n",
      "|[25.0,2.0,2.0,2.0...|       0.0|[0.88661348301138...|    0|\n",
      "|[25.0,2.0,2.0,2.0...|       0.0|[0.91757596847008...|    1|\n",
      "|[25.0,2.0,2.0,2.0...|       0.0|[0.86924978102290...|    1|\n",
      "|[25.0,2.0,2.0,2.0...|       1.0|[0.03690759241327...|    1|\n",
      "|[25.0,2.0,2.0,2.0...|       1.0|[0.02394471913248...|    1|\n",
      "|[25.0,2.0,2.0,2.0...|       0.0|[0.94066639149617...|    0|\n",
      "|[25.0,2.0,2.0,2.0...|       0.0|[0.90693471704200...|    0|\n",
      "+--------------------+----------+--------------------+-----+\n",
      "only showing top 100 rows\n",
      "\n"
     ]
    }
   ],
   "source": [
    "prediction = model.transform(test)\n",
    "predicted = prediction.select(\"features\", \"prediction\", \"probability\", \"label\")\n",
    "predicted.show(100)"
   ]
  },
  {
   "cell_type": "markdown",
   "metadata": {},
   "source": [
    "### Compute Confusion Matrix Metrics\n",
    "Classifiers are typically evaluated by creating a *confusion matrix*, which indicates the number of:\n",
    "- True Positives\n",
    "- True Negatives\n",
    "- False Positives\n",
    "- False Negatives\n",
    "\n",
    "From these core measures, other evaluation metrics such as *precision* and *recall* can be calculated."
   ]
  },
  {
   "cell_type": "code",
   "execution_count": 7,
   "metadata": {
    "collapsed": false,
    "jupyter": {
     "outputs_hidden": false
    }
   },
   "outputs": [
    {
     "name": "stdout",
     "output_type": "stream",
     "text": [
      "+---------+------------------+\n",
      "|   metric|             value|\n",
      "+---------+------------------+\n",
      "|       TP|           89510.0|\n",
      "|       FP|            7470.0|\n",
      "|       TN|           81839.0|\n",
      "|       FN|           13142.0|\n",
      "|Precision|0.9229738090327902|\n",
      "|   Recall|0.8719752172388263|\n",
      "+---------+------------------+\n",
      "\n"
     ]
    }
   ],
   "source": [
    "tp = float(predicted.filter(\"prediction == 1.0 AND label == 1\").count())\n",
    "fp = float(predicted.filter(\"prediction == 1.0 AND label == 0\").count())\n",
    "tn = float(predicted.filter(\"prediction == 0.0 AND label == 0\").count())\n",
    "fn = float(predicted.filter(\"prediction == 0.0 AND label == 1\").count())\n",
    "metrics = spark.createDataFrame([\n",
    " (\"TP\", tp),\n",
    " (\"FP\", fp),\n",
    " (\"TN\", tn),\n",
    " (\"FN\", fn),\n",
    " (\"Precision\", tp / (tp + fp)),\n",
    " (\"Recall\", tp / (tp + fn))],[\"metric\", \"value\"])\n",
    "metrics.show()"
   ]
  },
  {
   "cell_type": "markdown",
   "metadata": {},
   "source": [
    "### Review the Area Under ROC\n",
    "Another way to assess the performance of a classification model is to measure the area under a ROC curve for the model. the spark.ml library includes a **BinaryClassificationEvaluator** class that you can use to compute this."
   ]
  },
  {
   "cell_type": "code",
   "execution_count": 8,
   "metadata": {
    "collapsed": false,
    "jupyter": {
     "outputs_hidden": false
    }
   },
   "outputs": [
    {
     "name": "stdout",
     "output_type": "stream",
     "text": [
      "AUC =  0.894166515560483\n"
     ]
    }
   ],
   "source": [
    "evaluator = BinaryClassificationEvaluator(labelCol=\"label\", rawPredictionCol=\"prediction\", metricName=\"areaUnderROC\")\n",
    "auc = evaluator.evaluate(prediction)\n",
    "print (\"AUC = \", auc)"
   ]
  },
  {
   "cell_type": "code",
   "execution_count": null,
   "metadata": {},
   "outputs": [],
   "source": []
  }
 ],
 "metadata": {
  "kernelspec": {
   "display_name": "Python 3",
   "language": "python",
   "name": "python3"
  },
  "language_info": {
   "codemirror_mode": {
    "name": "ipython",
    "version": 3
   },
   "file_extension": ".py",
   "mimetype": "text/x-python",
   "name": "python",
   "nbconvert_exporter": "python",
   "pygments_lexer": "ipython3",
   "version": "3.7.3"
  },
  "name": "Python Parameter Tuning",
  "notebookId": 374219277805995
 },
 "nbformat": 4,
 "nbformat_minor": 4
}
