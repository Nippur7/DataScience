{
 "cells": [
  {
   "cell_type": "markdown",
   "metadata": {},
   "source": [
    "## Evaluating a Regression Model\n",
    "\n",
    "In this exercise, you will create a pipeline for a linear regression model, and then test and evaluate the model.\n",
    "\n",
    "### Prepare the Data\n",
    "\n",
    "First, import the libraries you will need and prepare the training and test data:"
   ]
  },
  {
   "cell_type": "code",
   "execution_count": 1,
   "metadata": {},
   "outputs": [],
   "source": [
    "from pyspark.sql import SparkSession\n",
    "\n",
    "spark = SparkSession.\\\n",
    "        builder.\\\n",
    "        appName(\"pyspark-notebook\").\\\n",
    "        master(\"spark://spark-master:7077\").\\\n",
    "        config(\"spark.executor.memory\", \"4098m\").\\\n",
    "        getOrCreate()"
   ]
  },
  {
   "cell_type": "code",
   "execution_count": 2,
   "metadata": {
    "collapsed": false,
    "jupyter": {
     "outputs_hidden": false
    }
   },
   "outputs": [],
   "source": [
    "# Import Spark SQL and Spark ML libraries\n",
    "from pyspark.sql.types import *\n",
    "from pyspark.sql.functions import *\n",
    "\n",
    "from pyspark.ml import Pipeline\n",
    "from pyspark.ml.regression import LinearRegression\n",
    "from pyspark.ml.feature import VectorAssembler, StringIndexer, MinMaxScaler\n",
    "from pyspark.ml.tuning import ParamGridBuilder, CrossValidator\n",
    "from pyspark.ml.evaluation import RegressionEvaluator\n",
    "\n",
    "# Load the source data\n",
    "flightSchema = StructType([\n",
    "  StructField(\"DayofMonth\", IntegerType(), False),\n",
    "  StructField(\"DayOfWeek\", IntegerType(), False),\n",
    "  StructField(\"Carrier\", StringType(), False),\n",
    "  StructField(\"OriginAirportID\", StringType(), False),\n",
    "  StructField(\"DestAirportID\", StringType(), False),\n",
    "  StructField(\"DepDelay\", IntegerType(), False),\n",
    "  StructField(\"ArrDelay\", IntegerType(), False),\n",
    "  StructField(\"Late\", IntegerType(), False),\n",
    "])"
   ]
  },
  {
   "cell_type": "code",
   "execution_count": 3,
   "metadata": {
    "collapsed": false,
    "jupyter": {
     "outputs_hidden": false
    }
   },
   "outputs": [],
   "source": [
    "data = spark.read.csv('../data/flights.csv', schema=flightSchema, header=True)\n",
    "data = data.select(\"DayofMonth\", \"DayOfWeek\", \"Carrier\", \"OriginAirportID\", \"DestAirportID\", \"DepDelay\", col(\"ArrDelay\").alias(\"label\"))\n",
    "\n",
    "# Split the data\n",
    "splits = data.randomSplit([0.7, 0.3])\n",
    "train = splits[0]\n",
    "test = splits[1]"
   ]
  },
  {
   "cell_type": "markdown",
   "metadata": {},
   "source": [
    "### Define the Pipeline and Train the Model\n",
    "Now define a pipeline that creates a feature vector and trains a regression model"
   ]
  },
  {
   "cell_type": "code",
   "execution_count": 4,
   "metadata": {
    "collapsed": false,
    "jupyter": {
     "outputs_hidden": false
    }
   },
   "outputs": [],
   "source": [
    "# Define the pipeline\n",
    "monthdayIndexer = StringIndexer(inputCol=\"DayofMonth\", outputCol=\"DayofMonthIdx\")\n",
    "weekdayIndexer = StringIndexer(inputCol=\"DayOfWeek\", outputCol=\"DayOfWeekIdx\")\n",
    "carrierIndexer = StringIndexer(inputCol=\"Carrier\", outputCol=\"CarrierIdx\")\n",
    "originIndexer = StringIndexer(inputCol=\"OriginAirportID\", outputCol=\"OriginAirportIdx\")\n",
    "destIndexer = StringIndexer(inputCol=\"DestAirportID\", outputCol=\"DestAirportIdx\")\n",
    "numVect = VectorAssembler(inputCols = [\"DepDelay\"], outputCol=\"numFeatures\")\n",
    "minMax = MinMaxScaler(inputCol = numVect.getOutputCol(), outputCol=\"normNums\")\n",
    "featVect = VectorAssembler(inputCols=[\"DayofMonthIdx\", \"DayOfWeekIdx\", \"CarrierIdx\", \"OriginAirportIdx\", \"DestAirportIdx\", \"normNums\"], outputCol=\"features\")\n",
    "lr = LinearRegression(labelCol=\"label\", featuresCol=\"features\")\n",
    "pipeline = Pipeline(stages=[monthdayIndexer, weekdayIndexer, carrierIndexer, originIndexer, destIndexer, numVect, minMax, featVect, lr])\n",
    "\n",
    "# Train the model\n",
    "piplineModel = pipeline.fit(train)"
   ]
  },
  {
   "cell_type": "markdown",
   "metadata": {},
   "source": [
    "### Test the Model\n",
    "Now you're ready to apply the model to the test data."
   ]
  },
  {
   "cell_type": "code",
   "execution_count": 5,
   "metadata": {
    "collapsed": false,
    "jupyter": {
     "outputs_hidden": false
    }
   },
   "outputs": [
    {
     "name": "stdout",
     "output_type": "stream",
     "text": [
      "+--------------------+-------------------+-----+\n",
      "|            features|         prediction|label|\n",
      "+--------------------+-------------------+-----+\n",
      "|[25.0,2.0,10.0,1....| 3.7093081991818835|    2|\n",
      "|[25.0,2.0,10.0,11...| -2.644396212061494|   -2|\n",
      "|[25.0,2.0,10.0,11...| 10.889733546459318|   28|\n",
      "|[25.0,2.0,10.0,36...| -1.981488581717045|   -2|\n",
      "|[25.0,2.0,10.0,7....| 101.49844052719371|   76|\n",
      "|[25.0,2.0,10.0,48...| 14.982686451963787|    7|\n",
      "|[25.0,2.0,10.0,38...| 30.259437968633364|   27|\n",
      "|[25.0,2.0,10.0,38...| 140.37931163061737|  144|\n",
      "|[25.0,2.0,10.0,38...| 21.907761979051344|    2|\n",
      "|[25.0,2.0,10.0,38...| 5.8082190461635435|   21|\n",
      "|[25.0,2.0,10.0,38...|  4.030097211164708|   -4|\n",
      "|[25.0,2.0,10.0,38...|-1.3204872590478018|  -10|\n",
      "|[25.0,2.0,10.0,38...| 59.893110660041984|   54|\n",
      "|[25.0,2.0,10.0,38...|  74.98176623412854|   66|\n",
      "|[25.0,2.0,10.0,23...| 28.837063279861724|   50|\n",
      "|[25.0,2.0,10.0,3....| -1.392058532238778|   -7|\n",
      "|[25.0,2.0,10.0,14...| 23.463355905779622|   29|\n",
      "|[25.0,2.0,10.0,14...|  4.274818204930895|   26|\n",
      "|[25.0,2.0,10.0,14...|  13.06601043746997|   29|\n",
      "|[25.0,2.0,10.0,14...|-0.8359512806325142|  -14|\n",
      "+--------------------+-------------------+-----+\n",
      "only showing top 20 rows\n",
      "\n"
     ]
    }
   ],
   "source": [
    "prediction = piplineModel.transform(test)\n",
    "predicted = prediction.select(\"features\", \"prediction\", \"label\")\n",
    "predicted.show()"
   ]
  },
  {
   "cell_type": "markdown",
   "metadata": {},
   "source": [
    "### Examine the Predicted and Actual Values\n",
    "You can plot the predicted values against the actual values to see how accurately the model has predicted. In a perfect model, the resulting scatter plot should form a perfect diagonal line with each predicted value being identical to the actual value - in practice, some variance is to be expected.\n",
    "Run the cells below to create a temporary table from the **predicted** DataFrame and then retrieve the predicted and actual label values using SQL. You can then display the results as a scatter plot to see how well the predicted delay correlates to the actual delay."
   ]
  },
  {
   "cell_type": "code",
   "execution_count": 6,
   "metadata": {
    "collapsed": false,
    "jupyter": {
     "outputs_hidden": false
    }
   },
   "outputs": [],
   "source": [
    "predicted.createOrReplaceTempView(\"regressionPredictions\")"
   ]
  },
  {
   "cell_type": "code",
   "execution_count": 7,
   "metadata": {
    "collapsed": false,
    "jupyter": {
     "outputs_hidden": false
    }
   },
   "outputs": [
    {
     "name": "stdout",
     "output_type": "stream",
     "text": [
      "+-----+-------------------+\n",
      "|label|         prediction|\n",
      "+-----+-------------------+\n",
      "|    2| 3.7093081991818835|\n",
      "|   -2| -2.644396212061494|\n",
      "|   28| 10.889733546459318|\n",
      "|   -2| -1.981488581717045|\n",
      "|   76| 101.49844052719371|\n",
      "|    7| 14.982686451963787|\n",
      "|   27| 30.259437968633364|\n",
      "|  144| 140.37931163061737|\n",
      "|    2| 21.907761979051344|\n",
      "|   21| 5.8082190461635435|\n",
      "|   -4|  4.030097211164708|\n",
      "|  -10|-1.3204872590478018|\n",
      "|   54| 59.893110660041984|\n",
      "|   66|  74.98176623412854|\n",
      "|   50| 28.837063279861724|\n",
      "|   -7| -1.392058532238778|\n",
      "|   29| 23.463355905779622|\n",
      "|   26|  4.274818204930895|\n",
      "|   29|  13.06601043746997|\n",
      "|  -14|-0.8359512806325142|\n",
      "+-----+-------------------+\n",
      "only showing top 20 rows\n",
      "\n"
     ]
    }
   ],
   "source": [
    "spark.sql(\"SELECT label, prediction FROM regressionPredictions\").show()"
   ]
  },
  {
   "cell_type": "markdown",
   "metadata": {},
   "source": [
    "### Retrieve the Root Mean Square Error (RMSE)\n",
    "There are a number of metrics used to measure the variance between predicted and actual values. Of these, the root mean square error (RMSE) is a commonly used value that is measured in the same units as the predicted and actual values - so in this case, the RMSE indicates the average number of minutes between predicted and actual flight delay values. You can use the **RegressionEvaluator** class to retrieve the RMSE."
   ]
  },
  {
   "cell_type": "code",
   "execution_count": 8,
   "metadata": {
    "collapsed": false,
    "jupyter": {
     "outputs_hidden": false
    }
   },
   "outputs": [
    {
     "name": "stdout",
     "output_type": "stream",
     "text": [
      "Root Mean Square Error (RMSE): 17.3843564168783\n"
     ]
    }
   ],
   "source": [
    "from pyspark.ml.evaluation import RegressionEvaluator\n",
    "\n",
    "evaluator = RegressionEvaluator(labelCol=\"label\", predictionCol=\"prediction\", metricName=\"rmse\")\n",
    "rmse = evaluator.evaluate(prediction)\n",
    "print (\"Root Mean Square Error (RMSE):\", rmse)"
   ]
  },
  {
   "cell_type": "code",
   "execution_count": null,
   "metadata": {},
   "outputs": [],
   "source": []
  }
 ],
 "metadata": {
  "kernelspec": {
   "display_name": "Python 3",
   "language": "python",
   "name": "python3"
  },
  "language_info": {
   "codemirror_mode": {
    "name": "ipython",
    "version": 3
   },
   "file_extension": ".py",
   "mimetype": "text/x-python",
   "name": "python",
   "nbconvert_exporter": "python",
   "pygments_lexer": "ipython3",
   "version": "3.7.3"
  },
  "name": "Python Regression Evaluation",
  "notebookId": 374219277806021,
  "widgets": {
   "state": {
    "3cc3b0402bc44842aed785220d307db0": {
     "views": [
      {
       "cell_index": "8"
      }
     ]
    },
    "76bc6e0b425942c3bf1e45506e6ed087": {
     "views": [
      {
       "cell_index": "8"
      }
     ]
    },
    "9a621f8e3bc242bb8ca31f76cc02b5da": {
     "views": [
      {
       "cell_index": "8"
      }
     ]
    },
    "d6eefac808724429915e0b32eea703c9": {
     "views": [
      {
       "cell_index": "8"
      }
     ]
    }
   },
   "version": "1.2.0"
  }
 },
 "nbformat": 4,
 "nbformat_minor": 4
}
