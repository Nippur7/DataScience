{
 "cells": [
  {
   "cell_type": "markdown",
   "metadata": {},
   "source": [
    "## Creating a Pipeline\n",
    "\n",
    "In this exercise, you will implement a pipeline that includes multiple stages of *transformers* and *estimators* to prepare features and train a classification model. The resulting trained *PipelineModel* can then be used as a transformer to predict whether or not a flight will be late.\n",
    "\n",
    "### Import Spark SQL and Spark ML Libraries\n",
    "\n",
    "First, import the libraries you will need:"
   ]
  },
  {
   "cell_type": "code",
   "execution_count": 1,
   "metadata": {},
   "outputs": [],
   "source": [
    "from pyspark.sql import SparkSession\n",
    "\n",
    "spark = SparkSession.\\\n",
    "        builder.\\\n",
    "        appName(\"pyspark-notebook\").\\\n",
    "        master(\"spark://spark-master:7077\").\\\n",
    "        config(\"spark.executor.memory\", \"4098m\").\\\n",
    "        getOrCreate()"
   ]
  },
  {
   "cell_type": "code",
   "execution_count": 3,
   "metadata": {},
   "outputs": [
    {
     "name": "stdout",
     "output_type": "stream",
     "text": [
      "Collecting numpy\n",
      "  Downloading numpy-1.20.2-cp37-cp37m-manylinux2010_x86_64.whl (15.3 MB)\n",
      "\u001b[K     |████████████████████████████████| 15.3 MB 6.8 MB/s eta 0:00:01    |███████████▊                    | 5.6 MB 6.1 MB/s eta 0:00:02     |██████████████                  | 6.7 MB 6.1 MB/s eta 0:00:02     |██████████████████████▍         | 10.7 MB 6.2 MB/s eta 0:00:01     |██████████████████████████▉     | 12.8 MB 6.2 MB/s eta 0:00:01\n",
      "\u001b[?25hInstalling collected packages: numpy\n",
      "Successfully installed numpy-1.20.2\n"
     ]
    }
   ],
   "source": [
    "!pip install numpy"
   ]
  },
  {
   "cell_type": "code",
   "execution_count": 4,
   "metadata": {
    "collapsed": false,
    "jupyter": {
     "outputs_hidden": false
    }
   },
   "outputs": [],
   "source": [
    "from pyspark.sql.types import *\n",
    "from pyspark.sql.functions import *\n",
    "\n",
    "from pyspark.ml import Pipeline\n",
    "from pyspark.ml.classification import LogisticRegression\n",
    "from pyspark.ml.feature import VectorAssembler, StringIndexer, MinMaxScaler"
   ]
  },
  {
   "cell_type": "markdown",
   "metadata": {},
   "source": [
    "### Load Source Data\n",
    "The data for this exercise is provided as a CSV file containing details of flights. The data includes specific characteristics (or *features*) for each flight, as well as a column indicating whether or not the flight was late.\n",
    "\n",
    "You will load this data into a dataframe and display it."
   ]
  },
  {
   "cell_type": "code",
   "execution_count": 5,
   "metadata": {
    "collapsed": false,
    "jupyter": {
     "outputs_hidden": false
    }
   },
   "outputs": [
    {
     "name": "stdout",
     "output_type": "stream",
     "text": [
      "+----------+---------+-------+---------------+-------------+--------+--------+----+\n",
      "|DayofMonth|DayOfWeek|Carrier|OriginAirportID|DestAirportID|DepDelay|ArrDelay|Late|\n",
      "+----------+---------+-------+---------------+-------------+--------+--------+----+\n",
      "|        21|        2|     WN|          10721|        13342|      26|      57|   1|\n",
      "|        13|        1|     AA|          15016|        12892|      51|      27|   1|\n",
      "|         5|        5|     FL|          10397|        11433|       9|       4|   0|\n",
      "|        22|        1|     US|          11278|        14100|      35|      71|   1|\n",
      "|        23|        4|     WN|          12451|        10693|       9|       5|   0|\n",
      "|         5|        7|     AA|          11298|        15016|      39|      42|   1|\n",
      "|         4|        6|     UA|          13930|        14307|      71|      58|   1|\n",
      "|        10|        3|     9E|          14307|        11433|      68|     140|   1|\n",
      "|        29|        7|     UA|          14057|        14771|     130|     125|   1|\n",
      "|        14|        7|     UA|          14771|        11292|      20|      42|   1|\n",
      "|        14|        6|     UA|          12892|        11618|       6|     -21|   0|\n",
      "|        16|        3|     AA|          11298|        13204|       5|      -7|   0|\n",
      "|         7|        3|     VX|          14747|        14771|     143|     129|   1|\n",
      "|        20|        2|     DL|          13204|        12478|       9|       5|   0|\n",
      "|        28|        5|     DL|          11292|        13487|       1|      -3|   0|\n",
      "|        17|        6|     MQ|          11042|        13303|      12|      26|   1|\n",
      "|         3|        3|     EV|          12266|        15016|      20|       3|   0|\n",
      "|         2|        4|     DL|          10397|        13198|      32|      23|   0|\n",
      "|         4|        5|     WN|          12889|        13342|      90|      80|   1|\n",
      "|        25|        6|     UA|          10721|        12266|      -5|     -27|   0|\n",
      "+----------+---------+-------+---------------+-------------+--------+--------+----+\n",
      "only showing top 20 rows\n",
      "\n"
     ]
    }
   ],
   "source": [
    "flightSchema = StructType([\n",
    "  StructField(\"DayofMonth\", IntegerType(), False),\n",
    "  StructField(\"DayOfWeek\", IntegerType(), False),\n",
    "  StructField(\"Carrier\", StringType(), False),\n",
    "  StructField(\"OriginAirportID\", StringType(), False),\n",
    "  StructField(\"DestAirportID\", StringType(), False),\n",
    "  StructField(\"DepDelay\", IntegerType(), False),\n",
    "  StructField(\"ArrDelay\", IntegerType(), False),\n",
    "  StructField(\"Late\", IntegerType(), False),\n",
    "])\n",
    "\n",
    "data = spark.read.csv('../data/flights.csv', schema=flightSchema, header=True)\n",
    "data.show()"
   ]
  },
  {
   "cell_type": "code",
   "execution_count": 6,
   "metadata": {},
   "outputs": [],
   "source": [
    "spark.catalog.clearCache()"
   ]
  },
  {
   "cell_type": "markdown",
   "metadata": {},
   "source": [
    "### Split the Data\n",
    "It is common practice when building supervised machine learning models to split the source data, using some of it to train the model and reserving some to test the trained model. In this exercise, you will use 70% of the data for training, and reserve 30% for testing."
   ]
  },
  {
   "cell_type": "code",
   "execution_count": 8,
   "metadata": {
    "collapsed": false,
    "jupyter": {
     "outputs_hidden": false
    }
   },
   "outputs": [
    {
     "name": "stdout",
     "output_type": "stream",
     "text": [
      "Training Rows: 445982  Testing Rows: 191101\n"
     ]
    }
   ],
   "source": [
    "splits = data.randomSplit([0.7, 0.3])\n",
    "train = splits[0]\n",
    "test = splits[1]\n",
    "train_rows = train.count()\n",
    "test_rows = test.count()\n",
    "print (\"Training Rows:\", train_rows, \" Testing Rows:\", test_rows)"
   ]
  },
  {
   "cell_type": "markdown",
   "metadata": {},
   "source": [
    "### Define the Pipeline\n",
    "A predictive model often requires multiple stages of feature preparation. For example, it is common when using some algorithms to distingish between continuous features (which have a calculable numeric value) and categorical features (which are numeric representations of discrete categories). It is also common to *normalize* continuous numeric features to use a common scale - for example, by scaling all numbers to a proportional decimal value between 0 and 1 (strictly speaking, it only really makes sense to do this when you have multiple numeric columns - normalizing them all to similar scales prevents a feature with particularly large values from dominating the training of the model - in this case, we only have one non-categorical numeric feature; but I've included this so you can see how it's done!).\n",
    "\n",
    "A pipeline consists of a a series of *transformer* and *estimator* stages that typically prepare a dataframe for\n",
    "modeling and then train a predictive model. In this case, you will create a pipeline with seven stages:\n",
    "- A **StringIndexer** estimator for each categorical variable to generate numeric indexes for categorical features\n",
    "- A **VectorAssembler** that creates a vector of continuous numeric features\n",
    "- A **MinMaxScaler** that normalizes vector of numeric features\n",
    "- A **VectorAssembler** that creates a vector of categorical and continuous features\n",
    "- A **LogisticRegression** algorithm that trains a classification model."
   ]
  },
  {
   "cell_type": "code",
   "execution_count": 9,
   "metadata": {},
   "outputs": [],
   "source": [
    "monthdayIndexer = StringIndexer(inputCol=\"DayofMonth\", outputCol=\"DayofMonthIdx\")\n",
    "weekdayIndexer = StringIndexer(inputCol=\"DayOfWeek\", outputCol=\"DayOfWeekIdx\")\n",
    "carrierIndexer = StringIndexer(inputCol=\"Carrier\", outputCol=\"CarrierIdx\")\n",
    "originIndexer = StringIndexer(inputCol=\"OriginAirportID\", outputCol=\"OriginAirportIdx\")\n",
    "destIndexer = StringIndexer(inputCol=\"DestAirportID\", outputCol=\"DestAirportIdx\")\n",
    "numVect = VectorAssembler(inputCols = [\"DepDelay\"], outputCol=\"numFeatures\")\n",
    "minMax = MinMaxScaler(inputCol = numVect.getOutputCol(), outputCol=\"normNums\")\n",
    "featVect = VectorAssembler(inputCols=[\"DayofMonthIdx\", \"DayOfWeekIdx\", \"CarrierIdx\", \"OriginAirportIdx\", \"DestAirportIdx\", \"normNums\"], outputCol=\"features\")\n",
    "lr = LogisticRegression(labelCol=\"Late\", featuresCol=\"features\")\n",
    "pipeline = Pipeline(stages=[monthdayIndexer, weekdayIndexer, carrierIndexer, originIndexer, destIndexer, numVect, minMax, featVect, lr])"
   ]
  },
  {
   "cell_type": "markdown",
   "metadata": {},
   "source": [
    "### Run the Pipeline as an Estimator\n",
    "The pipeline itself is an estimator, and so it has a **fit** method that you can call to run the pipeline on a specified dataframe. In this case, you will run the pipeline on the training data to train a model."
   ]
  },
  {
   "cell_type": "code",
   "execution_count": 10,
   "metadata": {
    "collapsed": false,
    "jupyter": {
     "outputs_hidden": false
    }
   },
   "outputs": [
    {
     "name": "stdout",
     "output_type": "stream",
     "text": [
      "Pipeline complete!\n"
     ]
    }
   ],
   "source": [
    "piplineModel = pipeline.fit(train)\n",
    "print (\"Pipeline complete!\")"
   ]
  },
  {
   "cell_type": "markdown",
   "metadata": {},
   "source": [
    "### Test the Pipeline Model\n",
    "The model produced by the pipeline is a transformer that will apply all of the stages in the pipeline to a specified dataframe and apply the trained model to generate predictions. In this case, you will transform the **test** dataframe using the pipeline to generate label predictions."
   ]
  },
  {
   "cell_type": "code",
   "execution_count": 11,
   "metadata": {
    "collapsed": false,
    "jupyter": {
     "outputs_hidden": false
    }
   },
   "outputs": [
    {
     "name": "stdout",
     "output_type": "stream",
     "text": [
      "+---------------------------------------------+----------+---------+\n",
      "|features                                     |prediction|trueLabel|\n",
      "+---------------------------------------------+----------+---------+\n",
      "|[25.0,2.0,10.0,57.0,33.0,0.3582089552238806] |1         |1        |\n",
      "|[25.0,2.0,10.0,11.0,12.0,0.24378109452736318]|0         |1        |\n",
      "|[25.0,2.0,10.0,11.0,12.0,0.29850746268656714]|0         |1        |\n",
      "|[25.0,2.0,10.0,50.0,15.0,0.2288557213930348] |0         |0        |\n",
      "|[25.0,2.0,10.0,18.0,12.0,0.2288557213930348] |0         |1        |\n",
      "|[25.0,2.0,10.0,36.0,15.0,0.23383084577114427]|0         |0        |\n",
      "|[25.0,2.0,10.0,38.0,53.0,0.4129353233830846] |1         |1        |\n",
      "|[25.0,2.0,10.0,38.0,19.0,0.5522388059701493] |1         |1        |\n",
      "|[25.0,2.0,10.0,38.0,22.0,0.9950248756218906] |1         |1        |\n",
      "|[25.0,2.0,10.0,38.0,7.0,0.5621890547263682]  |1         |1        |\n",
      "|[25.0,2.0,10.0,38.0,30.0,0.27860696517412936]|0         |0        |\n",
      "|[25.0,2.0,10.0,38.0,49.0,0.2537313432835821] |0         |0        |\n",
      "|[25.0,2.0,10.0,38.0,49.0,0.2736318407960199] |0         |0        |\n",
      "|[25.0,2.0,10.0,38.0,43.0,0.527363184079602]  |1         |1        |\n",
      "|[25.0,2.0,10.0,23.0,40.0,0.4825870646766169] |1         |1        |\n",
      "|[25.0,2.0,10.0,13.0,20.0,0.23880597014925373]|0         |0        |\n",
      "|[25.0,2.0,10.0,13.0,64.0,0.26865671641791045]|0         |1        |\n",
      "|[25.0,2.0,10.0,48.0,15.0,0.7064676616915423] |1         |1        |\n",
      "|[25.0,2.0,10.0,51.0,15.0,0.24378109452736318]|0         |0        |\n",
      "|[25.0,2.0,10.0,12.0,10.0,0.2537313432835821] |0         |1        |\n",
      "|[25.0,2.0,10.0,12.0,35.0,0.5671641791044776] |1         |1        |\n",
      "|[25.0,2.0,10.0,12.0,15.0,0.2537313432835821] |0         |0        |\n",
      "|[25.0,2.0,10.0,12.0,1.0,0.2537313432835821]  |0         |1        |\n",
      "|[25.0,2.0,10.0,31.0,12.0,0.25870646766169153]|0         |0        |\n",
      "|[25.0,2.0,10.0,16.0,15.0,0.23880597014925373]|0         |0        |\n",
      "|[25.0,2.0,10.0,47.0,40.0,0.23880597014925373]|0         |1        |\n",
      "|[25.0,2.0,10.0,47.0,40.0,0.25870646766169153]|0         |1        |\n",
      "|[25.0,2.0,10.0,47.0,22.0,0.31343283582089554]|0         |0        |\n",
      "|[25.0,2.0,10.0,17.0,40.0,0.22388059701492538]|0         |0        |\n",
      "|[25.0,2.0,10.0,17.0,12.0,0.2537313432835821] |0         |1        |\n",
      "|[25.0,2.0,10.0,17.0,12.0,0.2935323383084577] |0         |0        |\n",
      "|[25.0,2.0,10.0,0.0,40.0,0.472636815920398]   |1         |1        |\n",
      "|[25.0,2.0,10.0,64.0,10.0,0.20398009950248755]|0         |0        |\n",
      "|[25.0,2.0,10.0,20.0,15.0,0.23880597014925373]|0         |0        |\n",
      "|[25.0,2.0,10.0,20.0,12.0,0.5472636815920398] |1         |1        |\n",
      "|[25.0,2.0,10.0,67.0,15.0,0.26865671641791045]|0         |0        |\n",
      "|[25.0,2.0,10.0,32.0,12.0,0.8109452736318408] |1         |1        |\n",
      "|[25.0,2.0,10.0,29.0,40.0,0.36318407960199006]|1         |1        |\n",
      "|[25.0,2.0,2.0,69.0,5.0,0.6567164179104478]   |1         |1        |\n",
      "|[25.0,2.0,2.0,1.0,24.0,0.4427860696517413]   |1         |1        |\n",
      "|[25.0,2.0,2.0,34.0,5.0,0.34328358208955223]  |1         |0        |\n",
      "|[25.0,2.0,2.0,11.0,5.0,0.24378109452736318]  |0         |0        |\n",
      "|[25.0,2.0,2.0,11.0,2.0,0.7213930348258706]   |1         |1        |\n",
      "|[25.0,2.0,2.0,11.0,1.0,0.582089552238806]    |1         |1        |\n",
      "|[25.0,2.0,2.0,18.0,5.0,0.5174129353233831]   |1         |1        |\n",
      "|[25.0,2.0,2.0,18.0,24.0,0.25870646766169153] |0         |0        |\n",
      "|[25.0,2.0,2.0,18.0,24.0,0.39303482587064675] |1         |1        |\n",
      "|[25.0,2.0,2.0,36.0,5.0,0.24875621890547264]  |0         |0        |\n",
      "|[25.0,2.0,2.0,36.0,5.0,0.2537313432835821]   |0         |0        |\n",
      "|[25.0,2.0,2.0,23.0,24.0,0.2736318407960199]  |0         |1        |\n",
      "|[25.0,2.0,2.0,4.0,5.0,0.3233830845771144]    |0         |0        |\n",
      "|[25.0,2.0,2.0,3.0,47.0,0.4975124378109453]   |1         |1        |\n",
      "|[25.0,2.0,2.0,3.0,0.0,0.35323383084577115]   |1         |0        |\n",
      "|[25.0,2.0,2.0,3.0,0.0,0.472636815920398]     |1         |1        |\n",
      "|[25.0,2.0,2.0,3.0,32.0,0.24378109452736318]  |0         |0        |\n",
      "|[25.0,2.0,2.0,3.0,32.0,0.40298507462686567]  |1         |1        |\n",
      "|[25.0,2.0,2.0,3.0,32.0,0.6467661691542288]   |1         |1        |\n",
      "|[25.0,2.0,2.0,3.0,10.0,0.3034825870646766]   |0         |0        |\n",
      "|[25.0,2.0,2.0,3.0,35.0,0.30845771144278605]  |0         |0        |\n",
      "|[25.0,2.0,2.0,3.0,9.0,0.4975124378109453]    |1         |1        |\n",
      "|[25.0,2.0,2.0,3.0,22.0,0.4626865671641791]   |1         |1        |\n",
      "|[25.0,2.0,2.0,3.0,22.0,0.472636815920398]    |1         |1        |\n",
      "|[25.0,2.0,2.0,3.0,4.0,0.4577114427860696]    |1         |1        |\n",
      "|[25.0,2.0,2.0,3.0,7.0,0.6666666666666666]    |1         |1        |\n",
      "|[25.0,2.0,2.0,3.0,26.0,0.3880597014925373]   |1         |0        |\n",
      "|[25.0,2.0,2.0,3.0,8.0,0.24378109452736318]   |0         |0        |\n",
      "|[25.0,2.0,2.0,3.0,2.0,0.44776119402985076]   |1         |1        |\n",
      "|[25.0,2.0,2.0,3.0,2.0,0.6318407960199005]    |1         |1        |\n",
      "|[25.0,2.0,2.0,3.0,13.0,0.47761194029850745]  |1         |1        |\n",
      "|[25.0,2.0,2.0,3.0,30.0,0.23880597014925373]  |0         |0        |\n",
      "|[25.0,2.0,2.0,3.0,24.0,0.4925373134328358]   |1         |1        |\n",
      "|[25.0,2.0,2.0,3.0,16.0,0.24378109452736318]  |0         |0        |\n",
      "|[25.0,2.0,2.0,3.0,67.0,0.3233830845771144]   |0         |1        |\n",
      "|[25.0,2.0,2.0,3.0,51.0,0.26865671641791045]  |0         |0        |\n",
      "|[25.0,2.0,2.0,3.0,1.0,0.417910447761194]     |1         |1        |\n",
      "|[25.0,2.0,2.0,3.0,63.0,0.3681592039800995]   |1         |0        |\n",
      "|[25.0,2.0,2.0,3.0,34.0,0.2736318407960199]   |0         |0        |\n",
      "|[25.0,2.0,2.0,3.0,34.0,0.8606965174129353]   |1         |1        |\n",
      "|[25.0,2.0,2.0,3.0,21.0,0.47761194029850745]  |1         |1        |\n",
      "|[25.0,2.0,2.0,3.0,38.0,0.3681592039800995]   |1         |0        |\n",
      "|[25.0,2.0,2.0,3.0,41.0,0.2885572139303483]   |0         |0        |\n",
      "|[25.0,2.0,2.0,3.0,44.0,0.3034825870646766]   |0         |0        |\n",
      "|[25.0,2.0,2.0,3.0,29.0,0.3034825870646766]   |0         |0        |\n",
      "|[25.0,2.0,2.0,3.0,61.0,0.24378109452736318]  |0         |0        |\n",
      "|[25.0,2.0,2.0,13.0,5.0,0.6019900497512438]   |1         |1        |\n",
      "|[25.0,2.0,2.0,13.0,5.0,0.681592039800995]    |1         |1        |\n",
      "|[25.0,2.0,2.0,10.0,5.0,0.208955223880597]    |0         |0        |\n",
      "|[25.0,2.0,2.0,10.0,5.0,0.572139303482587]    |1         |1        |\n",
      "|[25.0,2.0,2.0,48.0,5.0,0.21393034825870647]  |0         |0        |\n",
      "|[25.0,2.0,2.0,51.0,5.0,0.25870646766169153]  |0         |0        |\n",
      "|[25.0,2.0,2.0,12.0,2.0,0.5223880597014925]   |1         |1        |\n",
      "|[25.0,2.0,2.0,12.0,28.0,0.42786069651741293] |1         |1        |\n",
      "|[25.0,2.0,2.0,8.0,12.0,0.24378109452736318]  |0         |1        |\n",
      "|[25.0,2.0,2.0,2.0,5.0,0.24875621890547264]   |0         |0        |\n",
      "|[25.0,2.0,2.0,2.0,12.0,0.25870646766169153]  |0         |1        |\n",
      "|[25.0,2.0,2.0,2.0,8.0,0.24875621890547264]   |0         |0        |\n",
      "|[25.0,2.0,2.0,2.0,1.0,0.24875621890547264]   |0         |0        |\n",
      "|[25.0,2.0,2.0,2.0,1.0,0.4825870646766169]    |1         |1        |\n",
      "|[25.0,2.0,2.0,2.0,3.0,0.21890547263681592]   |0         |0        |\n",
      "|[25.0,2.0,2.0,2.0,3.0,0.572139303482587]     |1         |1        |\n",
      "+---------------------------------------------+----------+---------+\n",
      "only showing top 100 rows\n",
      "\n"
     ]
    }
   ],
   "source": [
    "prediction = piplineModel.transform(test)\n",
    "predicted = prediction.select(\"features\", col(\"prediction\").cast(\"Int\"), col(\"Late\").alias(\"trueLabel\"))\n",
    "predicted.show(100, truncate=False)"
   ]
  },
  {
   "cell_type": "markdown",
   "metadata": {},
   "source": [
    "The resulting dataframe is produced by applying all of the transformations in the pipline to the test data. The **prediction** column contains the predicted value for the label, and the **trueLabel** column contains the actual known value from the testing data."
   ]
  }
 ],
 "metadata": {
  "kernelspec": {
   "display_name": "Python 3",
   "language": "python",
   "name": "python3"
  },
  "language_info": {
   "codemirror_mode": {
    "name": "ipython",
    "version": 3
   },
   "file_extension": ".py",
   "mimetype": "text/x-python",
   "name": "python",
   "nbconvert_exporter": "python",
   "pygments_lexer": "ipython3",
   "version": "3.7.3"
  },
  "name": "Python Pipeline",
  "notebookId": 374219277805845
 },
 "nbformat": 4,
 "nbformat_minor": 4
}
