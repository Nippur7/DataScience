{
 "cells": [
  {
   "cell_type": "markdown",
   "metadata": {},
   "source": [
    "## Creating a Classification Model\n",
    "\n",
    "In this exercise, you will implement a classification model that uses features of a flight to predict whether or not it will be late.\n",
    "\n",
    "### Import Spark SQL and Spark ML Libraries\n",
    "\n",
    "First, import the libraries you will need:"
   ]
  },
  {
   "cell_type": "code",
   "execution_count": 1,
   "metadata": {},
   "outputs": [],
   "source": [
    "from pyspark.sql import SparkSession\n",
    "\n",
    "spark = SparkSession.\\\n",
    "        builder.\\\n",
    "        appName(\"pyspark-notebook\").\\\n",
    "        master(\"spark://spark-master:7077\").\\\n",
    "        config(\"spark.executor.memory\", \"4098m\").\\\n",
    "        getOrCreate()"
   ]
  },
  {
   "cell_type": "code",
   "execution_count": 3,
   "metadata": {},
   "outputs": [
    {
     "name": "stdout",
     "output_type": "stream",
     "text": [
      "Collecting numpy\n",
      "  Downloading numpy-1.20.2-cp37-cp37m-manylinux2010_x86_64.whl (15.3 MB)\n",
      "\u001b[K     |████████████████████████████████| 15.3 MB 4.6 MB/s eta 0:00:01    |███████████▌                    | 5.5 MB 5.8 MB/s eta 0:00:02     |█████████████████████▏          | 10.1 MB 4.3 MB/s eta 0:00:02\n",
      "\u001b[?25hInstalling collected packages: numpy\n",
      "Successfully installed numpy-1.20.2\n"
     ]
    }
   ],
   "source": [
    "!pip install numpy"
   ]
  },
  {
   "cell_type": "code",
   "execution_count": 4,
   "metadata": {},
   "outputs": [],
   "source": [
    "from pyspark.sql.types import *\n",
    "from pyspark.sql.functions import *\n",
    "\n",
    "from pyspark.ml.classification import LogisticRegression\n",
    "from pyspark.ml.feature import StringIndexer, VectorAssembler"
   ]
  },
  {
   "cell_type": "markdown",
   "metadata": {},
   "source": [
    "### Load Source Data\n",
    "The data for this exercise is provided as a CSV file containing details of flights that has already been cleaned up for modeling. The data includes specific characteristics (or *features*) for each flight, as well as a *label* column indicating whether or not the flight was late (a flight with an arrival delay of more than 25 minutes is considered *late*).\n",
    "\n",
    "You will load this data into a dataframe and display it."
   ]
  },
  {
   "cell_type": "code",
   "execution_count": 5,
   "metadata": {},
   "outputs": [
    {
     "name": "stdout",
     "output_type": "stream",
     "text": [
      "+----------+---------+-------+---------------+-------------+--------+--------+----+\n",
      "|DayofMonth|DayOfWeek|Carrier|OriginAirportID|DestAirportID|DepDelay|ArrDelay|Late|\n",
      "+----------+---------+-------+---------------+-------------+--------+--------+----+\n",
      "|        21|        2|     WN|          10721|        13342|      26|      57|   1|\n",
      "|        13|        1|     AA|          15016|        12892|      51|      27|   1|\n",
      "|         5|        5|     FL|          10397|        11433|       9|       4|   0|\n",
      "|        22|        1|     US|          11278|        14100|      35|      71|   1|\n",
      "|        23|        4|     WN|          12451|        10693|       9|       5|   0|\n",
      "|         5|        7|     AA|          11298|        15016|      39|      42|   1|\n",
      "|         4|        6|     UA|          13930|        14307|      71|      58|   1|\n",
      "|        10|        3|     9E|          14307|        11433|      68|     140|   1|\n",
      "|        29|        7|     UA|          14057|        14771|     130|     125|   1|\n",
      "|        14|        7|     UA|          14771|        11292|      20|      42|   1|\n",
      "|        14|        6|     UA|          12892|        11618|       6|     -21|   0|\n",
      "|        16|        3|     AA|          11298|        13204|       5|      -7|   0|\n",
      "|         7|        3|     VX|          14747|        14771|     143|     129|   1|\n",
      "|        20|        2|     DL|          13204|        12478|       9|       5|   0|\n",
      "|        28|        5|     DL|          11292|        13487|       1|      -3|   0|\n",
      "|        17|        6|     MQ|          11042|        13303|      12|      26|   1|\n",
      "|         3|        3|     EV|          12266|        15016|      20|       3|   0|\n",
      "|         2|        4|     DL|          10397|        13198|      32|      23|   0|\n",
      "|         4|        5|     WN|          12889|        13342|      90|      80|   1|\n",
      "|        25|        6|     UA|          10721|        12266|      -5|     -27|   0|\n",
      "+----------+---------+-------+---------------+-------------+--------+--------+----+\n",
      "only showing top 20 rows\n",
      "\n"
     ]
    }
   ],
   "source": [
    "flightSchema = StructType([\n",
    "  StructField(\"DayofMonth\", IntegerType(), False),\n",
    "  StructField(\"DayOfWeek\", IntegerType(), False),\n",
    "  StructField(\"Carrier\", StringType(), False),\n",
    "  StructField(\"OriginAirportID\", IntegerType(), False),\n",
    "  StructField(\"DestAirportID\", IntegerType(), False),\n",
    "  StructField(\"DepDelay\", IntegerType(), False),\n",
    "  StructField(\"ArrDelay\", IntegerType(), False),\n",
    "  StructField(\"Late\", IntegerType(), False),\n",
    "])\n",
    "\n",
    "data = spark.read.csv('../data/flights.csv', schema=flightSchema, header=True)\n",
    "data.show()"
   ]
  },
  {
   "cell_type": "markdown",
   "metadata": {},
   "source": [
    "### Split the Data\n",
    "It is common practice when building supervised machine learning models to split the source data, using some of it to train the model and reserving some to test the trained model. In this exercise, you will use 70% of the data for training, and reserve 30% for testing."
   ]
  },
  {
   "cell_type": "code",
   "execution_count": 6,
   "metadata": {},
   "outputs": [
    {
     "name": "stdout",
     "output_type": "stream",
     "text": [
      "Training Rows: 446182  Testing Rows: 190901\n"
     ]
    }
   ],
   "source": [
    "splits = data.randomSplit([0.7, 0.3])\n",
    "train = splits[0]\n",
    "test = splits[1]\n",
    "train_rows = train.count()\n",
    "test_rows = test.count()\n",
    "print (\"Training Rows:\", train_rows, \" Testing Rows:\", test_rows)"
   ]
  },
  {
   "cell_type": "markdown",
   "metadata": {},
   "source": [
    "### Prepare the Training Data\n",
    "To train the classification model, you need a training data set that includes a vector of numeric features, and a label column. In this exercise, you will use the **StringIndexer** class to generate a numeric category for each discrete **Carrier** string value, and then use the **VectorAssembler** class to transform the numeric features that would be available for a flight that hasn't yet arrived into a vector, and then rename the **Late** column to **label** as this is what we're going to try to predict.\n",
    "\n",
    "*Note: This is a deliberately simple example. In reality you'd likely perform mulitple data preparation steps, and later in this course we'll examine how to encapsulate these steps in to a pipeline. For now, we'll just use the numeric features as they are to define the training dataset.*"
   ]
  },
  {
   "cell_type": "code",
   "execution_count": 7,
   "metadata": {},
   "outputs": [
    {
     "name": "stdout",
     "output_type": "stream",
     "text": [
      "+--------------------+-----+\n",
      "|            features|label|\n",
      "+--------------------+-----+\n",
      "|[1.0,1.0,10.0,103...|    1|\n",
      "|[1.0,1.0,10.0,103...|    0|\n",
      "|[1.0,1.0,10.0,105...|    1|\n",
      "|[1.0,1.0,10.0,107...|    1|\n",
      "|[1.0,1.0,10.0,107...|    1|\n",
      "|[1.0,1.0,10.0,107...|    1|\n",
      "|[1.0,1.0,10.0,107...|    1|\n",
      "|[1.0,1.0,10.0,107...|    0|\n",
      "|[1.0,1.0,10.0,108...|    1|\n",
      "|[1.0,1.0,10.0,108...|    1|\n",
      "|[1.0,1.0,10.0,108...|    0|\n",
      "|[1.0,1.0,10.0,110...|    0|\n",
      "|[1.0,1.0,10.0,110...|    0|\n",
      "|[1.0,1.0,10.0,110...|    1|\n",
      "|[1.0,1.0,10.0,110...|    0|\n",
      "|[1.0,1.0,10.0,111...|    1|\n",
      "|[1.0,1.0,10.0,111...|    1|\n",
      "|[1.0,1.0,10.0,111...|    0|\n",
      "|[1.0,1.0,10.0,111...|    1|\n",
      "|[1.0,1.0,10.0,111...|    1|\n",
      "+--------------------+-----+\n",
      "only showing top 20 rows\n",
      "\n"
     ]
    }
   ],
   "source": [
    "# Carrier is a string, and we need our features to be numeric - so we'll generate a numeric index for each distinct carrier string, and transform the dataframe to add that as a column\n",
    "carrierIndexer = StringIndexer(inputCol=\"Carrier\", outputCol=\"CarrierIdx\")\n",
    "numTrain = carrierIndexer.fit(train).transform(train)\n",
    "\n",
    "# Now we'll assemble a vector of all the numeric feature columns (other than ArrDelay, which we wouldn't have for enroute flights)\n",
    "assembler = VectorAssembler(inputCols = [\"DayofMonth\", \"DayOfWeek\", \"CarrierIdx\", \"OriginAirportID\", \"DestAirportID\", \"DepDelay\"], outputCol=\"features\")\n",
    "training = assembler.transform(numTrain).select(col(\"features\"), col(\"Late\").alias(\"label\"))\n",
    "training.show()"
   ]
  },
  {
   "cell_type": "markdown",
   "metadata": {},
   "source": [
    "### Train a Classification Model\n",
    "Next, you need to train a classification model using the training data. To do this, create an instance of the classification algorithm you want to use and use its **fit** method to train a model based on the training dataframe. In this exercise, you will use a *Logistic Regression* classification algorithm - but you can use the same technique for any of the classification algorithms supported in the spark.ml API."
   ]
  },
  {
   "cell_type": "code",
   "execution_count": 8,
   "metadata": {},
   "outputs": [
    {
     "name": "stdout",
     "output_type": "stream",
     "text": [
      "Model trained!\n"
     ]
    }
   ],
   "source": [
    "lr = LogisticRegression(labelCol=\"label\",featuresCol=\"features\",maxIter=10,regParam=0.3)\n",
    "model = lr.fit(training)\n",
    "print (\"Model trained!\")"
   ]
  },
  {
   "cell_type": "markdown",
   "metadata": {},
   "source": [
    "### Prepare the Testing Data\n",
    "Now that you have a trained model, you can test it using the testing data you reserved previously. First, you need to prepare the testing data in the same way as you did the training data by transforming the feature columns into a vector. This time you'll rename the **Late** column to **trueLabel**."
   ]
  },
  {
   "cell_type": "code",
   "execution_count": 9,
   "metadata": {},
   "outputs": [
    {
     "name": "stdout",
     "output_type": "stream",
     "text": [
      "+--------------------+---------+\n",
      "|            features|trueLabel|\n",
      "+--------------------+---------+\n",
      "|[1.0,1.0,10.0,107...|        0|\n",
      "|[1.0,1.0,10.0,110...|        1|\n",
      "|[1.0,1.0,10.0,110...|        1|\n",
      "|[1.0,1.0,10.0,111...|        1|\n",
      "|[1.0,1.0,10.0,111...|        1|\n",
      "|[1.0,1.0,10.0,111...|        0|\n",
      "|[1.0,1.0,10.0,111...|        0|\n",
      "|[1.0,1.0,10.0,111...|        0|\n",
      "|[1.0,1.0,10.0,112...|        1|\n",
      "|[1.0,1.0,10.0,114...|        0|\n",
      "|[1.0,1.0,10.0,114...|        1|\n",
      "|[1.0,1.0,10.0,114...|        0|\n",
      "|[1.0,1.0,10.0,114...|        1|\n",
      "|[1.0,1.0,10.0,114...|        1|\n",
      "|[1.0,1.0,10.0,114...|        1|\n",
      "|[1.0,1.0,10.0,123...|        1|\n",
      "|[1.0,1.0,10.0,124...|        0|\n",
      "|[1.0,1.0,10.0,124...|        1|\n",
      "|[1.0,1.0,10.0,124...|        1|\n",
      "|[1.0,1.0,10.0,124...|        1|\n",
      "+--------------------+---------+\n",
      "only showing top 20 rows\n",
      "\n"
     ]
    }
   ],
   "source": [
    "# Transform the test data to add the numeric carrier index\n",
    "numTest = carrierIndexer.fit(test).transform(test)\n",
    "\n",
    "# Generate the features vector and label\n",
    "testing = assembler.transform(numTest).select(col(\"features\"), col(\"Late\").alias(\"trueLabel\"))\n",
    "testing.show()"
   ]
  },
  {
   "cell_type": "markdown",
   "metadata": {},
   "source": [
    "### Test the Model\n",
    "Now you're ready to use the **transform** method of the model to generate some predictions. You can use this approach to predict delay status for flights where the label is unknown; but in this case you are using the test data which includes a known true label value, so you can compare the predicted status to the actual status."
   ]
  },
  {
   "cell_type": "code",
   "execution_count": 10,
   "metadata": {},
   "outputs": [
    {
     "name": "stdout",
     "output_type": "stream",
     "text": [
      "+------------------------------------+----------------------------------------+----------+---------+\n",
      "|features                            |probability                             |prediction|trueLabel|\n",
      "+------------------------------------+----------------------------------------+----------+---------+\n",
      "|[1.0,1.0,10.0,10721.0,11193.0,-5.0] |[0.5906470971793083,0.40935290282069176]|0         |0        |\n",
      "|[1.0,1.0,10.0,11057.0,12478.0,31.0] |[0.4310504674371049,0.5689495325628952] |1         |1        |\n",
      "|[1.0,1.0,10.0,11057.0,12478.0,104.0]|[0.166136817949245,0.8338631820507549]  |1         |1        |\n",
      "|[1.0,1.0,10.0,11193.0,10529.0,16.0] |[0.4974853311138068,0.5025146688861932] |1         |1        |\n",
      "|[1.0,1.0,10.0,11193.0,10821.0,62.0] |[0.2993884409863616,0.7006115590136384] |1         |1        |\n",
      "|[1.0,1.0,10.0,11193.0,11618.0,20.0] |[0.48061079844947374,0.5193892015505263]|1         |0        |\n",
      "|[1.0,1.0,10.0,11193.0,13244.0,3.0]  |[0.560180371400626,0.4398196285993739]  |0         |0        |\n",
      "|[1.0,1.0,10.0,11193.0,13342.0,-3.0] |[0.5871474661749602,0.41285253382503995]|0         |0        |\n",
      "|[1.0,1.0,10.0,11278.0,13244.0,29.0] |[0.4422949988761668,0.5577050011238333] |1         |1        |\n",
      "|[1.0,1.0,10.0,11433.0,10423.0,-3.0] |[0.5848275126151222,0.4151724873848778] |0         |0        |\n",
      "|[1.0,1.0,10.0,11433.0,12264.0,22.0] |[0.47371143443447006,0.52628856556553]  |1         |1        |\n",
      "|[1.0,1.0,10.0,11433.0,13851.0,1.0]  |[0.5713165511016567,0.42868344889834326]|0         |0        |\n",
      "|[1.0,1.0,10.0,11433.0,13931.0,2.0]  |[0.5669315339764397,0.4330684660235603] |0         |1        |\n",
      "|[1.0,1.0,10.0,11433.0,14307.0,117.0]|[0.13789590767622575,0.8621040923237743]|1         |1        |\n",
      "|[1.0,1.0,10.0,11433.0,14524.0,52.0] |[0.34469592190234155,0.6553040780976584]|1         |1        |\n",
      "|[1.0,1.0,10.0,12339.0,11433.0,90.0] |[0.2087161109774149,0.7912838890225851] |1         |1        |\n",
      "|[1.0,1.0,10.0,12478.0,10721.0,-5.0] |[0.5999091555674209,0.40009084443257914]|0         |0        |\n",
      "|[1.0,1.0,10.0,12478.0,10721.0,-1.0] |[0.5822211296200552,0.41777887037994477]|0         |1        |\n",
      "|[1.0,1.0,10.0,12478.0,11278.0,84.0] |[0.2278540890534277,0.7721459109465723] |1         |1        |\n",
      "|[1.0,1.0,10.0,12478.0,13487.0,101.0]|[0.1794533685458234,0.8205466314541766] |1         |1        |\n",
      "|[1.0,1.0,10.0,13198.0,11433.0,-6.0] |[0.6091729740091755,0.3908270259908246] |0         |0        |\n",
      "|[1.0,1.0,10.0,13244.0,10423.0,-6.0] |[0.6081795009973272,0.39182049900267274]|0         |0        |\n",
      "|[1.0,1.0,10.0,13244.0,11278.0,44.0] |[0.38443791931873866,0.6155620806812614]|1         |1        |\n",
      "|[1.0,1.0,10.0,13487.0,11066.0,97.0] |[0.1921739019523798,0.8078260980476202] |1         |1        |\n",
      "|[1.0,1.0,10.0,13487.0,11193.0,-7.0] |[0.6148192014389599,0.3851807985610402] |0         |0        |\n",
      "|[1.0,1.0,10.0,13487.0,14122.0,-1.0] |[0.592191715108463,0.4078082848915369]  |0         |0        |\n",
      "|[1.0,1.0,10.0,13931.0,10721.0,49.0] |[0.3660640569309709,0.6339359430690291] |1         |1        |\n",
      "|[1.0,1.0,10.0,14100.0,12478.0,58.0] |[0.331643318225045,0.668356681774955]   |1         |1        |\n",
      "|[1.0,1.0,10.0,14307.0,11433.0,29.0] |[0.4574158798483227,0.5425841201516773] |1         |1        |\n",
      "|[1.0,1.0,10.0,14730.0,11433.0,-7.0] |[0.6219403965782062,0.37805960342179373]|0         |0        |\n",
      "|[1.0,1.0,10.0,14869.0,10423.0,36.0] |[0.4277613000362018,0.5722386999637983] |1         |1        |\n",
      "|[1.0,1.0,10.0,15304.0,14492.0,-9.0] |[0.6372902211863526,0.3627097788136475] |0         |0        |\n",
      "|[1.0,1.0,2.0,10397.0,13303.0,-5.0]  |[0.593345444492671,0.406654555507329]   |0         |0        |\n",
      "|[1.0,1.0,2.0,10721.0,13303.0,-8.0]  |[0.6083174982706031,0.39168250172939684]|0         |0        |\n",
      "|[1.0,1.0,2.0,10721.0,13303.0,41.0]  |[0.3878605097209871,0.6121394902790128] |1         |1        |\n",
      "|[1.0,1.0,2.0,11278.0,13303.0,3.0]   |[0.562654265853,0.4373457341469999]     |0         |1        |\n",
      "|[1.0,1.0,2.0,11278.0,13303.0,75.0]  |[0.2562688206269266,0.7437311793730733] |1         |1        |\n",
      "|[1.0,1.0,2.0,11298.0,10140.0,6.0]   |[0.5451517477713711,0.4548482522286289] |0         |0        |\n",
      "|[1.0,1.0,2.0,11298.0,10397.0,10.0]  |[0.5272842553563901,0.4727157446436099] |0         |0        |\n",
      "|[1.0,1.0,2.0,11298.0,10693.0,0.0]   |[0.5729147008701033,0.4270852991298966] |0         |0        |\n",
      "|[1.0,1.0,2.0,11298.0,11057.0,48.0]  |[0.35832983553375913,0.6416701644662408]|1         |1        |\n",
      "|[1.0,1.0,2.0,11298.0,11433.0,76.0]  |[0.25105583490196254,0.7489441650980375]|1         |1        |\n",
      "|[1.0,1.0,2.0,11298.0,11618.0,31.0]  |[0.4332366497781875,0.5667633502218126] |1         |1        |\n",
      "|[1.0,1.0,2.0,11298.0,12264.0,-4.0]  |[0.5926894566340779,0.40731054336592204]|0         |0        |\n",
      "|[1.0,1.0,2.0,11298.0,12266.0,0.0]   |[0.5749109552018209,0.42508904479817916]|0         |0        |\n",
      "|[1.0,1.0,2.0,11298.0,12451.0,83.0]  |[0.22867890170443309,0.7713210982955669]|1         |1        |\n",
      "|[1.0,1.0,2.0,11298.0,12889.0,34.0]  |[0.4214184989460464,0.5785815010539537] |1         |1        |\n",
      "|[1.0,1.0,2.0,11298.0,12953.0,44.0]  |[0.3776364924613755,0.6223635075386246] |1         |1        |\n",
      "|[1.0,1.0,2.0,11298.0,12953.0,55.0]  |[0.3316214066869056,0.6683785933130945] |1         |1        |\n",
      "|[1.0,1.0,2.0,11298.0,13204.0,127.0] |[0.11743451170860174,0.8825654882913982]|1         |1        |\n",
      "|[1.0,1.0,2.0,11298.0,13495.0,-1.0]  |[0.5809298791861031,0.4190701208138969] |0         |0        |\n",
      "|[1.0,1.0,2.0,11298.0,13851.0,44.0]  |[0.3787324273577228,0.6212675726422773] |1         |1        |\n",
      "|[1.0,1.0,2.0,11298.0,13891.0,3.0]   |[0.5635195333122988,0.43648046668770124]|0         |0        |\n",
      "|[1.0,1.0,2.0,11298.0,13891.0,65.0]  |[0.29339246221363535,0.7066075377863646]|1         |1        |\n",
      "|[1.0,1.0,2.0,11298.0,13930.0,-3.0]  |[0.5903575354101845,0.40964246458981546]|0         |0        |\n",
      "|[1.0,1.0,2.0,11298.0,13930.0,92.0]  |[0.20217032895418832,0.7978296710458117]|1         |1        |\n",
      "|[1.0,1.0,2.0,11298.0,14122.0,26.0]  |[0.4590476961622845,0.5409523038377155] |1         |1        |\n",
      "|[1.0,1.0,2.0,11298.0,14683.0,22.0]  |[0.477994971145907,0.522005028854093]   |1         |0        |\n",
      "|[1.0,1.0,2.0,11298.0,14831.0,6.0]   |[0.551181427223372,0.4488185727766279]  |0         |0        |\n",
      "|[1.0,1.0,2.0,11298.0,14893.0,56.0]  |[0.3297999731472794,0.6702000268527206] |1         |1        |\n",
      "|[1.0,1.0,2.0,11298.0,15376.0,5.0]   |[0.5564016328406627,0.44359836715933726]|0         |0        |\n",
      "|[1.0,1.0,2.0,11433.0,11298.0,69.0]  |[0.2763844288653069,0.7236155711346931] |1         |1        |\n",
      "|[1.0,1.0,2.0,11433.0,11298.0,107.0] |[0.1600630823062958,0.8399369176937043] |1         |1        |\n",
      "|[1.0,1.0,2.0,12451.0,11298.0,0.0]   |[0.5802328949877075,0.41976710501229253]|0         |0        |\n",
      "|[1.0,1.0,2.0,12478.0,12892.0,-5.0]  |[0.6044677652666162,0.39553223473338384]|0         |1        |\n",
      "|[1.0,1.0,2.0,12478.0,13303.0,0.0]   |[0.5829179162602649,0.41708208373973515]|0         |0        |\n",
      "|[1.0,1.0,2.0,12478.0,14771.0,-6.0]  |[0.6111537795253881,0.3888462204746119] |0         |1        |\n",
      "|[1.0,1.0,2.0,12478.0,14771.0,64.0]  |[0.3039337603323105,0.6960662396676894] |1         |1        |\n",
      "|[1.0,1.0,2.0,12889.0,11298.0,21.0]  |[0.4874237229055238,0.5125762770944762] |1         |0        |\n",
      "|[1.0,1.0,2.0,12889.0,12892.0,3.0]   |[0.5713362687006563,0.4286637312993436] |0         |0        |\n",
      "|[1.0,1.0,2.0,12892.0,12478.0,0.0]   |[0.5842191573593162,0.41578084264068377]|0         |1        |\n",
      "|[1.0,1.0,2.0,12892.0,12889.0,-2.0]  |[0.5935945323566012,0.4064054676433988] |0         |0        |\n",
      "|[1.0,1.0,2.0,12892.0,13930.0,-4.0]  |[0.6036846916301944,0.39631530836980555]|0         |1        |\n",
      "|[1.0,1.0,2.0,12892.0,14771.0,-4.0]  |[0.6047284337940222,0.39527156620597786]|0         |0        |\n",
      "|[1.0,1.0,2.0,12892.0,14771.0,65.0]  |[0.3021045572157061,0.6978954427842939] |1         |1        |\n",
      "|[1.0,1.0,2.0,12953.0,11298.0,63.0]  |[0.30633583842367906,0.693664161576321] |1         |1        |\n",
      "|[1.0,1.0,2.0,12953.0,13303.0,-1.0]  |[0.5900365172719192,0.40996348272808086]|0         |1        |\n",
      "|[1.0,1.0,2.0,12953.0,13930.0,-4.0]  |[0.6040243294054428,0.3959756705945572] |0         |1        |\n",
      "|[1.0,1.0,2.0,12953.0,13930.0,62.0]  |[0.31316810394030137,0.6868318960596986]|1         |1        |\n",
      "|[1.0,1.0,2.0,12953.0,13930.0,86.0]  |[0.22714887806325218,0.7728511219367479]|1         |1        |\n",
      "|[1.0,1.0,2.0,13198.0,13930.0,41.0]  |[0.4024163469651208,0.5975836530348791] |1         |1        |\n",
      "|[1.0,1.0,2.0,13204.0,11298.0,-4.0]  |[0.6021531138527862,0.39784688614721375]|0         |0        |\n",
      "|[1.0,1.0,2.0,13204.0,12478.0,12.0]  |[0.5319101138814682,0.4680898861185318] |0         |0        |\n",
      "|[1.0,1.0,2.0,13204.0,13303.0,7.0]   |[0.5556636592177504,0.4443363407822496] |0         |0        |\n",
      "|[1.0,1.0,2.0,13204.0,13303.0,9.0]   |[0.5466110454251218,0.4533889545748782] |0         |1        |\n",
      "|[1.0,1.0,2.0,13204.0,13303.0,21.0]  |[0.49185608019881183,0.5081439198011881]|1         |1        |\n",
      "|[1.0,1.0,2.0,13303.0,10721.0,137.0] |[0.10283239934463281,0.8971676006553673]|1         |1        |\n",
      "|[1.0,1.0,2.0,13303.0,10821.0,-5.0]  |[0.6064873013659728,0.3935126986340272] |0         |0        |\n",
      "|[1.0,1.0,2.0,13303.0,10821.0,-3.0]  |[0.5977205101217558,0.4022794898782442] |0         |0        |\n",
      "|[1.0,1.0,2.0,13303.0,11298.0,115.0] |[0.14671387025055949,0.8532861297494405]|1         |1        |\n",
      "|[1.0,1.0,2.0,13303.0,11618.0,-3.0]  |[0.5987146595082412,0.4012853404917588] |0         |0        |\n",
      "|[1.0,1.0,2.0,13303.0,12892.0,14.0]  |[0.5238999509442536,0.47610004905574643]|0         |1        |\n",
      "|[1.0,1.0,2.0,13303.0,12892.0,29.0]  |[0.4554225837730383,0.5445774162269617] |1         |0        |\n",
      "|[1.0,1.0,2.0,13303.0,12892.0,74.0]  |[0.26851781385992746,0.7314821861400725]|1         |1        |\n",
      "|[1.0,1.0,2.0,13303.0,12892.0,134.0] |[0.10909838276845339,0.8909016172315466]|1         |1        |\n",
      "|[1.0,1.0,2.0,13303.0,12953.0,65.0]  |[0.3021322479941447,0.6978677520058553] |1         |1        |\n",
      "|[1.0,1.0,2.0,13303.0,12953.0,86.0]  |[0.22768934354751613,0.772310656452484] |1         |1        |\n",
      "|[1.0,1.0,2.0,13303.0,13204.0,-3.0]  |[0.6006905578408968,0.3993094421591032] |0         |0        |\n",
      "|[1.0,1.0,2.0,13303.0,13204.0,14.0]  |[0.5243038080019159,0.47569619199808416]|0         |0        |\n",
      "|[1.0,1.0,2.0,13303.0,13204.0,28.0]  |[0.4603663151905635,0.5396336848094365] |1         |1        |\n",
      "+------------------------------------+----------------------------------------+----------+---------+\n",
      "only showing top 100 rows\n",
      "\n"
     ]
    }
   ],
   "source": [
    "prediction = model.transform(testing)\n",
    "predicted = prediction.select(\"features\", \"probability\", col(\"prediction\").cast(\"Int\"), \"trueLabel\")\n",
    "predicted.show(100, truncate=False)"
   ]
  },
  {
   "cell_type": "markdown",
   "metadata": {},
   "source": [
    "Looking at the result, the **prediction** column contains the predicted value for the label, and the **trueLabel** column contains the actual known value from the testing data. The **probability** column shows the probability score for each class (0 or 1). It looks like there are a mix of correct and incorrect predictions, and the ones that are incorrect tend to have fairly close probabilities for each class. Later in this course you'll learn how to measure the accuracy of a model."
   ]
  }
 ],
 "metadata": {
  "kernelspec": {
   "display_name": "Python 3",
   "language": "python",
   "name": "python3"
  },
  "language_info": {
   "codemirror_mode": {
    "name": "ipython",
    "version": 3
   },
   "file_extension": ".py",
   "mimetype": "text/x-python",
   "name": "python",
   "nbconvert_exporter": "python",
   "pygments_lexer": "ipython3",
   "version": "3.7.3"
  },
  "name": "Python Classification",
  "notebookId": 342710160787076
 },
 "nbformat": 4,
 "nbformat_minor": 4
}
