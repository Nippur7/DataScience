{
 "cells": [
  {
   "cell_type": "markdown",
   "metadata": {},
   "source": [
    "## Collaborative Filtering\n",
    "Collaborative filtering is a machine learning technique that predicts ratings awarded to items by users.\n",
    "\n",
    "### Import the ALS class\n",
    "In this exercise, you will use the Alternating Least Squares collaborative filtering algorithm to creater a recommender."
   ]
  },
  {
   "cell_type": "code",
   "execution_count": 1,
   "metadata": {},
   "outputs": [],
   "source": [
    "from pyspark.sql import SparkSession\n",
    "\n",
    "spark = SparkSession.\\\n",
    "        builder.\\\n",
    "        appName(\"pyspark-notebook\").\\\n",
    "        master(\"spark://spark-master:7077\").\\\n",
    "        config(\"spark.executor.memory\", \"4098m\").\\\n",
    "        getOrCreate()"
   ]
  },
  {
   "cell_type": "code",
   "execution_count": 2,
   "metadata": {
    "collapsed": false,
    "jupyter": {
     "outputs_hidden": false
    }
   },
   "outputs": [],
   "source": [
    "from pyspark.ml.recommendation import ALS"
   ]
  },
  {
   "cell_type": "markdown",
   "metadata": {},
   "source": [
    "### Load Source Data\n",
    "The source data for the recommender is in two files - one containing numeric IDs for movies and users, along with user ratings; and the other containing details of the movies."
   ]
  },
  {
   "cell_type": "code",
   "execution_count": 3,
   "metadata": {
    "collapsed": false,
    "jupyter": {
     "outputs_hidden": false
    }
   },
   "outputs": [
    {
     "name": "stdout",
     "output_type": "stream",
     "text": [
      "+-------+------+------+----------+--------------------+--------------------+\n",
      "|movieId|userId|rating| timestamp|               title|              genres|\n",
      "+-------+------+------+----------+--------------------+--------------------+\n",
      "|     31|     1|   2.5|1260759144|Dangerous Minds (...|               Drama|\n",
      "|   1029|     1|   3.0|1260759179|        Dumbo (1941)|Animation|Childre...|\n",
      "|   1061|     1|   3.0|1260759182|     Sleepers (1996)|            Thriller|\n",
      "|   1129|     1|   2.0|1260759185|Escape from New Y...|Action|Adventure|...|\n",
      "|   1172|     1|   4.0|1260759205|Cinema Paradiso (...|               Drama|\n",
      "|   1263|     1|   2.0|1260759151|Deer Hunter, The ...|           Drama|War|\n",
      "|   1287|     1|   2.0|1260759187|      Ben-Hur (1959)|Action|Adventure|...|\n",
      "|   1293|     1|   2.0|1260759148|       Gandhi (1982)|               Drama|\n",
      "|   1339|     1|   3.5|1260759125|Dracula (Bram Sto...|Fantasy|Horror|Ro...|\n",
      "|   1343|     1|   2.0|1260759131|    Cape Fear (1991)|            Thriller|\n",
      "|   1371|     1|   2.5|1260759135|Star Trek: The Mo...|    Adventure|Sci-Fi|\n",
      "|   1405|     1|   1.0|1260759203|Beavis and Butt-H...|Adventure|Animati...|\n",
      "|   1953|     1|   4.0|1260759191|French Connection...|Action|Crime|Thri...|\n",
      "|   2105|     1|   4.0|1260759139|         Tron (1982)|Action|Adventure|...|\n",
      "|   2150|     1|   3.0|1260759194|Gods Must Be Craz...|    Adventure|Comedy|\n",
      "|   2193|     1|   2.0|1260759198|       Willow (1988)|Action|Adventure|...|\n",
      "|   2294|     1|   2.0|1260759108|         Antz (1998)|Adventure|Animati...|\n",
      "|   2455|     1|   2.5|1260759113|     Fly, The (1986)|Drama|Horror|Sci-...|\n",
      "|   2968|     1|   1.0|1260759200| Time Bandits (1981)|Adventure|Comedy|...|\n",
      "|   3671|     1|   3.0|1260759117|Blazing Saddles (...|      Comedy|Western|\n",
      "+-------+------+------+----------+--------------------+--------------------+\n",
      "only showing top 20 rows\n",
      "\n"
     ]
    }
   ],
   "source": [
    "ratings = spark.read.csv('../data/ratings.csv', inferSchema=True, header=True)\n",
    "movies = spark.read.csv('../data/movies.csv', inferSchema=True, header=True)\n",
    "ratings.join(movies, \"movieId\").show()"
   ]
  },
  {
   "cell_type": "markdown",
   "metadata": {},
   "source": [
    "### Prepare the Data\n",
    "To prepare the data, split it into a training set and a test set."
   ]
  },
  {
   "cell_type": "code",
   "execution_count": 4,
   "metadata": {
    "collapsed": false,
    "jupyter": {
     "outputs_hidden": false
    }
   },
   "outputs": [
    {
     "name": "stdout",
     "output_type": "stream",
     "text": [
      "Training Rows: 69924  Testing Rows: 30080\n"
     ]
    }
   ],
   "source": [
    "data = ratings.select(\"userId\", \"movieId\", \"rating\")\n",
    "splits = data.randomSplit([0.7, 0.3])\n",
    "train = splits[0].withColumnRenamed(\"rating\", \"label\")\n",
    "test = splits[1].withColumnRenamed(\"rating\", \"trueLabel\")\n",
    "train_rows = train.count()\n",
    "test_rows = test.count()\n",
    "print (\"Training Rows:\", train_rows, \" Testing Rows:\", test_rows)"
   ]
  },
  {
   "cell_type": "markdown",
   "metadata": {},
   "source": [
    "### Build the Recommender\n",
    "The ALS class is an estimator, so you can use its **fit** method to traing a model, or you can include it in a pipeline. Rather than specifying a feature vector and as label, the ALS algorithm requries a numeric user ID, item ID, and rating."
   ]
  },
  {
   "cell_type": "code",
   "execution_count": 5,
   "metadata": {
    "collapsed": false,
    "jupyter": {
     "outputs_hidden": false
    }
   },
   "outputs": [],
   "source": [
    "als = ALS(maxIter=5, regParam=0.01, userCol=\"userId\", itemCol=\"movieId\", ratingCol=\"label\")\n",
    "model = als.fit(train)"
   ]
  },
  {
   "cell_type": "markdown",
   "metadata": {},
   "source": [
    "### Test the Recommender\n",
    "Now that you've trained the recommender, you can see how accurately it predicts known ratings in the test set."
   ]
  },
  {
   "cell_type": "code",
   "execution_count": 6,
   "metadata": {
    "collapsed": false,
    "jupyter": {
     "outputs_hidden": false
    }
   },
   "outputs": [
    {
     "name": "stdout",
     "output_type": "stream",
     "text": [
      "+------+--------------------------------+----------+---------+\n",
      "|userId|title                           |prediction|trueLabel|\n",
      "+------+--------------------------------+----------+---------+\n",
      "|311   |Guilty as Sin (1993)            |2.34709   |3.0      |\n",
      "|350   |Hudsucker Proxy, The (1994)     |2.9980416 |3.0      |\n",
      "|602   |Hudsucker Proxy, The (1994)     |3.804083  |3.0      |\n",
      "|274   |Hudsucker Proxy, The (1994)     |5.1206326 |5.0      |\n",
      "|86    |Hudsucker Proxy, The (1994)     |4.010876  |4.0      |\n",
      "|299   |Hudsucker Proxy, The (1994)     |3.50047   |4.5      |\n",
      "|15    |Hudsucker Proxy, The (1994)     |3.2579923 |3.0      |\n",
      "|659   |Hudsucker Proxy, The (1994)     |3.6185193 |4.0      |\n",
      "|23    |Hudsucker Proxy, The (1994)     |3.8635352 |3.5      |\n",
      "|380   |Hudsucker Proxy, The (1994)     |4.2810564 |4.0      |\n",
      "|624   |Hudsucker Proxy, The (1994)     |3.871838  |4.0      |\n",
      "|649   |Hudsucker Proxy, The (1994)     |4.4429846 |3.0      |\n",
      "|102   |Hudsucker Proxy, The (1994)     |3.7718894 |5.0      |\n",
      "|73    |Hudsucker Proxy, The (1994)     |4.156151  |4.0      |\n",
      "|195   |Hudsucker Proxy, The (1994)     |2.6920083 |3.0      |\n",
      "|508   |Hudsucker Proxy, The (1994)     |4.531895  |4.0      |\n",
      "|30    |Hudsucker Proxy, The (1994)     |3.7323267 |4.0      |\n",
      "|311   |Hudsucker Proxy, The (1994)     |2.2451055 |0.5      |\n",
      "|468   |Hudsucker Proxy, The (1994)     |2.8892775 |4.0      |\n",
      "|509   |What Happened Was... (1994)     |1.434261  |3.0      |\n",
      "|463   |Dirty Dancing (1987)            |3.1799614 |3.0      |\n",
      "|580   |Dirty Dancing (1987)            |2.3829248 |3.0      |\n",
      "|52    |Dirty Dancing (1987)            |2.9846196 |4.0      |\n",
      "|500   |Dirty Dancing (1987)            |3.8269296 |4.0      |\n",
      "|54    |Dirty Dancing (1987)            |2.7730527 |5.0      |\n",
      "|262   |Dirty Dancing (1987)            |1.7523198 |2.0      |\n",
      "|547   |Dirty Dancing (1987)            |3.2623131 |5.0      |\n",
      "|264   |Dirty Dancing (1987)            |5.080867  |4.0      |\n",
      "|509   |Dirty Dancing (1987)            |2.7906802 |2.0      |\n",
      "|518   |Dirty Dancing (1987)            |3.211981  |4.0      |\n",
      "|160   |Dirty Dancing (1987)            |4.0776997 |4.0      |\n",
      "|213   |Dirty Dancing (1987)            |2.2622223 |3.0      |\n",
      "|370   |Dirty Dancing (1987)            |4.226778  |3.0      |\n",
      "|575   |Dirty Dancing (1987)            |3.070505  |3.0      |\n",
      "|187   |Dirty Dancing (1987)            |4.279771  |4.0      |\n",
      "|105   |Local Hero (1983)               |3.7327528 |4.0      |\n",
      "|373   |Local Hero (1983)               |4.0462832 |4.0      |\n",
      "|529   |Local Hero (1983)               |3.353918  |4.0      |\n",
      "|19    |Candyman (1992)                 |2.755423  |3.0      |\n",
      "|15    |Candyman (1992)                 |3.8746727 |2.0      |\n",
      "|564   |Candyman (1992)                 |2.3397303 |5.0      |\n",
      "|119   |Candyman (1992)                 |2.8789744 |2.0      |\n",
      "|148   |Men in Black (a.k.a. MIB) (1997)|3.9334393 |4.0      |\n",
      "|251   |Men in Black (a.k.a. MIB) (1997)|4.1320806 |5.0      |\n",
      "|53    |Men in Black (a.k.a. MIB) (1997)|3.8325381 |3.0      |\n",
      "|472   |Men in Black (a.k.a. MIB) (1997)|4.234515  |5.0      |\n",
      "|155   |Men in Black (a.k.a. MIB) (1997)|3.5605953 |5.0      |\n",
      "|211   |Men in Black (a.k.a. MIB) (1997)|4.129052  |3.0      |\n",
      "|530   |Men in Black (a.k.a. MIB) (1997)|3.5486403 |5.0      |\n",
      "|501   |Men in Black (a.k.a. MIB) (1997)|3.8028958 |4.0      |\n",
      "|384   |Men in Black (a.k.a. MIB) (1997)|3.649998  |4.0      |\n",
      "|159   |Men in Black (a.k.a. MIB) (1997)|3.3047912 |3.5      |\n",
      "|417   |Men in Black (a.k.a. MIB) (1997)|3.1495821 |4.0      |\n",
      "|285   |Men in Black (a.k.a. MIB) (1997)|3.3167362 |4.0      |\n",
      "|330   |Men in Black (a.k.a. MIB) (1997)|2.3911126 |4.0      |\n",
      "|346   |Men in Black (a.k.a. MIB) (1997)|2.584762  |3.5      |\n",
      "|177   |Men in Black (a.k.a. MIB) (1997)|4.0151243 |4.0      |\n",
      "|665   |Men in Black (a.k.a. MIB) (1997)|3.7897239 |4.0      |\n",
      "|185   |Men in Black (a.k.a. MIB) (1997)|3.4286988 |4.0      |\n",
      "|164   |Men in Black (a.k.a. MIB) (1997)|3.539136  |3.5      |\n",
      "|500   |Men in Black (a.k.a. MIB) (1997)|2.1207354 |0.5      |\n",
      "|479   |Men in Black (a.k.a. MIB) (1997)|2.7773614 |4.5      |\n",
      "|94    |Men in Black (a.k.a. MIB) (1997)|3.1829574 |3.0      |\n",
      "|582   |Men in Black (a.k.a. MIB) (1997)|3.3651514 |4.0      |\n",
      "|292   |Men in Black (a.k.a. MIB) (1997)|4.165727  |3.5      |\n",
      "|306   |Men in Black (a.k.a. MIB) (1997)|3.2058165 |4.0      |\n",
      "|120   |Men in Black (a.k.a. MIB) (1997)|3.6638234 |4.0      |\n",
      "|646   |Men in Black (a.k.a. MIB) (1997)|3.9118562 |5.0      |\n",
      "|598   |Men in Black (a.k.a. MIB) (1997)|3.6577942 |3.0      |\n",
      "|15    |Men in Black (a.k.a. MIB) (1997)|2.1926942 |4.0      |\n",
      "|502   |Men in Black (a.k.a. MIB) (1997)|4.1254287 |4.0      |\n",
      "|523   |Men in Black (a.k.a. MIB) (1997)|4.195137  |4.0      |\n",
      "|197   |Men in Black (a.k.a. MIB) (1997)|5.35586   |5.0      |\n",
      "|531   |Men in Black (a.k.a. MIB) (1997)|2.857208  |3.0      |\n",
      "|263   |Men in Black (a.k.a. MIB) (1997)|3.2720063 |4.0      |\n",
      "|381   |Men in Black (a.k.a. MIB) (1997)|4.5042815 |4.0      |\n",
      "|173   |Men in Black (a.k.a. MIB) (1997)|4.285961  |4.0      |\n",
      "|176   |Men in Black (a.k.a. MIB) (1997)|3.0799384 |2.5      |\n",
      "|624   |Men in Black (a.k.a. MIB) (1997)|3.5485759 |4.0      |\n",
      "|627   |Men in Black (a.k.a. MIB) (1997)|3.1227756 |3.0      |\n",
      "|664   |Men in Black (a.k.a. MIB) (1997)|3.9924362 |4.0      |\n",
      "|585   |Men in Black (a.k.a. MIB) (1997)|3.5939293 |3.0      |\n",
      "|428   |Men in Black (a.k.a. MIB) (1997)|3.0034914 |4.0      |\n",
      "|97    |Men in Black (a.k.a. MIB) (1997)|1.7007585 |2.5      |\n",
      "|533   |Men in Black (a.k.a. MIB) (1997)|3.3898907 |3.0      |\n",
      "|239   |Men in Black (a.k.a. MIB) (1997)|4.078124  |4.0      |\n",
      "|518   |Men in Black (a.k.a. MIB) (1997)|3.536968  |5.0      |\n",
      "|404   |Men in Black (a.k.a. MIB) (1997)|4.0256214 |4.0      |\n",
      "|576   |Men in Black (a.k.a. MIB) (1997)|2.7904587 |4.0      |\n",
      "|351   |Men in Black (a.k.a. MIB) (1997)|4.743934  |5.0      |\n",
      "|477   |Men in Black (a.k.a. MIB) (1997)|3.2427611 |4.0      |\n",
      "|653   |Men in Black (a.k.a. MIB) (1997)|4.197478  |5.0      |\n",
      "|382   |Men in Black (a.k.a. MIB) (1997)|2.522119  |3.0      |\n",
      "|621   |Men in Black (a.k.a. MIB) (1997)|3.6249056 |5.0      |\n",
      "|228   |Men in Black (a.k.a. MIB) (1997)|3.631969  |5.0      |\n",
      "|150   |Men in Black (a.k.a. MIB) (1997)|3.335816  |2.5      |\n",
      "|68    |Men in Black (a.k.a. MIB) (1997)|3.6505563 |4.0      |\n",
      "|199   |Men in Black (a.k.a. MIB) (1997)|3.6988685 |4.0      |\n",
      "|119   |Men in Black (a.k.a. MIB) (1997)|3.0901685 |4.0      |\n",
      "|118   |Men in Black (a.k.a. MIB) (1997)|3.9231522 |4.0      |\n",
      "+------+--------------------------------+----------+---------+\n",
      "only showing top 100 rows\n",
      "\n"
     ]
    }
   ],
   "source": [
    "prediction = model.transform(test)\n",
    "prediction.join(movies, \"movieId\").select(\"userId\", \"title\", \"prediction\", \"trueLabel\").show(100, truncate=False)"
   ]
  },
  {
   "cell_type": "markdown",
   "metadata": {},
   "source": [
    "The data used in this exercise describes 5-star rating activity from [MovieLens](http://movielens.org), a movie recommendation service. It was created by GroupLens, a research group in the Department of Computer Science and Engineering at the University of Minnesota, and is used here with permission.\n",
    "\n",
    "This dataset and other GroupLens data sets are publicly available for download at <http://grouplens.org/datasets/>.\n",
    "\n",
    "For more information, see F. Maxwell Harper and Joseph A. Konstan. 2015. [The MovieLens Datasets: History and Context. ACM Transactions on Interactive Intelligent Systems (TiiS) 5, 4, Article 19 (December 2015)](http://dx.doi.org/10.1145/2827872)"
   ]
  }
 ],
 "metadata": {
  "kernelspec": {
   "display_name": "Python 3",
   "language": "python",
   "name": "python3"
  },
  "language_info": {
   "codemirror_mode": {
    "name": "ipython",
    "version": 3
   },
   "file_extension": ".py",
   "mimetype": "text/x-python",
   "name": "python",
   "nbconvert_exporter": "python",
   "pygments_lexer": "ipython3",
   "version": "3.7.3"
  },
  "name": "Python Recommender",
  "notebookId": 3378903555804655
 },
 "nbformat": 4,
 "nbformat_minor": 4
}
